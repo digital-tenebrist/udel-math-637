{
 "cells": [
  {
   "cell_type": "markdown",
   "id": "certain-lingerie",
   "metadata": {},
   "source": [
    "# Problem 1\n",
    "\n",
    "1. Fix s = 1 and let ε ∼ N (0, s^2 ·I_n ). \n",
    "2. Determine E[ ||ε|| ] as a function of s^2 and n. \n",
    "\n",
    "You can do this however you like (besides looking it up): analytically by deriving the answer, or estimating numerically using a computer for various values of the variables and plotting the result as a heatmap or multiple line plots. \n",
    "\n",
    "Indeed, I encourage you to try both, even if you already know the answer. In the numerical case, think about the confidence interval of your computation and try to justify how certain you are of the answer for each n.\n",
    "\n",
    "### Imports And Global Constants"
   ]
  },
  {
   "cell_type": "code",
   "execution_count": 1,
   "id": "eight-track",
   "metadata": {},
   "outputs": [],
   "source": [
    "import numpy as np\n",
    "import pandas as pd\n",
    "import matplotlib.pyplot as plt\n",
    "import seaborn as sb\n",
    "\n",
    "N_SAMPLES=10000"
   ]
  },
  {
   "cell_type": "markdown",
   "id": "dramatic-muscle",
   "metadata": {},
   "source": [
    "### Import utility module"
   ]
  },
  {
   "cell_type": "code",
   "execution_count": 2,
   "id": "german-bangkok",
   "metadata": {},
   "outputs": [],
   "source": [
    "import sci_kit_learn_utils.utils as scu"
   ]
  },
  {
   "cell_type": "markdown",
   "id": "desirable-profit",
   "metadata": {},
   "source": [
    "### Calculate Distance - Store as tuple(dimension,variance,distance)"
   ]
  },
  {
   "cell_type": "code",
   "execution_count": 35,
   "id": "great-burden",
   "metadata": {},
   "outputs": [
    {
     "name": "stdout",
     "output_type": "stream",
     "text": [
      "DIMENSION : 2\n",
      "  Var: 0.010 Dist: 0.1876\n",
      "  Var: 0.040 Dist: 0.3755\n",
      "  Var: 0.090 Dist: 0.5664\n",
      "  Var: 0.160 Dist: 0.7503\n",
      "  Var: 0.250 Dist: 0.9438\n",
      "  Var: 0.360 Dist: 1.1302\n",
      "  Var: 0.490 Dist: 1.3127\n",
      "  Var: 0.640 Dist: 1.5007\n",
      "  Var: 0.810 Dist: 1.6976\n",
      "  Var: 1.000 Dist: 1.8804\n",
      "  Var: 1.210 Dist: 2.0705\n",
      "  Var: 1.440 Dist: 2.2596\n",
      "  Var: 1.690 Dist: 2.4417\n",
      "  Var: 1.960 Dist: 2.6294\n",
      "  Var: 2.250 Dist: 2.8172\n",
      "  Var: 2.560 Dist: 3.0147\n",
      "  Var: 2.890 Dist: 3.1904\n",
      "  Var: 3.240 Dist: 3.3825\n",
      "  Var: 3.610 Dist: 3.5669\n",
      "  Var: 4.000 Dist: 3.7393\n",
      "DIMENSION : 3\n",
      "  Var: 0.010 Dist: 0.2928\n",
      "  Var: 0.040 Dist: 0.5828\n",
      "  Var: 0.090 Dist: 0.8753\n",
      "  Var: 0.160 Dist: 1.1700\n",
      "  Var: 0.250 Dist: 1.4596\n",
      "  Var: 0.360 Dist: 1.7568\n",
      "  Var: 0.490 Dist: 2.0448\n",
      "  Var: 0.640 Dist: 2.3302\n",
      "  Var: 0.810 Dist: 2.6240\n",
      "  Var: 1.000 Dist: 2.9108\n",
      "  Var: 1.210 Dist: 3.2033\n",
      "  Var: 1.440 Dist: 3.4967\n",
      "  Var: 1.690 Dist: 3.8165\n",
      "  Var: 1.960 Dist: 4.0772\n",
      "  Var: 2.250 Dist: 4.3673\n",
      "  Var: 2.560 Dist: 4.6694\n",
      "  Var: 2.890 Dist: 4.9644\n",
      "  Var: 3.240 Dist: 5.2484\n",
      "  Var: 3.610 Dist: 5.5515\n",
      "  Var: 4.000 Dist: 5.8178\n",
      "DIMENSION : 4\n",
      "  Var: 0.010 Dist: 0.3942\n",
      "  Var: 0.040 Dist: 0.7865\n",
      "  Var: 0.090 Dist: 1.1831\n",
      "  Var: 0.160 Dist: 1.5756\n",
      "  Var: 0.250 Dist: 1.9664\n",
      "  Var: 0.360 Dist: 2.3622\n",
      "  Var: 0.490 Dist: 2.7508\n",
      "  Var: 0.640 Dist: 3.1551\n",
      "  Var: 0.810 Dist: 3.5478\n",
      "  Var: 1.000 Dist: 3.9426\n",
      "  Var: 1.210 Dist: 4.3226\n",
      "  Var: 1.440 Dist: 4.7158\n",
      "  Var: 1.690 Dist: 5.0984\n",
      "  Var: 1.960 Dist: 5.5129\n",
      "  Var: 2.250 Dist: 5.9203\n",
      "  Var: 2.560 Dist: 6.2913\n",
      "  Var: 2.890 Dist: 6.6995\n",
      "  Var: 3.240 Dist: 7.0848\n",
      "  Var: 3.610 Dist: 7.4549\n",
      "  Var: 4.000 Dist: 7.8786\n",
      "DIMENSION : 5\n",
      "  Var: 0.010 Dist: 0.4953\n",
      "  Var: 0.040 Dist: 0.9927\n",
      "  Var: 0.090 Dist: 1.4846\n",
      "  Var: 0.160 Dist: 1.9819\n",
      "  Var: 0.250 Dist: 2.4724\n",
      "  Var: 0.360 Dist: 2.9717\n",
      "  Var: 0.490 Dist: 3.4685\n",
      "  Var: 0.640 Dist: 3.9474\n",
      "  Var: 0.810 Dist: 4.4604\n",
      "  Var: 1.000 Dist: 4.9659\n",
      "  Var: 1.210 Dist: 5.4374\n",
      "  Var: 1.440 Dist: 5.9424\n",
      "  Var: 1.690 Dist: 6.4358\n",
      "  Var: 1.960 Dist: 6.9260\n",
      "  Var: 2.250 Dist: 7.4212\n",
      "  Var: 2.560 Dist: 7.9200\n",
      "  Var: 2.890 Dist: 8.4068\n",
      "  Var: 3.240 Dist: 8.9174\n",
      "  Var: 3.610 Dist: 9.4281\n",
      "  Var: 4.000 Dist: 9.9116\n",
      "DIMENSION : 6\n",
      "  Var: 0.010 Dist: 0.5959\n",
      "  Var: 0.040 Dist: 1.1936\n",
      "  Var: 0.090 Dist: 1.7884\n",
      "  Var: 0.160 Dist: 2.3884\n",
      "  Var: 0.250 Dist: 2.9783\n",
      "  Var: 0.360 Dist: 3.5793\n",
      "  Var: 0.490 Dist: 4.1690\n",
      "  Var: 0.640 Dist: 4.7697\n",
      "  Var: 0.810 Dist: 5.3637\n",
      "  Var: 1.000 Dist: 5.9568\n",
      "  Var: 1.210 Dist: 6.5624\n",
      "  Var: 1.440 Dist: 7.1547\n",
      "  Var: 1.690 Dist: 7.7390\n",
      "  Var: 1.960 Dist: 8.3389\n",
      "  Var: 2.250 Dist: 8.9323\n",
      "  Var: 2.560 Dist: 9.5432\n",
      "  Var: 2.890 Dist: 10.1391\n",
      "  Var: 3.240 Dist: 10.7359\n",
      "  Var: 3.610 Dist: 11.3255\n",
      "  Var: 4.000 Dist: 11.9018\n",
      "DIMENSION : 7\n",
      "  Var: 0.010 Dist: 0.6975\n",
      "  Var: 0.040 Dist: 1.3939\n",
      "  Var: 0.090 Dist: 2.0893\n",
      "  Var: 0.160 Dist: 2.7841\n",
      "  Var: 0.250 Dist: 3.4874\n",
      "  Var: 0.360 Dist: 4.1814\n",
      "  Var: 0.490 Dist: 4.8758\n",
      "  Var: 0.640 Dist: 5.5752\n",
      "  Var: 0.810 Dist: 6.2706\n",
      "  Var: 1.000 Dist: 6.9494\n",
      "  Var: 1.210 Dist: 7.6562\n",
      "  Var: 1.440 Dist: 8.3541\n",
      "  Var: 1.690 Dist: 9.0571\n",
      "  Var: 1.960 Dist: 9.7514\n",
      "  Var: 2.250 Dist: 10.4277\n",
      "  Var: 2.560 Dist: 11.1463\n",
      "  Var: 2.890 Dist: 11.8449\n",
      "  Var: 3.240 Dist: 12.5503\n",
      "  Var: 3.610 Dist: 13.2287\n",
      "  Var: 4.000 Dist: 13.9574\n",
      "DIMENSION : 8\n",
      "  Var: 0.010 Dist: 0.7976\n",
      "  Var: 0.040 Dist: 1.5925\n",
      "  Var: 0.090 Dist: 2.3908\n",
      "  Var: 0.160 Dist: 3.1861\n",
      "  Var: 0.250 Dist: 3.9779\n",
      "  Var: 0.360 Dist: 4.7747\n",
      "  Var: 0.490 Dist: 5.5834\n",
      "  Var: 0.640 Dist: 6.3786\n",
      "  Var: 0.810 Dist: 7.1661\n",
      "  Var: 1.000 Dist: 7.9617\n",
      "  Var: 1.210 Dist: 8.7701\n",
      "  Var: 1.440 Dist: 9.5563\n",
      "  Var: 1.690 Dist: 10.3541\n",
      "  Var: 1.960 Dist: 11.1710\n",
      "  Var: 2.250 Dist: 11.9366\n",
      "  Var: 2.560 Dist: 12.7745\n",
      "  Var: 2.890 Dist: 13.5485\n",
      "  Var: 3.240 Dist: 14.3207\n",
      "  Var: 3.610 Dist: 15.1153\n",
      "  Var: 4.000 Dist: 15.9616\n",
      "DIMENSION : 9\n",
      "  Var: 0.010 Dist: 0.8970\n",
      "  Var: 0.040 Dist: 1.7959\n",
      "  Var: 0.090 Dist: 2.6937\n",
      "  Var: 0.160 Dist: 3.5878\n",
      "  Var: 0.250 Dist: 4.4804\n",
      "  Var: 0.360 Dist: 5.3808\n",
      "  Var: 0.490 Dist: 6.2831\n",
      "  Var: 0.640 Dist: 7.1826\n",
      "  Var: 0.810 Dist: 8.0673\n",
      "  Var: 1.000 Dist: 8.9711\n",
      "  Var: 1.210 Dist: 9.8764\n",
      "  Var: 1.440 Dist: 10.7805\n",
      "  Var: 1.690 Dist: 11.6744\n",
      "  Var: 1.960 Dist: 12.5613\n",
      "  Var: 2.250 Dist: 13.4626\n",
      "  Var: 2.560 Dist: 14.3668\n",
      "  Var: 2.890 Dist: 15.2656\n",
      "  Var: 3.240 Dist: 16.1440\n",
      "  Var: 3.610 Dist: 17.0240\n",
      "  Var: 4.000 Dist: 17.9282\n",
      "DIMENSION : 10\n",
      "  Var: 0.010 Dist: 0.9979\n",
      "  Var: 0.040 Dist: 1.9968\n",
      "  Var: 0.090 Dist: 2.9985\n",
      "  Var: 0.160 Dist: 3.9889\n",
      "  Var: 0.250 Dist: 4.9846\n",
      "  Var: 0.360 Dist: 5.9812\n",
      "  Var: 0.490 Dist: 6.9833\n",
      "  Var: 0.640 Dist: 7.9781\n",
      "  Var: 0.810 Dist: 8.9741\n",
      "  Var: 1.000 Dist: 9.9767\n",
      "  Var: 1.210 Dist: 10.9752\n",
      "  Var: 1.440 Dist: 11.9699\n",
      "  Var: 1.690 Dist: 12.9664\n",
      "  Var: 1.960 Dist: 13.9656\n",
      "  Var: 2.250 Dist: 14.9744\n",
      "  Var: 2.560 Dist: 15.9464\n",
      "  Var: 2.890 Dist: 16.9669\n",
      "  Var: 3.240 Dist: 17.9594\n",
      "  Var: 3.610 Dist: 18.9465\n",
      "  Var: 4.000 Dist: 19.9586\n"
     ]
    }
   ],
   "source": [
    "#  Look at dimensions between 2 and 10\n",
    "dimension=list(range(2,11))\n",
    "deviation_list=np.linspace(0,2,num=21,endpoint=True)[1:]\n",
    "list_of_tuples=list()\n",
    "\n",
    "#  Container for all the dimensions\n",
    "dim_d=dict()\n",
    "\n",
    "for d in dimension:\n",
    "    #  Container for expectation of N_SAMPLES for single variance\n",
    "    ex_d=dict()\n",
    "    for s in deviation_list:\n",
    "        #  Draw N_SAMPLES\n",
    "        d_list=[scu.dist_to_origin(scu.draw_normal_sample(d,s), d) for i in range(N_SAMPLES)]\n",
    "        ex_d[s]=abs(np.sum(d_list)/float(N_SAMPLES))\n",
    "    dim_d[d] = ex_d\n",
    "    \n",
    "for dk, dv in dim_d.items():\n",
    "    print(f'DIMENSION : {dk}')\n",
    "    for k,v in dv.items():\n",
    "        print(f'  Var: {k**2:0.3f} Dist: {v:0.4f}')\n",
    "        list_of_tuples.append((dk,float(f'{k**2:0.3f}'),v))"
   ]
  },
  {
   "cell_type": "markdown",
   "id": "inclusive-peter",
   "metadata": {},
   "source": [
    "### Convert Tuple to Pandas DataFrame"
   ]
  },
  {
   "cell_type": "code",
   "execution_count": 36,
   "id": "acoustic-consultancy",
   "metadata": {},
   "outputs": [],
   "source": [
    "df = pd.DataFrame(list_of_tuples, columns =['dimension', 'variance', 'distance'])"
   ]
  },
  {
   "cell_type": "markdown",
   "id": "moving-position",
   "metadata": {},
   "source": [
    "### Plot DataFrame as HeatMap in Seaborn"
   ]
  },
  {
   "cell_type": "code",
   "execution_count": 37,
   "id": "exterior-uncertainty",
   "metadata": {
    "scrolled": true
   },
   "outputs": [
    {
     "data": {
      "image/png": "[encoded data removed]",
      "text/plain": [
       "<Figure size 792x648 with 2 Axes>"
      ]
     },
     "metadata": {
      "needs_background": "light"
     },
     "output_type": "display_data"
    }
   ],
   "source": [
    "fig, ax = plt.subplots(figsize=(11, 9))\n",
    "#sb.heatmap(df.loc[df['dimension'] == 2])\n",
    "sb.heatmap(df)\n",
    "plt.show()"
   ]
  },
  {
   "cell_type": "markdown",
   "id": "enormous-winning",
   "metadata": {},
   "source": [
    "### Discussion\n",
    "1. When variance is high, distance is high regardless of dimension\n",
    "1. Best scenario is 0 variance (perfect measurement of data)\n",
    "1. Increasing dimension reduces the range of acceptable variance\n",
    "    1. Low dimension at top of HeatMap, all values of distance are \"low\"\n",
    "    1. Middle dimension, high variance distances are larger\n",
    "    1. High dimension, high variance, distances are largest\n",
    "    1. For 0 variance and \"low\" variance - distances are close to origin: black"
   ]
  },
  {
   "cell_type": "markdown",
   "id": "indoor-chorus",
   "metadata": {},
   "source": [
    "### Office Hours\n",
    "#### T 2021-03-02\n",
    "\n",
    "First meeting with Dr. Giusti.  Pointers for this problem\n",
    "1. Make line plot\n",
    "    1. For given variance, plot dimension vs mean distance\n",
    "    1. Put several variance plots on same plot\n",
    "    1. Claim is that the shape is recognizable\n",
    "    1. Places where the plots cross should inform exercise 2"
   ]
  },
  {
   "cell_type": "code",
   "execution_count": 52,
   "id": "excellent-vacation",
   "metadata": {},
   "outputs": [
    {
     "name": "stdout",
     "output_type": "stream",
     "text": [
      "     dimension  distance\n",
      "2            2  0.566401\n",
      "22           3  0.875302\n",
      "42           4  1.183115\n",
      "62           5  1.484566\n",
      "82           6  1.788443\n",
      "102          7  2.089300\n",
      "122          8  2.390756\n",
      "142          9  2.693714\n",
      "162         10  2.998515\n"
     ]
    },
    {
     "data": {
      "image/png": "[encoded data removed]",
      "text/plain": [
       "<Figure size 432x288 with 1 Axes>"
      ]
     },
     "metadata": {
      "needs_background": "light"
     },
     "output_type": "display_data"
    }
   ],
   "source": [
    "var_list=[float(f'{i**2:0.3f}') for i in deviation_list]\n",
    "dim_v_dist_df=df.loc[df['variance'] == float(f'{var_list[2]:0.3f}')][['dimension','distance']]\n",
    "params={'title': f'Var {var_list[2]}','grid':True}\n",
    "dim_v_dist_df.set_index('dimension').plot(**params)\n",
    "print(dim_v_dist_df)"
   ]
  },
  {
   "cell_type": "code",
   "execution_count": null,
   "id": "overall-arbor",
   "metadata": {},
   "outputs": [],
   "source": []
  }
 ],
 "metadata": {
  "kernelspec": {
   "display_name": "Python 3",
   "language": "python",
   "name": "python3"
  },
  "language_info": {
   "codemirror_mode": {
    "name": "ipython",
    "version": 3
   },
   "file_extension": ".py",
   "mimetype": "text/x-python",
   "name": "python",
   "nbconvert_exporter": "python",
   "pygments_lexer": "ipython3",
   "version": "3.7.9"
  }
 },
 "nbformat": 4,
 "nbformat_minor": 5
}
