{
 "cells": [
  {
   "cell_type": "markdown",
   "id": "certain-lingerie",
   "metadata": {},
   "source": [
    "# Problem 1\n",
    "\n",
    "1. Fix s = 1 and let ε ∼ N (0, s^2 ·I_n ). \n",
    "2. Determine E[ ||ε|| ] as a function of s^2 and n. \n",
    "\n",
    "You can do this however you like (besides looking it up): analytically by deriving the answer, or estimating numerically using a computer for various values of the variables and plotting the result as a heatmap or multiple line plots. \n",
    "\n",
    "Indeed, I encourage you to try both, even if you already know the answer. In the numerical case, think about the confidence interval of your computation and try to justify how certain you are of the answer for each n.\n",
    "\n",
    "### Imports And Global Constants"
   ]
  },
  {
   "cell_type": "code",
   "execution_count": 1,
   "id": "eight-track",
   "metadata": {},
   "outputs": [],
   "source": [
    "import numpy as np\n",
    "import pandas as pd\n",
    "import matplotlib.pyplot as plt\n",
    "import seaborn as sb\n",
    "\n",
    "N_SAMPLES=10000"
   ]
  },
  {
   "cell_type": "markdown",
   "id": "dramatic-muscle",
   "metadata": {},
   "source": [
    "### Import utility module"
   ]
  },
  {
   "cell_type": "code",
   "execution_count": 2,
   "id": "german-bangkok",
   "metadata": {},
   "outputs": [],
   "source": [
    "import sci_kit_learn_utils.utils as scu"
   ]
  },
  {
   "cell_type": "markdown",
   "id": "desirable-profit",
   "metadata": {},
   "source": [
    "### Calculate Distance - Store as tuple(dimension,variance,distance)"
   ]
  },
  {
   "cell_type": "code",
   "execution_count": 3,
   "id": "great-burden",
   "metadata": {},
   "outputs": [
    {
     "name": "stdout",
     "output_type": "stream",
     "text": [
      "DIMENSION : 2\n",
      "  Var: 0.010 Dist: 0.1872\n",
      "  Var: 0.040 Dist: 0.3744\n",
      "  Var: 0.090 Dist: 0.5622\n",
      "  Var: 0.160 Dist: 0.7507\n",
      "  Var: 0.250 Dist: 0.9462\n",
      "  Var: 0.360 Dist: 1.1309\n",
      "  Var: 0.490 Dist: 1.3169\n",
      "  Var: 0.640 Dist: 1.4897\n",
      "  Var: 0.810 Dist: 1.6905\n",
      "  Var: 1.000 Dist: 1.8874\n",
      "  Var: 1.210 Dist: 2.0702\n",
      "  Var: 1.440 Dist: 2.2461\n",
      "  Var: 1.690 Dist: 2.4513\n",
      "  Var: 1.960 Dist: 2.6276\n",
      "  Var: 2.250 Dist: 2.8309\n",
      "  Var: 2.560 Dist: 2.9973\n",
      "  Var: 2.890 Dist: 3.2180\n",
      "  Var: 3.240 Dist: 3.3792\n",
      "  Var: 3.610 Dist: 3.5624\n",
      "  Var: 4.000 Dist: 3.7472\n",
      "DIMENSION : 3\n",
      "  Var: 0.010 Dist: 0.2912\n",
      "  Var: 0.040 Dist: 0.5879\n",
      "  Var: 0.090 Dist: 0.8783\n",
      "  Var: 0.160 Dist: 1.1711\n",
      "  Var: 0.250 Dist: 1.4607\n",
      "  Var: 0.360 Dist: 1.7466\n",
      "  Var: 0.490 Dist: 2.0449\n",
      "  Var: 0.640 Dist: 2.3374\n",
      "  Var: 0.810 Dist: 2.6289\n",
      "  Var: 1.000 Dist: 2.9264\n",
      "  Var: 1.210 Dist: 3.2044\n",
      "  Var: 1.440 Dist: 3.5083\n",
      "  Var: 1.690 Dist: 3.7884\n",
      "  Var: 1.960 Dist: 4.1068\n",
      "  Var: 2.250 Dist: 4.3765\n",
      "  Var: 2.560 Dist: 4.6899\n",
      "  Var: 2.890 Dist: 4.9637\n",
      "  Var: 3.240 Dist: 5.2606\n",
      "  Var: 3.610 Dist: 5.5427\n",
      "  Var: 4.000 Dist: 5.8301\n",
      "DIMENSION : 4\n",
      "  Var: 0.010 Dist: 0.3940\n",
      "  Var: 0.040 Dist: 0.7872\n",
      "  Var: 0.090 Dist: 1.1832\n",
      "  Var: 0.160 Dist: 1.5721\n",
      "  Var: 0.250 Dist: 1.9672\n",
      "  Var: 0.360 Dist: 2.3596\n",
      "  Var: 0.490 Dist: 2.7577\n",
      "  Var: 0.640 Dist: 3.1492\n",
      "  Var: 0.810 Dist: 3.5335\n",
      "  Var: 1.000 Dist: 3.9405\n",
      "  Var: 1.210 Dist: 4.3423\n",
      "  Var: 1.440 Dist: 4.7169\n",
      "  Var: 1.690 Dist: 5.1152\n",
      "  Var: 1.960 Dist: 5.5158\n",
      "  Var: 2.250 Dist: 5.9161\n",
      "  Var: 2.560 Dist: 6.2991\n",
      "  Var: 2.890 Dist: 6.6882\n",
      "  Var: 3.240 Dist: 7.0825\n",
      "  Var: 3.610 Dist: 7.5019\n",
      "  Var: 4.000 Dist: 7.8893\n",
      "DIMENSION : 5\n",
      "  Var: 0.010 Dist: 0.4951\n",
      "  Var: 0.040 Dist: 0.9900\n",
      "  Var: 0.090 Dist: 1.4845\n",
      "  Var: 0.160 Dist: 1.9788\n",
      "  Var: 0.250 Dist: 2.4769\n",
      "  Var: 0.360 Dist: 2.9700\n",
      "  Var: 0.490 Dist: 3.4688\n",
      "  Var: 0.640 Dist: 3.9675\n",
      "  Var: 0.810 Dist: 4.4511\n",
      "  Var: 1.000 Dist: 4.9420\n",
      "  Var: 1.210 Dist: 5.4308\n",
      "  Var: 1.440 Dist: 5.9540\n",
      "  Var: 1.690 Dist: 6.4396\n",
      "  Var: 1.960 Dist: 6.9221\n",
      "  Var: 2.250 Dist: 7.4330\n",
      "  Var: 2.560 Dist: 7.9232\n",
      "  Var: 2.890 Dist: 8.4342\n",
      "  Var: 3.240 Dist: 8.9230\n",
      "  Var: 3.610 Dist: 9.4011\n",
      "  Var: 4.000 Dist: 9.8926\n",
      "DIMENSION : 6\n",
      "  Var: 0.010 Dist: 0.5951\n",
      "  Var: 0.040 Dist: 1.1906\n",
      "  Var: 0.090 Dist: 1.7870\n",
      "  Var: 0.160 Dist: 2.3838\n",
      "  Var: 0.250 Dist: 2.9828\n",
      "  Var: 0.360 Dist: 3.5736\n",
      "  Var: 0.490 Dist: 4.1694\n",
      "  Var: 0.640 Dist: 4.7652\n",
      "  Var: 0.810 Dist: 5.3611\n",
      "  Var: 1.000 Dist: 5.9618\n",
      "  Var: 1.210 Dist: 6.5506\n",
      "  Var: 1.440 Dist: 7.1511\n",
      "  Var: 1.690 Dist: 7.7413\n",
      "  Var: 1.960 Dist: 8.3512\n",
      "  Var: 2.250 Dist: 8.9256\n",
      "  Var: 2.560 Dist: 9.5360\n",
      "  Var: 2.890 Dist: 10.1463\n",
      "  Var: 3.240 Dist: 10.7292\n",
      "  Var: 3.610 Dist: 11.3252\n",
      "  Var: 4.000 Dist: 11.9112\n",
      "DIMENSION : 7\n",
      "  Var: 0.010 Dist: 0.6968\n",
      "  Var: 0.040 Dist: 1.3924\n",
      "  Var: 0.090 Dist: 2.0884\n",
      "  Var: 0.160 Dist: 2.7869\n",
      "  Var: 0.250 Dist: 3.4770\n",
      "  Var: 0.360 Dist: 4.1809\n",
      "  Var: 0.490 Dist: 4.8766\n",
      "  Var: 0.640 Dist: 5.5690\n",
      "  Var: 0.810 Dist: 6.2698\n",
      "  Var: 1.000 Dist: 6.9756\n",
      "  Var: 1.210 Dist: 7.6598\n",
      "  Var: 1.440 Dist: 8.3775\n",
      "  Var: 1.690 Dist: 9.0612\n",
      "  Var: 1.960 Dist: 9.7541\n",
      "  Var: 2.250 Dist: 10.4556\n",
      "  Var: 2.560 Dist: 11.1423\n",
      "  Var: 2.890 Dist: 11.8351\n",
      "  Var: 3.240 Dist: 12.5329\n",
      "  Var: 3.610 Dist: 13.2424\n",
      "  Var: 4.000 Dist: 13.9334\n",
      "DIMENSION : 8\n",
      "  Var: 0.010 Dist: 0.7977\n",
      "  Var: 0.040 Dist: 1.5945\n",
      "  Var: 0.090 Dist: 2.3920\n",
      "  Var: 0.160 Dist: 3.1864\n",
      "  Var: 0.250 Dist: 3.9797\n",
      "  Var: 0.360 Dist: 4.7819\n",
      "  Var: 0.490 Dist: 5.5732\n",
      "  Var: 0.640 Dist: 6.3689\n",
      "  Var: 0.810 Dist: 7.1696\n",
      "  Var: 1.000 Dist: 7.9838\n",
      "  Var: 1.210 Dist: 8.7577\n",
      "  Var: 1.440 Dist: 9.5678\n",
      "  Var: 1.690 Dist: 10.3564\n",
      "  Var: 1.960 Dist: 11.1612\n",
      "  Var: 2.250 Dist: 11.9586\n",
      "  Var: 2.560 Dist: 12.7522\n",
      "  Var: 2.890 Dist: 13.5473\n",
      "  Var: 3.240 Dist: 14.3316\n",
      "  Var: 3.610 Dist: 15.1693\n",
      "  Var: 4.000 Dist: 15.9627\n",
      "DIMENSION : 9\n",
      "  Var: 0.010 Dist: 0.8969\n",
      "  Var: 0.040 Dist: 1.7962\n",
      "  Var: 0.090 Dist: 2.6901\n",
      "  Var: 0.160 Dist: 3.5850\n",
      "  Var: 0.250 Dist: 4.4875\n",
      "  Var: 0.360 Dist: 5.3860\n",
      "  Var: 0.490 Dist: 6.2819\n",
      "  Var: 0.640 Dist: 7.1768\n",
      "  Var: 0.810 Dist: 8.0810\n",
      "  Var: 1.000 Dist: 8.9818\n",
      "  Var: 1.210 Dist: 9.8699\n",
      "  Var: 1.440 Dist: 10.7623\n",
      "  Var: 1.690 Dist: 11.6689\n",
      "  Var: 1.960 Dist: 12.5547\n",
      "  Var: 2.250 Dist: 13.4538\n",
      "  Var: 2.560 Dist: 14.3603\n",
      "  Var: 2.890 Dist: 15.2775\n",
      "  Var: 3.240 Dist: 16.1541\n",
      "  Var: 3.610 Dist: 17.0517\n",
      "  Var: 4.000 Dist: 17.9646\n",
      "DIMENSION : 10\n",
      "  Var: 0.010 Dist: 0.9977\n",
      "  Var: 0.040 Dist: 1.9927\n",
      "  Var: 0.090 Dist: 2.9916\n",
      "  Var: 0.160 Dist: 3.9925\n",
      "  Var: 0.250 Dist: 4.9866\n",
      "  Var: 0.360 Dist: 5.9779\n",
      "  Var: 0.490 Dist: 6.9884\n",
      "  Var: 0.640 Dist: 7.9798\n",
      "  Var: 0.810 Dist: 8.9730\n",
      "  Var: 1.000 Dist: 9.9734\n",
      "  Var: 1.210 Dist: 10.9650\n",
      "  Var: 1.440 Dist: 11.9764\n",
      "  Var: 1.690 Dist: 12.9671\n",
      "  Var: 1.960 Dist: 13.9742\n",
      "  Var: 2.250 Dist: 14.9617\n",
      "  Var: 2.560 Dist: 15.9635\n",
      "  Var: 2.890 Dist: 16.9532\n",
      "  Var: 3.240 Dist: 17.9621\n",
      "  Var: 3.610 Dist: 18.9438\n",
      "  Var: 4.000 Dist: 19.9683\n"
     ]
    }
   ],
   "source": [
    "#  Look at dimensions between 2 and 10\n",
    "dimension=list(range(2,11))\n",
    "deviation_list=np.linspace(0,2,num=21,endpoint=True)[1:]\n",
    "list_of_tuples=list()\n",
    "\n",
    "#  Container for all the dimensions\n",
    "dim_d=dict()\n",
    "\n",
    "for d in dimension:\n",
    "    #  Container for expectation of N_SAMPLES for single variance\n",
    "    ex_d=dict()\n",
    "    for s in deviation_list:\n",
    "        #  Draw N_SAMPLES\n",
    "        d_list=[scu.dist_to_origin(scu.draw_normal_sample(d,s), d) for i in range(N_SAMPLES)]\n",
    "        ex_d[s]=abs(np.sum(d_list)/float(N_SAMPLES))\n",
    "    dim_d[d] = ex_d\n",
    "    \n",
    "for dk, dv in dim_d.items():\n",
    "    print(f'DIMENSION : {dk}')\n",
    "    for k,v in dv.items():\n",
    "        print(f'  Var: {k**2:0.3f} Dist: {v:0.4f}')\n",
    "        list_of_tuples.append((dk,float(f'{k**2:0.3f}'),v))"
   ]
  },
  {
   "cell_type": "markdown",
   "id": "inclusive-peter",
   "metadata": {},
   "source": [
    "### Convert Tuple to Pandas DataFrame"
   ]
  },
  {
   "cell_type": "code",
   "execution_count": 4,
   "id": "acoustic-consultancy",
   "metadata": {},
   "outputs": [],
   "source": [
    "df = pd.DataFrame(list_of_tuples, columns =['dimension', 'variance', 'distance'])"
   ]
  },
  {
   "cell_type": "markdown",
   "id": "moving-position",
   "metadata": {},
   "source": [
    "### Plot DataFrame as HeatMap in Seaborn"
   ]
  },
  {
   "cell_type": "code",
   "execution_count": 5,
   "id": "exterior-uncertainty",
   "metadata": {
    "scrolled": true
   },
   "outputs": [
    {
     "data": {
      "image/png": "[encoded data removed]",
      "text/plain": [
       "<Figure size 792x648 with 2 Axes>"
      ]
     },
     "metadata": {
      "needs_background": "light"
     },
     "output_type": "display_data"
    }
   ],
   "source": [
    "fig, ax = plt.subplots(figsize=(11, 9))\n",
    "#sb.heatmap(df.loc[df['dimension'] == 2])\n",
    "sb.heatmap(df)\n",
    "plt.show()"
   ]
  },
  {
   "cell_type": "markdown",
   "id": "enormous-winning",
   "metadata": {},
   "source": [
    "### Discussion\n",
    "1. When variance is high, distance is high regardless of dimension\n",
    "1. Best scenario is 0 variance (perfect measurement of data)\n",
    "1. Increasing dimension reduces the range of acceptable variance\n",
    "    1. Low dimension at top of HeatMap, all values of distance are \"low\"\n",
    "    1. Middle dimension, high variance distances are larger\n",
    "    1. High dimension, high variance, distances are largest\n",
    "    1. For 0 variance and \"low\" variance - distances are close to origin: black"
   ]
  },
  {
   "cell_type": "markdown",
   "id": "indoor-chorus",
   "metadata": {},
   "source": [
    "### Office Hours\n",
    "#### T 2021-03-02\n",
    "\n",
    "First meeting with Dr. Giusti.  Pointers for this problem\n",
    "1. Make line plot\n",
    "    1. For given variance, plot dimension vs mean distance\n",
    "    1. Put several variance plots on same plot\n",
    "    1. Claim is that the shape is recognizable\n",
    "    1. Places where the plots cross should inform exercise 2\n",
    "    \n",
    "### Slack Message\n",
    "#### W 2021-03-03\n",
    "1. Fix dimension, plot variance vs mean distance\n",
    "1. Figure out how to get all the graphs on single pane\n",
    "1. Figure out how to zoom into regions on x-axis"
   ]
  },
  {
   "cell_type": "code",
   "execution_count": 6,
   "id": "overall-arbor",
   "metadata": {},
   "outputs": [
    {
     "data": {
      "image/png": "[encoded data removed]",
      "text/plain": [
       "<Figure size 432x288 with 1 Axes>"
      ]
     },
     "metadata": {
      "needs_background": "light"
     },
     "output_type": "display_data"
    }
   ],
   "source": [
    "first=True\n",
    "dim_axes=None\n",
    "dim_df=None\n",
    "\n",
    "params={\n",
    "    'title': 'Variance vs Mean Distance (Dimension 2..10)',\n",
    "    'grid':True, \n",
    "    'xlim': (0.0,0.25),\n",
    "    'ylim': (0.0,5.0)\n",
    "}\n",
    "\n",
    "for d in dimension:\n",
    "    if first:\n",
    "        first=False\n",
    "        dim_df=df.loc[df['dimension'] == d][['variance', 'distance']]\n",
    "        dim_df.rename(columns={'distance': f'dim={d}'}, inplace=True)\n",
    "        dim_axes=dim_df.set_index('variance').plot(**params)\n",
    "        continue\n",
    "        \n",
    "    dim_df=df.loc[df['dimension'] == d][['variance', 'distance']]\n",
    "    dim_df.rename(columns={'distance': f'dim={d}'}, inplace=True)\n",
    "    dim_df.set_index('variance').plot(ax=dim_axes,grid=True)"
   ]
  },
  {
   "cell_type": "markdown",
   "id": "excess-johnson",
   "metadata": {},
   "source": [
    "### Discussion\n",
    "\n",
    "1. Ideally variance=0 is the best choice.  And simultaneously unrealistic.\n",
    "1. Apart from ideal action, select $$\\sqrt(dim)$$\n",
    "1. Use this value to inform problem_2"
   ]
  }
 ],
 "metadata": {
  "kernelspec": {
   "display_name": "Python 3",
   "language": "python",
   "name": "python3"
  },
  "language_info": {
   "codemirror_mode": {
    "name": "ipython",
    "version": 3
   },
   "file_extension": ".py",
   "mimetype": "text/x-python",
   "name": "python",
   "nbconvert_exporter": "python",
   "pygments_lexer": "ipython3",
   "version": "3.7.9"
  }
 },
 "nbformat": 4,
 "nbformat_minor": 5
}
