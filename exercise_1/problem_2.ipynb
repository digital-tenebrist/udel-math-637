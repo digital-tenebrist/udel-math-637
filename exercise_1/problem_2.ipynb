{
 "cells": [
  {
   "cell_type": "markdown",
   "id": "cordless-marine",
   "metadata": {},
   "source": [
    "# Problem 2\n",
    "\n",
    "1. Let ε_1 ε_2 ∼ N (0, s^2 · I_n ). \n",
    "1. Use a computer to investigate E[d(x + ε_1 , y + ε_2 )] for various choices of x, y ∈ R n as a function of s^2 and n. \n",
    "\n",
    "(You’re also welcome to dive in analytically if you like!) \n",
    "\n",
    "### Discussion Questions\n",
    "1. What do you observe for large values of n and fixed values of s? \n",
    "1. I claim that there’s is a ”stable” choice for s in terms of n suggested by Exercise 1. \n",
    "1. What is it? \n",
    "1. If you make that choice for s, what happens for large values of n? \n",
    "1. What’s potentially disconcerting about this, if you live in R^n for n >> 0?\n",
    "\n",
    "### Imports and Global Constants"
   ]
  },
  {
   "cell_type": "code",
   "execution_count": 11,
   "id": "nasty-foundation",
   "metadata": {},
   "outputs": [],
   "source": [
    "import numpy as np\n",
    "import pandas as pd\n",
    "import matplotlib.pyplot as plt\n",
    "import seaborn as sb\n",
    "\n",
    "from importlib import reload\n",
    "\n",
    "np.set_printoptions(precision=3)\n",
    "\n",
    "N_SAMPLES=10000"
   ]
  },
  {
   "cell_type": "markdown",
   "id": "broad-possession",
   "metadata": {},
   "source": [
    "### Import Utility Module"
   ]
  },
  {
   "cell_type": "code",
   "execution_count": 15,
   "id": "consecutive-privilege",
   "metadata": {},
   "outputs": [
    {
     "data": {
      "text/plain": [
       "<module 'sci_kit_learn_utils.utils' from '/home/digital-tenebrist/ms-data-science/math-637/udel-math-637/utils/sci_kit_learn_utils/utils.py'>"
      ]
     },
     "execution_count": 15,
     "metadata": {},
     "output_type": "execute_result"
    }
   ],
   "source": [
    "import sci_kit_learn_utils.utils as scu\n",
    "reload(scu)"
   ]
  },
  {
   "cell_type": "markdown",
   "id": "checked-edmonton",
   "metadata": {},
   "source": [
    "### Calculate Distance - store as tuple(dimension,variance,distance)"
   ]
  },
  {
   "cell_type": "code",
   "execution_count": 28,
   "id": "convertible-brook",
   "metadata": {},
   "outputs": [],
   "source": [
    "#  Look at dimensions between 2 and 10\n",
    "dimension=list(range(2,11))\n",
    "deviation_list=np.linspace(0,2,num=21,endpoint=True)[1:]\n",
    "list_of_tuples=list()\n",
    "\n",
    "#  Container for all the dimensions\n",
    "dim_d=dict()\n",
    "\n",
    "for d in dimension:\n",
    "    # Draw (x,y) pairs from N(0,1) do this for 10 pairs\n",
    "    for p in range(1,11):\n",
    "        x=scu.draw_normal_sample(d,1)\n",
    "        y=scu.draw_normal_sample(d,1)\n",
    "        # Draw errors from N(0, s^2 * I_n) -> use deviation_list\n",
    "        for s in deviation_list:\n",
    "            d_list=list()\n",
    "            for n in range(N_SAMPLES):\n",
    "                err_x=scu.draw_normal_sample(d,s)\n",
    "                err_y=scu.draw_normal_sample(d,s)\n",
    "                x+=err_x\n",
    "                y+=err_y\n",
    "                d_list.append(scu.dist_between_pts(x,y))\n",
    "            dist=abs(np.sum(d_list)/float(N_SAMPLES))\n",
    "            del d_list\n",
    "            list_of_tuples.append((d,float(f'{s**2:0.3f}'),float(f'{dist:0.3f}')))"
   ]
  },
  {
   "cell_type": "markdown",
   "id": "supreme-package",
   "metadata": {},
   "source": [
    "### Convert List of tuples to Pandas DataFrame"
   ]
  },
  {
   "cell_type": "code",
   "execution_count": 29,
   "id": "controversial-casino",
   "metadata": {},
   "outputs": [],
   "source": [
    "df = pd.DataFrame(list_of_tuples, columns =['dimension', 'variance', 'distance'])"
   ]
  },
  {
   "cell_type": "markdown",
   "id": "northern-passing",
   "metadata": {},
   "source": [
    "### Plot DataFrame as HeatMap in Seaborn"
   ]
  },
  {
   "cell_type": "code",
   "execution_count": 39,
   "id": "basic-point",
   "metadata": {},
   "outputs": [
    {
     "data": {
      "image/png": "[encoded data removed]",
      "text/plain": [
       "<Figure size 792x648 with 2 Axes>"
      ]
     },
     "metadata": {
      "needs_background": "light"
     },
     "output_type": "display_data"
    }
   ],
   "source": [
    "fig, ax = plt.subplots(figsize=(11, 9))\n",
    "tv=0.5**2\n",
    "sb.heatmap(df.loc[(df['dimension'] == 4) & (df['variance'] == float(f'{tv:0.3f}'))])\n",
    "#sb.heatmap(df)\n",
    "plt.show()"
   ]
  },
  {
   "cell_type": "markdown",
   "id": "improved-finding",
   "metadata": {},
   "source": [
    "### Discussion\n",
    "\n",
    "1. Takes about 1 hour to run 10*10*20*10000=20,000,000 iterations\n",
    "1. Variances are all low in this model - since range of distances is large\n",
    "1. Reduce the sample size from 10K down to 100 and take a better peek\n",
    "1. Observations\n",
    "    1. Variance/Dimension low at top of heatmap\n",
    "    1. Slice the heatmap for fixed dimension and variance\n",
    "    1. Do I want to have random locations in the plan for (x,y)?  I think they should be fixed in R^n\n",
    "    1. Index 7 appears to have darkest=> lowest distance.  What is happeneng there?"
   ]
  }
 ],
 "metadata": {
  "kernelspec": {
   "display_name": "Python 3",
   "language": "python",
   "name": "python3"
  },
  "language_info": {
   "codemirror_mode": {
    "name": "ipython",
    "version": 3
   },
   "file_extension": ".py",
   "mimetype": "text/x-python",
   "name": "python",
   "nbconvert_exporter": "python",
   "pygments_lexer": "ipython3",
   "version": "3.7.9"
  }
 },
 "nbformat": 4,
 "nbformat_minor": 5
}
