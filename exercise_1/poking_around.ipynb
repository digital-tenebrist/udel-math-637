{
 "cells": [
  {
   "cell_type": "code",
   "execution_count": 35,
   "id": "eight-track",
   "metadata": {},
   "outputs": [
    {
     "name": "stdout",
     "output_type": "stream",
     "text": [
      "Distance to (2,7,11) 7.348\n",
      "Random sample from mu=0 var=1 dim=(3,3)\n",
      "[[ 1.43723257 -1.22921531  0.85388981]\n",
      " [ 1.39069431  0.2577548  -0.06032537]\n",
      " [-0.04201311  0.37974636 -1.95770953]]\n",
      "Sample point is 3.208 from origin\n"
     ]
    }
   ],
   "source": [
    "import numpy as np\n",
    "\n",
    "def dist_to_origin(ar,dim):\n",
    "    origin=np.zeros(dim)\n",
    "    return np.linalg.norm(ar-origin)\n",
    "\n",
    "def draw_sample(dim,std):\n",
    "    m=np.zeros(dim)\n",
    "    var=std**2\n",
    "    cov=var*np.identity(dim)\n",
    "    return np.random.multivariate_normal(m,cov,dim)\n",
    "\n",
    "a=np.array([1,4])\n",
    "a=np.array([[2,0,0],[0,7,0],[0,0,1]])\n",
    "\n",
    "d=dist_to_origin(a,3)\n",
    "print(f'Distance to (2,7,11) {d:0.4}')\n",
    "\n",
    "DIMENSION=3\n",
    "STD_DEV=1\n",
    "\n",
    "s=draw_sample(DIMENSION, STD_DEV)\n",
    "print(f'Random sample from mu=0 var={STD_DEV**2} dim=({DIMENSION},{DIMENSION})')\n",
    "print(f'{s}')\n",
    "\n",
    "print(f'Sample point is {dist_to_origin(s,DIMENSION):0.4} from origin')\n"
   ]
  }
 ],
 "metadata": {
  "kernelspec": {
   "display_name": "Python 3",
   "language": "python",
   "name": "python3"
  },
  "language_info": {
   "codemirror_mode": {
    "name": "ipython",
    "version": 3
   },
   "file_extension": ".py",
   "mimetype": "text/x-python",
   "name": "python",
   "nbconvert_exporter": "python",
   "pygments_lexer": "ipython3",
   "version": "3.7.9"
  }
 },
 "nbformat": 4,
 "nbformat_minor": 5
}
