{
 "cells": [
  {
   "cell_type": "markdown",
   "id": "fancy-bloom",
   "metadata": {},
   "source": [
    "# Problem 5"
   ]
  },
  {
   "cell_type": "markdown",
   "id": "vulnerable-steam",
   "metadata": {},
   "source": [
    "## Part 1\n",
    "\n",
    "1. Take a sample of twenty random points uniformly from the unit square in $\\Bbb R^2$.\n",
    "1. (That is, sample numbers x i and y i from the uniform distribution $U([0,1])$to obtain ordered pairs $(x_i,y_i,...), i=1,2,...,20$\n",
    "1. Select six of these points (say, $i = 1,2,...,6$) and find the least squares best fit polynomials of degrees one through six to that subset of six points. \n",
    "1. Plot the polynomial on a scatter plot of the points. \n",
    "1. What are the (mean squared) error of each model against those six points you used to build the model? \n",
    "1. What is the (mean squared) prediction error of each polynomial to the set of all twenty points? \n",
    "1. Repeat a couple of times to see how robust the results seem."
   ]
  },
  {
   "cell_type": "code",
   "execution_count": null,
   "id": "classified-horizontal",
   "metadata": {},
   "outputs": [],
   "source": []
  },
  {
   "cell_type": "markdown",
   "id": "innovative-daughter",
   "metadata": {},
   "source": [
    "## Part 2\n",
    "\n",
    "1. Perturb your polynomial models a little bit: add small, random values $\\epsilon ∼ N(0,s^2 )$ to the coefficients, where $s^2$ is chosen to be roughly one tenth of the coefficient. \n",
    "1. What is the prediction error on this perturbed polynomial for the six points used to build the model? \n",
    "1. For the full twenty points? \n",
    "1. Do this a few times. \n",
    "1. Would you say these perturbed models are better or worse than the one you started with?"
   ]
  },
  {
   "cell_type": "code",
   "execution_count": null,
   "id": "fallen-tennessee",
   "metadata": {},
   "outputs": [],
   "source": []
  },
  {
   "cell_type": "markdown",
   "id": "european-surfing",
   "metadata": {},
   "source": [
    "## Part 3\n",
    "\n",
    "1. Repeat these two exercises with the points $x_i ∼ U[0,1]$ and $y_i ∼ N(x_i,0.1), i = 1,2,...,20$."
   ]
  },
  {
   "cell_type": "code",
   "execution_count": null,
   "id": "instrumental-gospel",
   "metadata": {},
   "outputs": [],
   "source": []
  },
  {
   "cell_type": "markdown",
   "id": "casual-spectrum",
   "metadata": {},
   "source": [
    "## Part 4\n",
    "\n",
    "1. Repeat again with the points $(x_i,y_i) = (i/21, i/21 + 0.1 ∗ sin(\\pi∗i/10)), i = 1,2,...,20$. \n",
    "1. What do you observe?\n",
    "1. What if, instead of fitting with $i = 1,2,...,6$ you choose $i = 3,6,..,18$?"
   ]
  },
  {
   "cell_type": "code",
   "execution_count": null,
   "id": "micro-border",
   "metadata": {},
   "outputs": [],
   "source": []
  },
  {
   "cell_type": "markdown",
   "id": "undefined-potter",
   "metadata": {},
   "source": [
    "## Part 5\n",
    "\n",
    "1. How ”good” are the different models? \n",
    "1. How robust do they seem to perturbation?\n",
    "    1. This is a question about opinion, based on what you observe and know about the underlying system."
   ]
  },
  {
   "cell_type": "code",
   "execution_count": null,
   "id": "consecutive-accommodation",
   "metadata": {},
   "outputs": [],
   "source": []
  }
 ],
 "metadata": {
  "kernelspec": {
   "display_name": "Python 3",
   "language": "python",
   "name": "python3"
  },
  "language_info": {
   "codemirror_mode": {
    "name": "ipython",
    "version": 3
   },
   "file_extension": ".py",
   "mimetype": "text/x-python",
   "name": "python",
   "nbconvert_exporter": "python",
   "pygments_lexer": "ipython3",
   "version": "3.7.9"
  }
 },
 "nbformat": 4,
 "nbformat_minor": 5
}
