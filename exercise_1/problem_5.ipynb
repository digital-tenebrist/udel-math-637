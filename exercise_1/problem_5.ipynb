{
 "cells": [
  {
   "cell_type": "markdown",
   "id": "geographic-alfred",
   "metadata": {},
   "source": [
    "# Problem 5"
   ]
  },
  {
   "cell_type": "markdown",
   "id": "unlimited-sponsorship",
   "metadata": {},
   "source": [
    "## Part 1\n",
    "\n",
    "1. Take a sample of twenty random points uniformly from the unit square in $\\Bbb R^2$.\n",
    "1. (That is, sample numbers $(x_i,y_i)$ from the uniform distribution $U([0,1])$to obtain ordered pairs $(x_i,y_i,...), i=1,2,...,20$\n",
    "1. Select six of these points (say, $i = 1,2,...,6$) and find the least squares best fit polynomials of degrees one through six to that subset of six points. \n",
    "1. Plot the polynomial on a scatter plot of the points. \n",
    "1. What are the (mean squared) error of each model against those six points you used to build the model? \n",
    "1. What is the (mean squared) prediction error of each polynomial to the set of all twenty points? \n",
    "1. Repeat a couple of times to see how robust the results seem."
   ]
  },
  {
   "cell_type": "markdown",
   "id": "hollow-search",
   "metadata": {},
   "source": [
    "### Imports and Globals"
   ]
  },
  {
   "cell_type": "code",
   "execution_count": 121,
   "id": "exotic-slope",
   "metadata": {},
   "outputs": [],
   "source": [
    "from math import sqrt, sin, pi\n",
    "\n",
    "import numpy as np\n",
    "import pandas as pd\n",
    "import matplotlib.pyplot as plt\n",
    "\n",
    "from sklearn.linear_model import LinearRegression as LR\n",
    "from sklearn.metrics import mean_squared_error\n",
    "\n",
    "from importlib import reload\n",
    "\n",
    "N_SAMPLES=20\n",
    "N_TRAIN=12\n",
    "\n",
    "N_ITERATIONS=10"
   ]
  },
  {
   "cell_type": "markdown",
   "id": "isolated-finland",
   "metadata": {},
   "source": [
    "### Import Utility Module"
   ]
  },
  {
   "cell_type": "code",
   "execution_count": 64,
   "id": "heard-tutorial",
   "metadata": {},
   "outputs": [
    {
     "data": {
      "text/plain": [
       "<module 'sci_kit_learn_utils.utils' from '/home/digital-tenebrist/ms-data-science/math-637/udel-math-637/utils/sci_kit_learn_utils/utils.py'>"
      ]
     },
     "execution_count": 64,
     "metadata": {},
     "output_type": "execute_result"
    }
   ],
   "source": [
    "import sci_kit_learn_utils.utils as scu\n",
    "reload(scu)"
   ]
  },
  {
   "cell_type": "markdown",
   "id": "interim-award",
   "metadata": {},
   "source": [
    "### Set Up Model\n",
    "\n",
    "1. Draw raw sample N_SAMPLES from specified uniform distribution\n",
    "1. Draw random list of indices between 0,...,N_SAMPLES non-inclusive of end of range\n",
    "1. Grab those data points from raw sample\n",
    "1. Fit linear regression model against smaller sample"
   ]
  },
  {
   "cell_type": "code",
   "execution_count": 54,
   "id": "formed-tension",
   "metadata": {},
   "outputs": [
    {
     "data": {
      "text/plain": [
       "0.29017427594288103"
      ]
     },
     "execution_count": 54,
     "metadata": {},
     "output_type": "execute_result"
    }
   ],
   "source": [
    "raw=np.random.uniform(0.0,1.0,(N_SAMPLES,2))\n",
    "indices=np.random.choice(list(range(N_SAMPLES)),N_TRAIN, replace=False)\n",
    "points_in_use=raw[indices]\n",
    "\n",
    "X=points_in_use[:,0].reshape(-1,1)\n",
    "Y=points_in_use[:,1]\n",
    "\n",
    "model = LR().fit(X,Y)\n",
    "model.score(X,Y)"
   ]
  },
  {
   "cell_type": "markdown",
   "id": "racial-damage",
   "metadata": {},
   "source": [
    "### Plot Model\n",
    "\n",
    "1. Plot model along with N_TRAIN points scattered"
   ]
  },
  {
   "cell_type": "code",
   "execution_count": 55,
   "id": "indonesian-reception",
   "metadata": {},
   "outputs": [
    {
     "data": {
      "image/png": "[encoded data removed]",
      "text/plain": [
       "<Figure size 432x288 with 1 Axes>"
      ]
     },
     "metadata": {},
     "output_type": "display_data"
    }
   ],
   "source": [
    "y_pred = model.predict(X)\n",
    "\n",
    "plt.scatter(X, Y,  color='red')\n",
    "plt.plot(X, y_pred, color='blue', linewidth=3)\n",
    "\n",
    "plt.xticks(())\n",
    "plt.yticks(())\n",
    "\n",
    "plt.show()"
   ]
  },
  {
   "cell_type": "markdown",
   "id": "discrete-photographer",
   "metadata": {},
   "source": [
    "### Mean Square Error\n",
    "\n",
    "1. Against N_TRAIN points\n",
    "1. Against all N_SAMPLE points"
   ]
  },
  {
   "cell_type": "code",
   "execution_count": 56,
   "id": "civic-spider",
   "metadata": {},
   "outputs": [
    {
     "name": "stdout",
     "output_type": "stream",
     "text": [
      "Mean squared error: 12 points (train) 0.025\n",
      "Mean squared error: 20 points (all) 0.012\n"
     ]
    }
   ],
   "source": [
    "print('BEFORE PERTURBATION')\n",
    "\n",
    "print(f'Mean squared error: {N_TRAIN} points (train) {mean_squared_error(Y, y_pred):0.3f}')\n",
    "Y_pred=model.predict(raw[:,1].reshape(-1,1))\n",
    "print(f'Mean squared error: {N_SAMPLES} points (all) {mean_squared_error(raw[:,1], Y_pred):0.3f}')"
   ]
  },
  {
   "cell_type": "markdown",
   "id": "violent-algebra",
   "metadata": {},
   "source": [
    "### Discussion - Part 1\n",
    "\n",
    "1. Squared error jumps around on various runs.\n",
    "1. $R^2$ jumps around as well.\n",
    "1. Results do not appear \"robust\"."
   ]
  },
  {
   "cell_type": "markdown",
   "id": "french-missile",
   "metadata": {},
   "source": [
    "## Part 2\n",
    "\n",
    "1. Perturb your polynomial models a little bit: add small, random values $\\epsilon ∼ N(0,s^2 )$ to the coefficients, where $s^2$ is chosen to be roughly one tenth of the coefficient. \n",
    "1. What is the prediction error on this perturbed polynomial for the six points used to build the model? \n",
    "1. For the full twenty points? \n",
    "1. Do this a few times. \n",
    "1. Would you say these perturbed models are better or worse than the one you started with?"
   ]
  },
  {
   "cell_type": "code",
   "execution_count": 91,
   "id": "fuzzy-madness",
   "metadata": {},
   "outputs": [
    {
     "name": "stdout",
     "output_type": "stream",
     "text": [
      "AFTER PERTURBATION\n",
      "Mean squared error: 12 points (train) 0.099\n",
      "Mean squared error: 20 points (all) 0.064\n"
     ]
    }
   ],
   "source": [
    "std=sqrt(abs(model.coef_/10.0))\n",
    "error=scu.draw_normal_sample(1,std)\n",
    "model.coef_ += error[0][0]\n",
    "\n",
    "print('AFTER PERTURBATION')\n",
    "y_pred = model.predict(X)\n",
    "print(f'Mean squared error: {N_TRAIN} points (train) {mean_squared_error(Y, y_pred):0.3f}')\n",
    "Y_pred=model.predict(raw[:,1].reshape(-1,1))\n",
    "print(f'Mean squared error: {N_SAMPLES} points (all) {mean_squared_error(raw[:,1], Y_pred):0.3f}')"
   ]
  },
  {
   "cell_type": "markdown",
   "id": "genuine-button",
   "metadata": {},
   "source": [
    "### Discussion - Part 2\n",
    "\n",
    "1. The small bit of noise being added into coefficent is insufficient to make it better or worse\n",
    "1. Drawing from 0 mean small variance distribution, and coefficients learned from OLS are inside $[0,1]$\n",
    "1. Don't expect much difference or instability.\n",
    "1. To achieve that, will require different mean and/or larger variance"
   ]
  },
  {
   "cell_type": "markdown",
   "id": "confirmed-regular",
   "metadata": {},
   "source": [
    "## Part 3\n",
    "\n",
    "1. Repeat these two exercises with the points $x_i ∼ U[0,1]$ and $y_i ∼ N(x_i,0.1), i = 1,2,...,20$."
   ]
  },
  {
   "cell_type": "code",
   "execution_count": 106,
   "id": "accomplished-funeral",
   "metadata": {},
   "outputs": [],
   "source": [
    "p3_verbose=False\n",
    "\n",
    "p3_std=sqrt(0.1)\n",
    "p3_err_tuple_list = list()\n",
    "\n",
    "for i in range(N_ITERATIONS):\n",
    "    p3_x_raw=np.random.uniform(0.0,1.0,(N_SAMPLES,1))\n",
    "    p3_y_raw=np.random.normal(0.0,p3_std,(N_SAMPLES,1))\n",
    "    indices=np.random.choice(list(range(N_SAMPLES)),N_TRAIN, replace=False)\n",
    "    p3_x_train=p3_x_raw[indices].reshape(-1,1)\n",
    "    p3_y_train=p3_y_raw[indices]\n",
    "    \n",
    "    p3_model = LR().fit(p3_x_train,p3_y_train)\n",
    "    p3_model.score(p3_x_train,p3_y_train)\n",
    "        \n",
    "    p3_y_pred = p3_model.predict(p3_x_train)\n",
    "    p3_raw_pred=p3_model.predict(p3_x_raw.reshape(-1,1))\n",
    "\n",
    "    t1=mean_squared_error(p3_y_train, p3_y_pred)\n",
    "    t2=mean_squared_error(p3_y_raw, p3_raw_pred)\n",
    "\n",
    "    if p3_verbose:\n",
    "        print(f'PART 3 ({i}) - BEFORE PERTURBATION')\n",
    "        print(f'  Mean squared error: {N_TRAIN} points (train) {t1:0.3f}')\n",
    "        print(f'  Mean squared error: {N_SAMPLES} points (all) {t2:0.3f}')\n",
    "    \n",
    "    std=sqrt(abs(p3_model.coef_/10.0))\n",
    "    error=scu.draw_normal_sample(1,std)\n",
    "    p3_model.coef_ += error[0][0]\n",
    "    \n",
    "    p3_y_pred = p3_model.predict(p3_x_train)\n",
    "    p3_raw_pred=p3_model.predict(p3_x_raw.reshape(-1,1))\n",
    "\n",
    "    t3=mean_squared_error(p3_y_train, p3_y_pred)\n",
    "    t4=mean_squared_error(p3_y_raw, p3_raw_pred)\n",
    "\n",
    "    if p3_verbose:\n",
    "        print('PART 3 - AFTER PERTURBATION')\n",
    "        print(f'  Mean squared error: {N_TRAIN} points (train) {t3:0.3f}')\n",
    "        print(f'  Mean squared error: {N_SAMPLES} points (all) {t4:0.3f}')\n",
    "\n",
    "    p3_err_tuple_list.append((t1,t2,t3,t4))"
   ]
  },
  {
   "cell_type": "markdown",
   "id": "collectible-binding",
   "metadata": {},
   "source": [
    "#### Plot Part 3"
   ]
  },
  {
   "cell_type": "code",
   "execution_count": 112,
   "id": "enormous-footage",
   "metadata": {},
   "outputs": [
    {
     "data": {
      "text/html": [
       "<div>\n",
       "<style scoped>\n",
       "    .dataframe tbody tr th:only-of-type {\n",
       "        vertical-align: middle;\n",
       "    }\n",
       "\n",
       "    .dataframe tbody tr th {\n",
       "        vertical-align: top;\n",
       "    }\n",
       "\n",
       "    .dataframe thead th {\n",
       "        text-align: right;\n",
       "    }\n",
       "</style>\n",
       "<table border=\"1\" class=\"dataframe\">\n",
       "  <thead>\n",
       "    <tr style=\"text-align: right;\">\n",
       "      <th></th>\n",
       "      <th>t_p</th>\n",
       "      <th>a_p</th>\n",
       "      <th>t_a</th>\n",
       "      <th>a_a</th>\n",
       "    </tr>\n",
       "  </thead>\n",
       "  <tbody>\n",
       "    <tr>\n",
       "      <th>0</th>\n",
       "      <td>0.029137</td>\n",
       "      <td>0.035390</td>\n",
       "      <td>0.044791</td>\n",
       "      <td>0.045515</td>\n",
       "    </tr>\n",
       "    <tr>\n",
       "      <th>1</th>\n",
       "      <td>0.132150</td>\n",
       "      <td>0.119369</td>\n",
       "      <td>0.132447</td>\n",
       "      <td>0.120611</td>\n",
       "    </tr>\n",
       "    <tr>\n",
       "      <th>2</th>\n",
       "      <td>0.178486</td>\n",
       "      <td>0.152201</td>\n",
       "      <td>0.212328</td>\n",
       "      <td>0.197714</td>\n",
       "    </tr>\n",
       "    <tr>\n",
       "      <th>3</th>\n",
       "      <td>0.163084</td>\n",
       "      <td>0.157528</td>\n",
       "      <td>0.165024</td>\n",
       "      <td>0.150838</td>\n",
       "    </tr>\n",
       "    <tr>\n",
       "      <th>4</th>\n",
       "      <td>0.076007</td>\n",
       "      <td>0.089728</td>\n",
       "      <td>0.079163</td>\n",
       "      <td>0.095730</td>\n",
       "    </tr>\n",
       "    <tr>\n",
       "      <th>5</th>\n",
       "      <td>0.065153</td>\n",
       "      <td>0.057845</td>\n",
       "      <td>0.073368</td>\n",
       "      <td>0.076927</td>\n",
       "    </tr>\n",
       "    <tr>\n",
       "      <th>6</th>\n",
       "      <td>0.222788</td>\n",
       "      <td>0.138224</td>\n",
       "      <td>0.222810</td>\n",
       "      <td>0.138026</td>\n",
       "    </tr>\n",
       "    <tr>\n",
       "      <th>7</th>\n",
       "      <td>0.060219</td>\n",
       "      <td>0.046005</td>\n",
       "      <td>0.062742</td>\n",
       "      <td>0.050322</td>\n",
       "    </tr>\n",
       "    <tr>\n",
       "      <th>8</th>\n",
       "      <td>0.181811</td>\n",
       "      <td>0.172258</td>\n",
       "      <td>0.185143</td>\n",
       "      <td>0.180177</td>\n",
       "    </tr>\n",
       "    <tr>\n",
       "      <th>9</th>\n",
       "      <td>0.050093</td>\n",
       "      <td>0.088493</td>\n",
       "      <td>0.055247</td>\n",
       "      <td>0.116123</td>\n",
       "    </tr>\n",
       "  </tbody>\n",
       "</table>\n",
       "</div>"
      ],
      "text/plain": [
       "        t_p       a_p       t_a       a_a\n",
       "0  0.029137  0.035390  0.044791  0.045515\n",
       "1  0.132150  0.119369  0.132447  0.120611\n",
       "2  0.178486  0.152201  0.212328  0.197714\n",
       "3  0.163084  0.157528  0.165024  0.150838\n",
       "4  0.076007  0.089728  0.079163  0.095730\n",
       "5  0.065153  0.057845  0.073368  0.076927\n",
       "6  0.222788  0.138224  0.222810  0.138026\n",
       "7  0.060219  0.046005  0.062742  0.050322\n",
       "8  0.181811  0.172258  0.185143  0.180177\n",
       "9  0.050093  0.088493  0.055247  0.116123"
      ]
     },
     "execution_count": 112,
     "metadata": {},
     "output_type": "execute_result"
    }
   ],
   "source": [
    "# t_p -> train data pre perturbation\n",
    "# a_p -> all data pre perturbation\n",
    "# t_a -> train data after perturbation\n",
    "# a_a -> all data after perturbation\n",
    "\n",
    "p3_df = pd.DataFrame(p3_err_tuple_list, columns =['t_p', 'a_p', 't_a', 'a_a'])\n",
    "p3_df"
   ]
  },
  {
   "cell_type": "code",
   "execution_count": 118,
   "id": "hawaiian-tracy",
   "metadata": {},
   "outputs": [
    {
     "data": {
      "text/plain": [
       "<AxesSubplot:title={'center':'MSE: All Data Pre/Post Perturbation'}>"
      ]
     },
     "execution_count": 118,
     "metadata": {},
     "output_type": "execute_result"
    },
    {
     "data": {
      "image/png": "[encoded data removed]",
      "text/plain": [
       "<Figure size 432x288 with 1 Axes>"
      ]
     },
     "metadata": {
      "needs_background": "light"
     },
     "output_type": "display_data"
    }
   ],
   "source": [
    "params={\n",
    "    'title': 'MSE: All Data Pre/Post Perturbation',\n",
    "    'grid':True\n",
    "}\n",
    "\n",
    "s_df=p3_df[['a_p', 'a_a']]\n",
    "s_df.plot(**params)"
   ]
  },
  {
   "cell_type": "code",
   "execution_count": 119,
   "id": "valid-editor",
   "metadata": {},
   "outputs": [
    {
     "data": {
      "text/plain": [
       "<AxesSubplot:title={'center':'MSE: Train Data Pre/Post Perturbation'}>"
      ]
     },
     "execution_count": 119,
     "metadata": {},
     "output_type": "execute_result"
    },
    {
     "data": {
      "image/png": "[encoded data removed]",
      "text/plain": [
       "<Figure size 432x288 with 1 Axes>"
      ]
     },
     "metadata": {
      "needs_background": "light"
     },
     "output_type": "display_data"
    }
   ],
   "source": [
    "params={\n",
    "    'title': 'MSE: Train Data Pre/Post Perturbation',\n",
    "    'grid':True\n",
    "}\n",
    "\n",
    "s_df=p3_df[['t_p', 't_a']]\n",
    "s_df.plot(**params)"
   ]
  },
  {
   "cell_type": "markdown",
   "id": "returning-drink",
   "metadata": {},
   "source": [
    "### Discussion Part 3\n",
    "\n",
    "1. Same comments are for Part 2 discussion"
   ]
  },
  {
   "cell_type": "markdown",
   "id": "elementary-divorce",
   "metadata": {},
   "source": [
    "## Part 4\n",
    "\n",
    "1. Repeat again with the points $(x_i,y_i) = (i/21, i/21 + 0.1*sin(\\pi∗i/10)), i = 1,2,...,20$. \n",
    "1. What do you observe?\n",
    "1. What if, instead of fitting with $i = 1,2,...,6$ you choose $i = 3,6,..,18$?"
   ]
  },
  {
   "cell_type": "code",
   "execution_count": 124,
   "id": "manufactured-dance",
   "metadata": {},
   "outputs": [],
   "source": [
    "p4_verbose=False\n",
    "\n",
    "p4_std=sqrt(0.1)\n",
    "p4_err_tuple_list = list()\n",
    "\n",
    "p4_x_raw=np.array([i/21.0 for i in range(1,21)])\n",
    "p4_y_raw=np.array([(i/21.0) + sin(pi*i/21.0) for i in range(1,21)])\n",
    "\n",
    "for i in range(N_ITERATIONS):\n",
    "    indices=np.random.choice(list(range(N_SAMPLES)),N_TRAIN, replace=False)\n",
    "    p4_x_train=p4_x_raw[indices].reshape(-1,1)\n",
    "    p4_y_train=p4_y_raw[indices]\n",
    "    \n",
    "    p4_model = LR().fit(p4_x_train,p4_y_train)\n",
    "    p4_model.score(p4_x_train,p4_y_train)\n",
    "        \n",
    "    p4_y_pred = p4_model.predict(p4_x_train)\n",
    "    p4_raw_pred=p4_model.predict(p4_x_raw.reshape(-1,1))\n",
    "\n",
    "    t1=mean_squared_error(p4_y_train, p4_y_pred)\n",
    "    t2=mean_squared_error(p4_y_raw, p4_raw_pred)\n",
    "\n",
    "    if p4_verbose:\n",
    "        print(f'PART 4 ({i}) - BEFORE PERTURBATION')\n",
    "        print(f'  Mean squared error: {N_TRAIN} points (train) {t1:0.3f}')\n",
    "        print(f'  Mean squared error: {N_SAMPLES} points (all) {t2:0.3f}')\n",
    "    \n",
    "    std=sqrt(abs(p4_model.coef_/10.0))\n",
    "    error=scu.draw_normal_sample(1,std)\n",
    "    p4_model.coef_ += error[0][0]\n",
    "    \n",
    "    p4_y_pred = p4_model.predict(p4_x_train)\n",
    "    p4_raw_pred=p4_model.predict(p4_x_raw.reshape(-1,1))\n",
    "\n",
    "    t3=mean_squared_error(p4_y_train, p4_y_pred)\n",
    "    t4=mean_squared_error(p4_y_raw, p4_raw_pred)\n",
    "\n",
    "    if p4_verbose:\n",
    "        print('PART 4 - AFTER PERTURBATION')\n",
    "        print(f'  Mean squared error: {N_TRAIN} points (train) {t3:0.3f}')\n",
    "        print(f'  Mean squared error: {N_SAMPLES} points (all) {t4:0.3f}')\n",
    "\n",
    "    p4_err_tuple_list.append((t1,t2,t3,t4))"
   ]
  },
  {
   "cell_type": "markdown",
   "id": "ambient-center",
   "metadata": {},
   "source": [
    "#### Plot Part 4"
   ]
  },
  {
   "cell_type": "code",
   "execution_count": 125,
   "id": "controlled-brunei",
   "metadata": {},
   "outputs": [
    {
     "data": {
      "text/html": [
       "<div>\n",
       "<style scoped>\n",
       "    .dataframe tbody tr th:only-of-type {\n",
       "        vertical-align: middle;\n",
       "    }\n",
       "\n",
       "    .dataframe tbody tr th {\n",
       "        vertical-align: top;\n",
       "    }\n",
       "\n",
       "    .dataframe thead th {\n",
       "        text-align: right;\n",
       "    }\n",
       "</style>\n",
       "<table border=\"1\" class=\"dataframe\">\n",
       "  <thead>\n",
       "    <tr style=\"text-align: right;\">\n",
       "      <th></th>\n",
       "      <th>t_p</th>\n",
       "      <th>a_p</th>\n",
       "      <th>t_a</th>\n",
       "      <th>a_a</th>\n",
       "    </tr>\n",
       "  </thead>\n",
       "  <tbody>\n",
       "    <tr>\n",
       "      <th>0</th>\n",
       "      <td>0.064783</td>\n",
       "      <td>0.085967</td>\n",
       "      <td>0.067637</td>\n",
       "      <td>0.089321</td>\n",
       "    </tr>\n",
       "    <tr>\n",
       "      <th>1</th>\n",
       "      <td>0.079151</td>\n",
       "      <td>0.084347</td>\n",
       "      <td>0.079873</td>\n",
       "      <td>0.088225</td>\n",
       "    </tr>\n",
       "    <tr>\n",
       "      <th>2</th>\n",
       "      <td>0.072242</td>\n",
       "      <td>0.081044</td>\n",
       "      <td>0.075204</td>\n",
       "      <td>0.087153</td>\n",
       "    </tr>\n",
       "    <tr>\n",
       "      <th>3</th>\n",
       "      <td>0.072663</td>\n",
       "      <td>0.103008</td>\n",
       "      <td>0.076297</td>\n",
       "      <td>0.088963</td>\n",
       "    </tr>\n",
       "    <tr>\n",
       "      <th>4</th>\n",
       "      <td>0.037835</td>\n",
       "      <td>0.105983</td>\n",
       "      <td>0.060927</td>\n",
       "      <td>0.189355</td>\n",
       "    </tr>\n",
       "    <tr>\n",
       "      <th>5</th>\n",
       "      <td>0.092832</td>\n",
       "      <td>0.088766</td>\n",
       "      <td>0.181945</td>\n",
       "      <td>0.149698</td>\n",
       "    </tr>\n",
       "    <tr>\n",
       "      <th>6</th>\n",
       "      <td>0.078178</td>\n",
       "      <td>0.084247</td>\n",
       "      <td>0.079296</td>\n",
       "      <td>0.086784</td>\n",
       "    </tr>\n",
       "    <tr>\n",
       "      <th>7</th>\n",
       "      <td>0.077485</td>\n",
       "      <td>0.089174</td>\n",
       "      <td>0.088833</td>\n",
       "      <td>0.079937</td>\n",
       "    </tr>\n",
       "    <tr>\n",
       "      <th>8</th>\n",
       "      <td>0.094303</td>\n",
       "      <td>0.086899</td>\n",
       "      <td>0.153224</td>\n",
       "      <td>0.168066</td>\n",
       "    </tr>\n",
       "    <tr>\n",
       "      <th>9</th>\n",
       "      <td>0.093465</td>\n",
       "      <td>0.085694</td>\n",
       "      <td>0.098523</td>\n",
       "      <td>0.103374</td>\n",
       "    </tr>\n",
       "  </tbody>\n",
       "</table>\n",
       "</div>"
      ],
      "text/plain": [
       "        t_p       a_p       t_a       a_a\n",
       "0  0.064783  0.085967  0.067637  0.089321\n",
       "1  0.079151  0.084347  0.079873  0.088225\n",
       "2  0.072242  0.081044  0.075204  0.087153\n",
       "3  0.072663  0.103008  0.076297  0.088963\n",
       "4  0.037835  0.105983  0.060927  0.189355\n",
       "5  0.092832  0.088766  0.181945  0.149698\n",
       "6  0.078178  0.084247  0.079296  0.086784\n",
       "7  0.077485  0.089174  0.088833  0.079937\n",
       "8  0.094303  0.086899  0.153224  0.168066\n",
       "9  0.093465  0.085694  0.098523  0.103374"
      ]
     },
     "execution_count": 125,
     "metadata": {},
     "output_type": "execute_result"
    }
   ],
   "source": [
    "# t_p -> train data pre perturbation\n",
    "# a_p -> all data pre perturbation\n",
    "# t_a -> train data after perturbation\n",
    "# a_a -> all data after perturbation\n",
    "\n",
    "p4_df = pd.DataFrame(p4_err_tuple_list, columns =['t_p', 'a_p', 't_a', 'a_a'])\n",
    "p4_df"
   ]
  },
  {
   "cell_type": "code",
   "execution_count": 126,
   "id": "whole-contents",
   "metadata": {},
   "outputs": [
    {
     "data": {
      "text/plain": [
       "<AxesSubplot:title={'center':'MSE: All Data Pre/Post Perturbation'}>"
      ]
     },
     "execution_count": 126,
     "metadata": {},
     "output_type": "execute_result"
    },
    {
     "data": {
      "image/png": "[encoded data removed]",
      "text/plain": [
       "<Figure size 432x288 with 1 Axes>"
      ]
     },
     "metadata": {
      "needs_background": "light"
     },
     "output_type": "display_data"
    }
   ],
   "source": [
    "params={\n",
    "    'title': 'MSE: All Data Pre/Post Perturbation',\n",
    "    'grid':True\n",
    "}\n",
    "\n",
    "s_df=p4_df[['a_p', 'a_a']]\n",
    "s_df.plot(**params)"
   ]
  },
  {
   "cell_type": "code",
   "execution_count": 127,
   "id": "vulnerable-reynolds",
   "metadata": {},
   "outputs": [
    {
     "data": {
      "text/plain": [
       "<AxesSubplot:title={'center':'MSE: Train Data Pre/Post Perturbation'}>"
      ]
     },
     "execution_count": 127,
     "metadata": {},
     "output_type": "execute_result"
    },
    {
     "data": {
      "image/png": "[encoded data removed]",
      "text/plain": [
       "<Figure size 432x288 with 1 Axes>"
      ]
     },
     "metadata": {
      "needs_background": "light"
     },
     "output_type": "display_data"
    }
   ],
   "source": [
    "params={\n",
    "    'title': 'MSE: Train Data Pre/Post Perturbation',\n",
    "    'grid':True\n",
    "}\n",
    "\n",
    "s_df=p4_df[['t_p', 't_a']]\n",
    "s_df.plot(**params)"
   ]
  },
  {
   "cell_type": "markdown",
   "id": "loved-recruitment",
   "metadata": {},
   "source": [
    "### Part 4 Discussion\n",
    "\n",
    "1. Rather than have variation in the inputs, they are deterministic\n",
    "1. Variance increases after perturbation of the model\n",
    "1. What is the key element to take away here?"
   ]
  },
  {
   "cell_type": "markdown",
   "id": "final-wilson",
   "metadata": {},
   "source": [
    "## Part 5\n",
    "\n",
    "1. How ”good” are the different models? \n",
    "1. How robust do they seem to perturbation?\n",
    "    1. This is a question about opinion, based on what you observe and know about the underlying system."
   ]
  },
  {
   "cell_type": "markdown",
   "id": "exclusive-lewis",
   "metadata": {},
   "source": [
    "### Part 5 Discussion\n",
    "\n",
    "1. Review the outputs and make up some story for them tomorrow\n",
    "1. Then pick up on the next set of exercises"
   ]
  }
 ],
 "metadata": {
  "kernelspec": {
   "display_name": "Python 3",
   "language": "python",
   "name": "python3"
  },
  "language_info": {
   "codemirror_mode": {
    "name": "ipython",
    "version": 3
   },
   "file_extension": ".py",
   "mimetype": "text/x-python",
   "name": "python",
   "nbconvert_exporter": "python",
   "pygments_lexer": "ipython3",
   "version": "3.7.9"
  }
 },
 "nbformat": 4,
 "nbformat_minor": 5
}
