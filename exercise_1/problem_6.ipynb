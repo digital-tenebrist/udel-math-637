{
 "cells": [
  {
   "cell_type": "markdown",
   "id": "developmental-retailer",
   "metadata": {},
   "source": [
    "# Problem 6\n",
    "\n",
    "1. Use PCA to construct low-dimensional projections of the data in the four exercise_6_data[1234].txt files in the dropbox. \n",
    "1. For each, work out how many principal components are needed to represent the structure effectively,\n",
    "1. Visualize the point cloud as best you can. \n",
    "1. Each data set in this list can be characterized qualitatively as a low-dimensional ”shape”\n",
    "1. C an you work out what they are?"
   ]
  },
  {
   "cell_type": "markdown",
   "id": "decimal-belize",
   "metadata": {},
   "source": [
    "## Imports And Globals"
   ]
  },
  {
   "cell_type": "code",
   "execution_count": 19,
   "id": "altered-india",
   "metadata": {},
   "outputs": [],
   "source": [
    "import pandas as pd\n",
    "from sklearn.decomposition import PCA\n",
    "\n",
    "DATA_DIR='/data/udel-ms-data-science/math-637'\n",
    "FILE_LIST=[f'exercise_6_data_{i}.txt' for i in range(1,5)]"
   ]
  },
  {
   "cell_type": "markdown",
   "id": "adapted-growing",
   "metadata": {},
   "source": [
    "### Read all data files into array"
   ]
  },
  {
   "cell_type": "code",
   "execution_count": 38,
   "id": "front-support",
   "metadata": {},
   "outputs": [],
   "source": [
    "DF_LIST=[pd.read_csv(f,header=None,delim_whitespace=True).transpose() for f in [f'{DATA_DIR}/{fn}' for fn in FILE_LIST]]"
   ]
  },
  {
   "cell_type": "code",
   "execution_count": 71,
   "id": "found-strike",
   "metadata": {},
   "outputs": [
    {
     "data": {
      "text/plain": [
       "(1999, 30)"
      ]
     },
     "execution_count": 71,
     "metadata": {},
     "output_type": "execute_result"
    }
   ],
   "source": [
    "df=DF_LIST[3]\n",
    "df.shape"
   ]
  },
  {
   "cell_type": "markdown",
   "id": "banner-catch",
   "metadata": {},
   "source": [
    "### Run PCA on each data set"
   ]
  },
  {
   "cell_type": "code",
   "execution_count": 72,
   "id": "private-peninsula",
   "metadata": {},
   "outputs": [
    {
     "name": "stdout",
     "output_type": "stream",
     "text": [
      "Explained Variance Ratio : [0.53849593 0.23451652 0.16276221 0.00555612]\n",
      "Sum of explained variance : 1.0000000000000002\n"
     ]
    },
    {
     "data": {
      "text/plain": [
       "<AxesSubplot:xlabel='dim_0', ylabel='dim_1'>"
      ]
     },
     "execution_count": 72,
     "metadata": {},
     "output_type": "execute_result"
    },
    {
     "data": {
      "image/png": "[encoded data removed]",
      "text/plain": [
       "<Figure size 432x288 with 1 Axes>"
      ]
     },
     "metadata": {
      "needs_background": "light"
     },
     "output_type": "display_data"
    }
   ],
   "source": [
    "pca = PCA(n_components=30)\n",
    "pca.fit(df)\n",
    "print(f'Explained Variance Ratio : {pca.explained_variance_ratio_[0:4]}')\n",
    "print(f'Sum of explained variance : {sum(pca.explained_variance_ratio_)}')\n",
    "# print(f'Singular Values')\n",
    "# print(f'{pca.singular_values_}')\n",
    "fitted=pca.transform(df)\n",
    "fitted_df=pd.DataFrame(fitted, columns=[f'dim_{i}' for i in range(30)])\n",
    "fitted_df.plot.scatter(x='dim_0',y='dim_1')"
   ]
  },
  {
   "cell_type": "code",
   "execution_count": null,
   "id": "productive-marking",
   "metadata": {},
   "outputs": [],
   "source": []
  }
 ],
 "metadata": {
  "kernelspec": {
   "display_name": "Python 3",
   "language": "python",
   "name": "python3"
  },
  "language_info": {
   "codemirror_mode": {
    "name": "ipython",
    "version": 3
   },
   "file_extension": ".py",
   "mimetype": "text/x-python",
   "name": "python",
   "nbconvert_exporter": "python",
   "pygments_lexer": "ipython3",
   "version": "3.7.9"
  }
 },
 "nbformat": 4,
 "nbformat_minor": 5
}
