{
 "cells": [
  {
   "cell_type": "markdown",
   "id": "pending-remove",
   "metadata": {},
   "source": [
    "# Simple Neural Network\n",
    "\n",
    "1. Basic pipeline\n",
    "1. Sequential NN for binary classification\n",
    "    1. First layer - 32 nodes, input_dim=400 - use raw data\n",
    "    1. Second layer - 16 nodes\n",
    "    1. Output layer - 1 node\n",
    "1. Gradient Descent optimizaion : adam\n",
    "1. Binary Cross Entropy loss function : binary classification\n",
    "1. Accuracy metric"
   ]
  },
  {
   "cell_type": "markdown",
   "id": "outer-general",
   "metadata": {},
   "source": [
    "## Imports and Globals"
   ]
  },
  {
   "cell_type": "code",
   "execution_count": 65,
   "id": "afraid-partition",
   "metadata": {},
   "outputs": [],
   "source": [
    "from collections import namedtuple\n",
    "from datetime import datetime\n",
    "\n",
    "import pandas as pd\n",
    "import numpy as np\n",
    "import matplotlib.pyplot as plt\n",
    "import seaborn as sns\n",
    "\n",
    "from sklearn.decomposition import PCA\n",
    "from sklearn.manifold import Isomap\n",
    "from sklearn.manifold import TSNE\n",
    "\n",
    "from keras.models import Sequential\n",
    "from keras.layers import Dense\n",
    "\n",
    "from sklearn.model_selection import train_test_split\n",
    "\n",
    "from sklearn.metrics import confusion_matrix\n",
    "from sklearn.metrics import roc_curve\n",
    "\n",
    "import font_utils.load_font as LF\n",
    "\n",
    "TRIMMED_PATH='/data/udel-ms-data-science/math-637/project-1/char-fonts/trimmed'\n",
    "ALL_FONTS_CSV=f'{TRIMMED_PATH}/all_fonts.csv'\n",
    "\n",
    "DATA_COLS=[f'r{row}c{col}' for row in range(20) for col in range(20)]\n",
    "TARGET_COL=['font_class']\n",
    "META_COLS=['m_label', 'font', 'variant']"
   ]
  },
  {
   "cell_type": "markdown",
   "id": "inclusive-correlation",
   "metadata": {},
   "source": [
    "## Read All Font Data"
   ]
  },
  {
   "cell_type": "code",
   "execution_count": 73,
   "id": "sensitive-basic",
   "metadata": {},
   "outputs": [
    {
     "data": {
      "text/plain": [
       "m_label        int64\n",
       "r0c0           int64\n",
       "r0c1           int64\n",
       "r0c2           int64\n",
       "r0c3           int64\n",
       "               ...  \n",
       "r19c18         int64\n",
       "r19c19         int64\n",
       "font          object\n",
       "variant       object\n",
       "font_class    object\n",
       "Length: 404, dtype: object"
      ]
     },
     "execution_count": 73,
     "metadata": {},
     "output_type": "execute_result"
    }
   ],
   "source": [
    "all_df = pd.read_csv(ALL_FONTS_CSV).drop('Unnamed: 0', axis=1)\n",
    "all_df.dtypes"
   ]
  },
  {
   "cell_type": "markdown",
   "id": "damaged-circumstances",
   "metadata": {},
   "source": [
    "### Create DataFrames for raw data\n",
    "\n",
    "1. Randomly shuffle the data first to mix the classes within the data set\n",
    "1. m_label - the character encoded as ASCII\n",
    "1. font\n",
    "1. font variant\n",
    "1. class_label (TARGET)\n",
    "    1. 1 - The font character is the given font class\n",
    "    1. 0 - The font character is not the given font class\n",
    "1. r0c0...r19c19 (400 elements in raw image data)"
   ]
  },
  {
   "cell_type": "code",
   "execution_count": 98,
   "id": "electronic-length",
   "metadata": {},
   "outputs": [
    {
     "name": "stdout",
     "output_type": "stream",
     "text": [
      "mo (3470, 404)\n",
      "os (2726, 404)\n",
      "ss (5702, 404)\n",
      "tr (2479, 404)\n"
     ]
    }
   ],
   "source": [
    "class_counts = {\n",
    "    cc_i:cc_v for cc_i, cc_v in all_df.groupby(by='font_class').count().m_label.items()\n",
    "}\n",
    "\n",
    "BY_CLASS = {c:all_df.loc[all_df.font_class == c] for c in ['mo', 'os', 'ss', 'tr']}\n",
    "\n",
    "WITHOUT = {\n",
    "    'mo' : ['os', 'ss', 'tr'],\n",
    "    'os' : ['mo', 'ss', 'tr'],\n",
    "    'ss' : ['mo', 'os', 'tr'],\n",
    "    'tr' : ['mo', 'os', 'ss']    \n",
    "}\n",
    "\n",
    "RAW_INPUT_DICT = dict()\n",
    "for k,v in class_counts.items():\n",
    "    one_third = int(v/3)\n",
    "#     print(f'{k} : {v} : {one_third} : {WITHOUT[k]}')\n",
    "    others = list()\n",
    "    for c in WITHOUT[k]:\n",
    "        others.append(BY_CLASS[c].sample(frac=float(one_third/class_counts[c])).reset_index(drop=True))\n",
    "    others.append(BY_CLASS[k])\n",
    "#     print(f'Len of others {len(others)}')\n",
    "    t_df = pd.DataFrame().append(others).sample(frac=1).reset_index(drop=True)\n",
    "    t_df['font_class'] = np.where(t_df.font_class == k, 1, 0)\n",
    "    t_df['font_class'] = t_df['font_class'].astype(int)\n",
    "    RAW_INPUT_DICT[k] = t_df\n",
    "    \n",
    "for c, df in RAW_INPUT_DICT.items():\n",
    "    print(f'{c} {df.shape}')"
   ]
  },
  {
   "cell_type": "markdown",
   "id": "designing-trust",
   "metadata": {},
   "source": [
    "## Split Data Into Train/Test\n",
    "\n",
    "1. X cols: r0c0,...,r19c19\n",
    "1. Y cols: font_class\n",
    "1. Others: m_label, font, variant"
   ]
  },
  {
   "cell_type": "code",
   "execution_count": 99,
   "id": "equipped-reason",
   "metadata": {},
   "outputs": [],
   "source": [
    "df = RAW_INPUT_DICT['ss']\n",
    "X = df.loc[:, DATA_COLS]\n",
    "Y = df.loc[:, TARGET_COL]\n",
    "M = df.loc[:, META_COLS]\n",
    "\n",
    "X_train, X_test, Y_train, Y_test = train_test_split(X, Y, test_size=0.2)\n",
    "X_train, X_val, Y_train, Y_val = train_test_split(X_train, Y_train, test_size=0.2)"
   ]
  },
  {
   "cell_type": "markdown",
   "id": "norwegian-female",
   "metadata": {},
   "source": [
    "## Setup Sequential Neural Network"
   ]
  },
  {
   "cell_type": "code",
   "execution_count": 106,
   "id": "minimal-chamber",
   "metadata": {},
   "outputs": [
    {
     "name": "stdout",
     "output_type": "stream",
     "text": [
      "Start 2021-05-22 21:15:56.650739\n",
      "Stop  2021-05-22 21:16:05.585438\n",
      "114/114 [==============================] - 0s 464us/step - loss: 0.0642 - accuracy: 0.9866\n",
      "Training Accurancy 98.65679740905762\n",
      "36/36 [==============================] - 0s 658us/step - loss: 0.4384 - accuracy: 0.9176\n",
      "Test Accurancy 91.76161289215088\n"
     ]
    }
   ],
   "source": [
    "L1_NODES = 16\n",
    "L2_NODES = 8\n",
    "INPUT_DIMS = 400\n",
    "\n",
    "nn = Sequential()\n",
    "nn.add(Dense(L1_NODES, activation='relu',input_dim=INPUT_DIMS))\n",
    "nn.add(Dense(L2_NODES, activation='relu'))\n",
    "nn.add(Dense(1,activation='sigmoid'))\n",
    "\n",
    "nn.compile(optimizer='adam',loss='binary_crossentropy',metrics=['accuracy'])\n",
    "\n",
    "print(f'Start {datetime.now()}')\n",
    "nn.fit(X_train,Y_train, epochs=200,verbose=0)\n",
    "print(f'Stop  {datetime.now()}')\n",
    "\n",
    "scores = nn.evaluate(X_train,Y_train)\n",
    "print(f'Training Accurancy {scores[1]*100}')\n",
    "\n",
    "scores = nn.evaluate(X_test,Y_test)\n",
    "print(f'Test Accurancy {scores[1]*100}')"
   ]
  },
  {
   "cell_type": "markdown",
   "id": "sixth-detector",
   "metadata": {},
   "source": [
    "## Confusion Matrix"
   ]
  },
  {
   "cell_type": "code",
   "execution_count": 107,
   "id": "interstate-dragon",
   "metadata": {},
   "outputs": [
    {
     "data": {
      "image/png": "[encoded data removed]",
      "text/plain": [
       "<Figure size 432x288 with 1 Axes>"
      ]
     },
     "metadata": {
      "needs_background": "light"
     },
     "output_type": "display_data"
    }
   ],
   "source": [
    "y_test_pred = nn.predict_classes(X_test)\n",
    "c_matrix = confusion_matrix(Y_test, y_test_pred)\n",
    "ax = sns.heatmap(\n",
    "    c_matrix, \n",
    "    annot=True,\n",
    "    xticklabels=['Not Old Style', 'Old Style'],\n",
    "    yticklabels=['Not Old Style', 'Old Style'],\n",
    "    cbar=False,\n",
    "    cmap='Blues',\n",
    "    fmt='g'\n",
    ")\n",
    "ax.set_xlabel='Prediction'\n",
    "ax.set_ylabel='Actual'"
   ]
  },
  {
   "cell_type": "markdown",
   "id": "rough-petersburg",
   "metadata": {},
   "source": [
    "## ROC Curve"
   ]
  },
  {
   "cell_type": "code",
   "execution_count": 108,
   "id": "latter-circulation",
   "metadata": {},
   "outputs": [
    {
     "data": {
      "text/plain": [
       "Text(0, 0.5, 'True Positive Rate')"
      ]
     },
     "execution_count": 108,
     "metadata": {},
     "output_type": "execute_result"
    },
    {
     "data": {
      "image/png": "[encoded data removed]",
      "text/plain": [
       "<Figure size 432x288 with 1 Axes>"
      ]
     },
     "metadata": {
      "needs_background": "light"
     },
     "output_type": "display_data"
    }
   ],
   "source": [
    "y_test_pred_probs = nn.predict(X_test)\n",
    "fpr, tpr, _ = roc_curve(Y_test, y_test_pred_probs)\n",
    "plt.plot(fpr, tpr)\n",
    "plt.plot([0,1],[0,1],'--', color='black')\n",
    "plt.title('ROC Curve')\n",
    "plt.xlabel('False Positive Rate')\n",
    "plt.ylabel('True Positive Rate')"
   ]
  },
  {
   "cell_type": "code",
   "execution_count": null,
   "id": "saved-quantum",
   "metadata": {},
   "outputs": [],
   "source": []
  }
 ],
 "metadata": {
  "kernelspec": {
   "display_name": "Python 3",
   "language": "python",
   "name": "python3"
  },
  "language_info": {
   "codemirror_mode": {
    "name": "ipython",
    "version": 3
   },
   "file_extension": ".py",
   "mimetype": "text/x-python",
   "name": "python",
   "nbconvert_exporter": "python",
   "pygments_lexer": "ipython3",
   "version": "3.7.9"
  }
 },
 "nbformat": 4,
 "nbformat_minor": 5
}
