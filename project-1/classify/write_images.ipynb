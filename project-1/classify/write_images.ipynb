{
 "cells": [
  {
   "cell_type": "markdown",
   "id": "successful-slave",
   "metadata": {},
   "source": [
    "# Write Images\n",
    "\n",
    "1. Keras CNN requires ImageDataGenerator\n",
    "1. Difficulties using raw dataframes\n",
    "1. Write each data frame as 20x20 png image"
   ]
  },
  {
   "cell_type": "markdown",
   "id": "fatty-liability",
   "metadata": {},
   "source": [
    "## Imports and Globals"
   ]
  },
  {
   "cell_type": "code",
   "execution_count": 5,
   "id": "radio-saver",
   "metadata": {},
   "outputs": [],
   "source": [
    "from collections import namedtuple\n",
    "from datetime import datetime\n",
    "\n",
    "import pandas as pd\n",
    "import numpy as np\n",
    "import matplotlib.pyplot as plt\n",
    "import seaborn as sns\n",
    "\n",
    "from sklearn.model_selection import train_test_split\n",
    "\n",
    "import font_utils.load_font as LF\n",
    "\n",
    "TRIMMED_PATH='/data/udel-ms-data-science/math-637/project-1/char-fonts/trimmed'\n",
    "ALL_FONTS_CSV=f'{TRIMMED_PATH}/all_fonts.csv'\n",
    "\n",
    "DATA_COLS=[f'r{row}c{col}' for row in range(20) for col in range(20)]\n",
    "TARGET_COL=['font_class']\n",
    "META_COLS=['m_label', 'font', 'variant']\n",
    "\n",
    "IMAGE_ROOT_DIR='/data/udel-ms-data-science/math-637/project-1/char-fonts/images'"
   ]
  },
  {
   "cell_type": "markdown",
   "id": "boxed-kingdom",
   "metadata": {},
   "source": [
    "## Read All Font Data\n",
    "\n",
    "1. Randomly shuffle the data first to mix the classes within the data set\n",
    "1. m_label - the character encoded as ASCII\n",
    "1. font\n",
    "1. font variant\n",
    "1. class_label (TARGET)\n",
    "    1. 1 - The font character is the given font class\n",
    "    1. 0 - The font character is not the given font class\n",
    "1. r0c0...r19c19 (400 elements in raw image data)"
   ]
  },
  {
   "cell_type": "code",
   "execution_count": 6,
   "id": "shaped-backing",
   "metadata": {},
   "outputs": [
    {
     "name": "stdout",
     "output_type": "stream",
     "text": [
      "mo (3470, 404)\n",
      "os (2726, 404)\n",
      "ss (5702, 404)\n",
      "tr (2479, 404)\n"
     ]
    }
   ],
   "source": [
    "all_df = pd.read_csv(ALL_FONTS_CSV).drop('Unnamed: 0', axis=1)\n",
    "\n",
    "class_counts = {\n",
    "    cc_i:cc_v for cc_i, cc_v in all_df.groupby(by='font_class').count().m_label.items()\n",
    "}\n",
    "\n",
    "BY_CLASS = {c:all_df.loc[all_df.font_class == c] for c in ['mo', 'os', 'ss', 'tr']}\n",
    "\n",
    "WITHOUT = {\n",
    "    'mo' : ['os', 'ss', 'tr'],\n",
    "    'os' : ['mo', 'ss', 'tr'],\n",
    "    'ss' : ['mo', 'os', 'tr'],\n",
    "    'tr' : ['mo', 'os', 'ss']    \n",
    "}\n",
    "\n",
    "RAW_INPUT_DICT = dict()\n",
    "for k,v in class_counts.items():\n",
    "    one_third = int(v/3)\n",
    "    others = list()\n",
    "    for c in WITHOUT[k]:\n",
    "        others.append(BY_CLASS[c].sample(frac=float(one_third/class_counts[c])).reset_index(drop=True))\n",
    "    others.append(BY_CLASS[k])\n",
    "    t_df = pd.DataFrame().append(others).sample(frac=1).reset_index(drop=True)\n",
    "    t_df['font_class'] = np.where(t_df.font_class == k, 1, 0)\n",
    "    t_df['font_class'] = t_df['font_class'].astype(int)\n",
    "    RAW_INPUT_DICT[k] = t_df\n",
    "    \n",
    "for c, df in RAW_INPUT_DICT.items():\n",
    "    print(f'{c} {df.shape}')"
   ]
  },
  {
   "cell_type": "code",
   "execution_count": 17,
   "id": "arranged-person",
   "metadata": {},
   "outputs": [
    {
     "name": "stdout",
     "output_type": "stream",
     "text": [
      "Shape (2726, 404) : threshold 2180\n",
      "Shape train (2180, 404) Shape test (546, 404)\n"
     ]
    }
   ],
   "source": [
    "junk = RAW_INPUT_DICT['os']\n",
    "nrows = junk.shape[0]\n",
    "thr = int(0.8*junk.shape[0])\n",
    "print(f'Shape {junk.shape} : threshold {thr}')\n",
    "\n",
    "train = junk.iloc[:thr, :]\n",
    "test  = junk.iloc[thr:, :]\n",
    "\n",
    "print(f'Shape train {train.shape} Shape test {test.shape}')"
   ]
  },
  {
   "cell_type": "code",
   "execution_count": 18,
   "id": "given-serial",
   "metadata": {},
   "outputs": [],
   "source": [
    "def split_df(df, ratio):\n",
    "    thr = int(ratio*df.shape[0])\n",
    "    train = df.iloc[:thr,:]\n",
    "    test  = df.iloc[thr:,:]\n",
    "    return train, test\n",
    "\n",
    "def reshape_img(df):\n",
    "    img = df[DATA_COLS]\n",
    "    \n",
    "def address_dfs(tag, d):\n",
    "    for k,v in d:\n",
    "        font_path=f'{IMAGE_ROOT_DIR}/tag'\n",
    "        if k == 'target_train':\n",
    "            o_path = f'{font_path}/train/class_a'\n",
    "        if k == 'target_test':\n",
    "            o_path = f'{font_path}/test/class_a'\n",
    "        if k == 'misses_train':\n",
    "            o_path = f'{font_path}/train/class_b'\n",
    "        if k == 'misses_test':\n",
    "            o_path = f'{font_path}/test/class_b'\n",
    "        \n",
    "        img_df = reshape_img(v)"
   ]
  },
  {
   "cell_type": "code",
   "execution_count": 10,
   "id": "twenty-tolerance",
   "metadata": {},
   "outputs": [
    {
     "name": "stdout",
     "output_type": "stream",
     "text": [
      "Shape of target (1736, 404) of misses (1734, 404)\n",
      "Shape of target (1364, 404) of misses (1362, 404)\n",
      "Shape of target (2852, 404) of misses (2850, 404)\n",
      "Shape of target (1240, 404) of misses (1239, 404)\n"
     ]
    }
   ],
   "source": [
    "for c, df in RAW_INPUT_DICT.items():\n",
    "    target_df = df.loc[df.font_class == 1]\n",
    "    misses_df = df.loc[df.font_class == 0]\n",
    "    print(f'Shape of target {target_df.shape} of misses {misses_df.shape}')\n",
    "    \n",
    "    # Split data frames\n",
    "    t1, t2 = split_df(target_df, 0.8)\n",
    "    m1, m2  = split_df(misses_df, 0.8)\n",
    "    \n",
    "    splits = dict()\n",
    "    splits['target_train'] = t1\n",
    "    splits['target_test']  = t2\n",
    "    splits['misses_train'] = m1\n",
    "    splits['misses_test']  = m2\n",
    "    \n",
    "    address_dfs(c, splits)"
   ]
  },
  {
   "cell_type": "markdown",
   "id": "willing-notebook",
   "metadata": {},
   "source": [
    "## Split Data Into Train/Test\n",
    "\n",
    "1. X cols: r0c0,...,r19c19\n",
    "1. Y cols: font_class\n",
    "1. Others: m_label, font, variant"
   ]
  },
  {
   "cell_type": "code",
   "execution_count": 7,
   "id": "unlike-heritage",
   "metadata": {},
   "outputs": [],
   "source": [
    "IN_DATA = dict()\n",
    "for k,df in RAW_INPUT_DICT.items():\n",
    "    x = df.loc[:, DATA_COLS]\n",
    "    y = df.loc[:, TARGET_COL]\n",
    "    m = df.loc[:, META_COLS]\n",
    "    \n",
    "    X_train, X_test, Y_train, Y_test = train_test_split(x, y, test_size=0.2)\n",
    "#     X_train, X_val, Y_train, Y_val = train_test_split(X_train, Y_train, test_size=0.2)\n",
    "    \n",
    "    i_data = dict()\n",
    "    i_data['train_x'] = X_train\n",
    "    i_data['train_y'] = Y_train\n",
    "#     i_data['val_x']   = X_val\n",
    "#     i_data['val_y']   = Y_val\n",
    "    i_data['test_x'] = X_test\n",
    "    i_data['test_y'] = Y_test\n",
    "    \n",
    "    IN_DATA[k] = i_data"
   ]
  },
  {
   "cell_type": "code",
   "execution_count": null,
   "id": "anticipated-pharmacy",
   "metadata": {},
   "outputs": [],
   "source": []
  }
 ],
 "metadata": {
  "kernelspec": {
   "display_name": "Python 3",
   "language": "python",
   "name": "python3"
  },
  "language_info": {
   "codemirror_mode": {
    "name": "ipython",
    "version": 3
   },
   "file_extension": ".py",
   "mimetype": "text/x-python",
   "name": "python",
   "nbconvert_exporter": "python",
   "pygments_lexer": "ipython3",
   "version": "3.7.9"
  }
 },
 "nbformat": 4,
 "nbformat_minor": 5
}
