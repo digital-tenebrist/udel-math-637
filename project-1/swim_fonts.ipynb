{
 "cells": [
  {
   "cell_type": "markdown",
   "id": "royal-dietary",
   "metadata": {},
   "source": [
    "# Swim Fonts"
   ]
  },
  {
   "cell_type": "markdown",
   "id": "peripheral-wales",
   "metadata": {},
   "source": [
    "### Imports and Global Variables"
   ]
  },
  {
   "cell_type": "code",
   "execution_count": 101,
   "id": "behind-assembly",
   "metadata": {},
   "outputs": [],
   "source": [
    "import string\n",
    "import random\n",
    "\n",
    "import pandas as pd\n",
    "import numpy as np\n",
    "import matplotlib.pyplot as plt\n",
    "\n",
    "FONT_PATH='/data/udel-ms-data-science/math-637/project-1/char-fonts/raw'\n",
    "FONT_EXTENSION='csv'\n",
    "FONTS=['courier']\n",
    "ROW_COLS=[f'r{r}c{c}' for r in range(20) for c in range(20)]\n",
    "LABEL_COL='m_label'\n",
    "KEEP_COLS=[LABEL_COL, *ROW_COLS]\n",
    "\n",
    "_UPPER_LOWER=string.ascii_letters\n",
    "_NUMERALS='0123456789'\n",
    "_ULN=_UPPER_LOWER+_NUMERALS\n",
    "\n",
    "ULN=[ord(x) for x in _ULN]"
   ]
  },
  {
   "cell_type": "markdown",
   "id": "pressed-disease",
   "metadata": {},
   "source": [
    "### Import Utility Modules\n",
    "#### Takes forever to load single item...So, read raw csv into dataframe and prune"
   ]
  },
  {
   "cell_type": "code",
   "execution_count": 2,
   "id": "enabling-holmes",
   "metadata": {},
   "outputs": [],
   "source": [
    "import font_utils.trim_raw_fonts as TRF"
   ]
  },
  {
   "cell_type": "markdown",
   "id": "legal-bible",
   "metadata": {},
   "source": [
    "### Read Font Into DataFrame"
   ]
  },
  {
   "cell_type": "code",
   "execution_count": 4,
   "id": "warming-skill",
   "metadata": {},
   "outputs": [],
   "source": [
    "trf = TRF.TrimRawFonts(f'{FONT_PATH}/{FONTS[0]}.{FONT_EXTENSION}')"
   ]
  },
  {
   "cell_type": "code",
   "execution_count": 5,
   "id": "dietary-field",
   "metadata": {},
   "outputs": [],
   "source": [
    "courier_df = trf.load_font_dataframe()"
   ]
  },
  {
   "cell_type": "code",
   "execution_count": 7,
   "id": "running-neighborhood",
   "metadata": {},
   "outputs": [
    {
     "data": {
      "text/plain": [
       "(1145, 400)"
      ]
     },
     "execution_count": 7,
     "metadata": {},
     "output_type": "execute_result"
    }
   ],
   "source": [
    "courier_df.shape"
   ]
  },
  {
   "cell_type": "code",
   "execution_count": 8,
   "id": "abandoned-understanding",
   "metadata": {},
   "outputs": [
    {
     "data": {
      "text/html": [
       "<div>\n",
       "<style scoped>\n",
       "    .dataframe tbody tr th:only-of-type {\n",
       "        vertical-align: middle;\n",
       "    }\n",
       "\n",
       "    .dataframe tbody tr th {\n",
       "        vertical-align: top;\n",
       "    }\n",
       "\n",
       "    .dataframe thead th {\n",
       "        text-align: right;\n",
       "    }\n",
       "</style>\n",
       "<table border=\"1\" class=\"dataframe\">\n",
       "  <thead>\n",
       "    <tr style=\"text-align: right;\">\n",
       "      <th></th>\n",
       "      <th>r0c0</th>\n",
       "      <th>r0c1</th>\n",
       "      <th>r0c2</th>\n",
       "      <th>r0c3</th>\n",
       "      <th>r0c4</th>\n",
       "      <th>r0c5</th>\n",
       "      <th>r0c6</th>\n",
       "      <th>r0c7</th>\n",
       "      <th>r0c8</th>\n",
       "      <th>r0c9</th>\n",
       "      <th>...</th>\n",
       "      <th>r19c10</th>\n",
       "      <th>r19c11</th>\n",
       "      <th>r19c12</th>\n",
       "      <th>r19c13</th>\n",
       "      <th>r19c14</th>\n",
       "      <th>r19c15</th>\n",
       "      <th>r19c16</th>\n",
       "      <th>r19c17</th>\n",
       "      <th>r19c18</th>\n",
       "      <th>r19c19</th>\n",
       "    </tr>\n",
       "  </thead>\n",
       "  <tbody>\n",
       "    <tr>\n",
       "      <th>48</th>\n",
       "      <td>1</td>\n",
       "      <td>9</td>\n",
       "      <td>14</td>\n",
       "      <td>15</td>\n",
       "      <td>45</td>\n",
       "      <td>87</td>\n",
       "      <td>134</td>\n",
       "      <td>186</td>\n",
       "      <td>226</td>\n",
       "      <td>232</td>\n",
       "      <td>...</td>\n",
       "      <td>162</td>\n",
       "      <td>150</td>\n",
       "      <td>120</td>\n",
       "      <td>99</td>\n",
       "      <td>80</td>\n",
       "      <td>61</td>\n",
       "      <td>34</td>\n",
       "      <td>26</td>\n",
       "      <td>22</td>\n",
       "      <td>22</td>\n",
       "    </tr>\n",
       "    <tr>\n",
       "      <th>51</th>\n",
       "      <td>1</td>\n",
       "      <td>3</td>\n",
       "      <td>21</td>\n",
       "      <td>46</td>\n",
       "      <td>67</td>\n",
       "      <td>128</td>\n",
       "      <td>178</td>\n",
       "      <td>213</td>\n",
       "      <td>234</td>\n",
       "      <td>241</td>\n",
       "      <td>...</td>\n",
       "      <td>184</td>\n",
       "      <td>184</td>\n",
       "      <td>166</td>\n",
       "      <td>139</td>\n",
       "      <td>116</td>\n",
       "      <td>83</td>\n",
       "      <td>64</td>\n",
       "      <td>45</td>\n",
       "      <td>30</td>\n",
       "      <td>23</td>\n",
       "    </tr>\n",
       "    <tr>\n",
       "      <th>78</th>\n",
       "      <td>255</td>\n",
       "      <td>255</td>\n",
       "      <td>255</td>\n",
       "      <td>255</td>\n",
       "      <td>255</td>\n",
       "      <td>255</td>\n",
       "      <td>171</td>\n",
       "      <td>1</td>\n",
       "      <td>1</td>\n",
       "      <td>1</td>\n",
       "      <td>...</td>\n",
       "      <td>1</td>\n",
       "      <td>1</td>\n",
       "      <td>1</td>\n",
       "      <td>1</td>\n",
       "      <td>1</td>\n",
       "      <td>255</td>\n",
       "      <td>255</td>\n",
       "      <td>255</td>\n",
       "      <td>86</td>\n",
       "      <td>1</td>\n",
       "    </tr>\n",
       "    <tr>\n",
       "      <th>49</th>\n",
       "      <td>20</td>\n",
       "      <td>28</td>\n",
       "      <td>36</td>\n",
       "      <td>44</td>\n",
       "      <td>75</td>\n",
       "      <td>88</td>\n",
       "      <td>113</td>\n",
       "      <td>152</td>\n",
       "      <td>198</td>\n",
       "      <td>218</td>\n",
       "      <td>...</td>\n",
       "      <td>158</td>\n",
       "      <td>152</td>\n",
       "      <td>152</td>\n",
       "      <td>152</td>\n",
       "      <td>158</td>\n",
       "      <td>170</td>\n",
       "      <td>180</td>\n",
       "      <td>167</td>\n",
       "      <td>151</td>\n",
       "      <td>132</td>\n",
       "    </tr>\n",
       "    <tr>\n",
       "      <th>57</th>\n",
       "      <td>28</td>\n",
       "      <td>31</td>\n",
       "      <td>45</td>\n",
       "      <td>70</td>\n",
       "      <td>136</td>\n",
       "      <td>184</td>\n",
       "      <td>215</td>\n",
       "      <td>227</td>\n",
       "      <td>235</td>\n",
       "      <td>236</td>\n",
       "      <td>...</td>\n",
       "      <td>70</td>\n",
       "      <td>60</td>\n",
       "      <td>55</td>\n",
       "      <td>40</td>\n",
       "      <td>32</td>\n",
       "      <td>30</td>\n",
       "      <td>19</td>\n",
       "      <td>25</td>\n",
       "      <td>28</td>\n",
       "      <td>28</td>\n",
       "    </tr>\n",
       "  </tbody>\n",
       "</table>\n",
       "<p>5 rows × 400 columns</p>\n",
       "</div>"
      ],
      "text/plain": [
       "    r0c0  r0c1  r0c2  r0c3  r0c4  r0c5  r0c6  r0c7  r0c8  r0c9  ...  r19c10  \\\n",
       "48     1     9    14    15    45    87   134   186   226   232  ...     162   \n",
       "51     1     3    21    46    67   128   178   213   234   241  ...     184   \n",
       "78   255   255   255   255   255   255   171     1     1     1  ...       1   \n",
       "49    20    28    36    44    75    88   113   152   198   218  ...     158   \n",
       "57    28    31    45    70   136   184   215   227   235   236  ...      70   \n",
       "\n",
       "    r19c11  r19c12  r19c13  r19c14  r19c15  r19c16  r19c17  r19c18  r19c19  \n",
       "48     150     120      99      80      61      34      26      22      22  \n",
       "51     184     166     139     116      83      64      45      30      23  \n",
       "78       1       1       1       1     255     255     255      86       1  \n",
       "49     152     152     152     158     170     180     167     151     132  \n",
       "57      60      55      40      32      30      19      25      28      28  \n",
       "\n",
       "[5 rows x 400 columns]"
      ]
     },
     "execution_count": 8,
     "metadata": {},
     "output_type": "execute_result"
    }
   ],
   "source": [
    "courier_df.head()"
   ]
  },
  {
   "cell_type": "markdown",
   "id": "complimentary-history",
   "metadata": {},
   "source": [
    "### Read Raw Font File"
   ]
  },
  {
   "cell_type": "code",
   "execution_count": 10,
   "id": "unlimited-butler",
   "metadata": {},
   "outputs": [],
   "source": [
    "cdf = pd.read_csv(f'{FONT_PATH}/{FONTS[0]}.{FONT_EXTENSION}')"
   ]
  },
  {
   "cell_type": "code",
   "execution_count": 11,
   "id": "restricted-archive",
   "metadata": {},
   "outputs": [
    {
     "data": {
      "text/plain": [
       "(12229, 412)"
      ]
     },
     "execution_count": 11,
     "metadata": {},
     "output_type": "execute_result"
    }
   ],
   "source": [
    "cdf.shape"
   ]
  },
  {
   "cell_type": "markdown",
   "id": "latter-commons",
   "metadata": {},
   "source": [
    "#### Columns"
   ]
  },
  {
   "cell_type": "code",
   "execution_count": 13,
   "id": "functioning-combining",
   "metadata": {},
   "outputs": [
    {
     "data": {
      "text/plain": [
       "Index(['font', 'fontVariant', 'm_label', 'strength', 'italic', 'orientation',\n",
       "       'm_top', 'm_left', 'originalH', 'originalW',\n",
       "       ...\n",
       "       'r19c10', 'r19c11', 'r19c12', 'r19c13', 'r19c14', 'r19c15', 'r19c16',\n",
       "       'r19c17', 'r19c18', 'r19c19'],\n",
       "      dtype='object', length=412)"
      ]
     },
     "execution_count": 13,
     "metadata": {},
     "output_type": "execute_result"
    }
   ],
   "source": [
    "cdf.columns"
   ]
  },
  {
   "cell_type": "markdown",
   "id": "driving-flight",
   "metadata": {},
   "source": [
    "#### Filter Unwanted Entries\n",
    "1. Select on font column = COURIER\n",
    "1. Select only a-zA-Z0-9\n",
    "    1. a-z ord values range inclusive: 97,...,122\n",
    "    1. A-Z ord values range inclusive: 65,...,90\n",
    "    1. 0-9 ord values range inclusive: 48,...,57\n",
    "1. Select on fontVariant column = scanned\n",
    "1. Select on italic column = 0"
   ]
  },
  {
   "cell_type": "code",
   "execution_count": 53,
   "id": "growing-convert",
   "metadata": {},
   "outputs": [],
   "source": [
    "letters_numbers = cdf.loc[\n",
    "    (cdf['font'] == 'COURIER') &\n",
    "    (\n",
    "        ( (cdf['m_label'] > 96) & (cdf['m_label'] < 123) ) | # lower case a-z\n",
    "        ( (cdf['m_label'] > 64) & (cdf['m_label'] < 91)  ) | # upper case A-Z\n",
    "        ( (cdf['m_label'] > 47) & (cdf['m_label'] < 58)  )   # numerals 0-9\n",
    "    ) &\n",
    "    (cdf['fontVariant'] == 'scanned') & \n",
    "    (cdf['italic'] == 0)\n",
    "]"
   ]
  },
  {
   "cell_type": "markdown",
   "id": "challenging-walter",
   "metadata": {},
   "source": [
    "#### Check Frequency Of Each Letter\n",
    "1. Should have 62 unique entries\n",
    "1. 0-9 characters have much greater frequency\n",
    "    1. Sample numeric characters to match basic frequency of letters\n",
    "    1. Figure out the smallest entry of letters and use that to build up sample"
   ]
  },
  {
   "cell_type": "code",
   "execution_count": 56,
   "id": "involved-assistant",
   "metadata": {},
   "outputs": [
    {
     "data": {
      "text/plain": [
       "48     87\n",
       "54     67\n",
       "49     64\n",
       "56     52\n",
       "51     51\n",
       "       ..\n",
       "99      6\n",
       "98      6\n",
       "84      6\n",
       "122     6\n",
       "89      5\n",
       "Name: m_label, Length: 62, dtype: int64"
      ]
     },
     "execution_count": 56,
     "metadata": {},
     "output_type": "execute_result"
    }
   ],
   "source": [
    "letters_numbers.m_label.value_counts()"
   ]
  },
  {
   "cell_type": "code",
   "execution_count": 55,
   "id": "digital-saver",
   "metadata": {},
   "outputs": [
    {
     "data": {
      "text/plain": [
       "<AxesSubplot:>"
      ]
     },
     "execution_count": 55,
     "metadata": {},
     "output_type": "execute_result"
    },
    {
     "data": {
      "image/png": "[encoded data removed]",
      "text/plain": [
       "<Figure size 432x288 with 1 Axes>"
      ]
     },
     "metadata": {
      "needs_background": "light"
     },
     "output_type": "display_data"
    }
   ],
   "source": [
    "letters_numbers.m_label.value_counts().plot.bar()"
   ]
  },
  {
   "cell_type": "markdown",
   "id": "sensitive-video",
   "metadata": {},
   "source": [
    "#### Remove Unwanted Columns"
   ]
  },
  {
   "cell_type": "code",
   "execution_count": 61,
   "id": "previous-feelings",
   "metadata": {},
   "outputs": [],
   "source": [
    "less_cols = letters_numbers[KEEP_COLS]"
   ]
  },
  {
   "cell_type": "markdown",
   "id": "polyphonic-annex",
   "metadata": {},
   "source": [
    "### Create Sample Of Font\n",
    "1. Which character has minimum versions\n",
    "1. Random sample the list of indices for each character with that min\n",
    "1. Flatten the list of lists into single list\n",
    "1. Pull those rows from cleaned dataframe"
   ]
  },
  {
   "cell_type": "code",
   "execution_count": 69,
   "id": "automated-formula",
   "metadata": {},
   "outputs": [
    {
     "data": {
      "text/plain": [
       "[801, 990, 871, 887, 964]"
      ]
     },
     "execution_count": 69,
     "metadata": {},
     "output_type": "execute_result"
    }
   ],
   "source": [
    "min_char_count = min(less_cols.m_label.value_counts())\n",
    "random.sample(less_cols.index[less_cols['m_label'] == 48].tolist(), min_char_count)"
   ]
  },
  {
   "cell_type": "code",
   "execution_count": 95,
   "id": "dominican-machine",
   "metadata": {},
   "outputs": [],
   "source": [
    "to_flatten = [random.sample(less_cols.index[less_cols['m_label'] == c].tolist(), min_char_count) for c in ULN]"
   ]
  },
  {
   "cell_type": "code",
   "execution_count": 94,
   "id": "indonesian-catering",
   "metadata": {},
   "outputs": [],
   "source": [
    "flat_idx = [item for sublist in to_flatten for item in sublist]"
   ]
  },
  {
   "cell_type": "code",
   "execution_count": 96,
   "id": "flush-acrobat",
   "metadata": {},
   "outputs": [],
   "source": [
    "pca_candidate = less_cols[less_cols.index.isin(flat_idx)]"
   ]
  },
  {
   "cell_type": "code",
   "execution_count": 97,
   "id": "therapeutic-premises",
   "metadata": {},
   "outputs": [
    {
     "data": {
      "text/html": [
       "<div>\n",
       "<style scoped>\n",
       "    .dataframe tbody tr th:only-of-type {\n",
       "        vertical-align: middle;\n",
       "    }\n",
       "\n",
       "    .dataframe tbody tr th {\n",
       "        vertical-align: top;\n",
       "    }\n",
       "\n",
       "    .dataframe thead th {\n",
       "        text-align: right;\n",
       "    }\n",
       "</style>\n",
       "<table border=\"1\" class=\"dataframe\">\n",
       "  <thead>\n",
       "    <tr style=\"text-align: right;\">\n",
       "      <th></th>\n",
       "      <th>m_label</th>\n",
       "      <th>r0c0</th>\n",
       "      <th>r0c1</th>\n",
       "      <th>r0c2</th>\n",
       "      <th>r0c3</th>\n",
       "      <th>r0c4</th>\n",
       "      <th>r0c5</th>\n",
       "      <th>r0c6</th>\n",
       "      <th>r0c7</th>\n",
       "      <th>r0c8</th>\n",
       "      <th>...</th>\n",
       "      <th>r19c10</th>\n",
       "      <th>r19c11</th>\n",
       "      <th>r19c12</th>\n",
       "      <th>r19c13</th>\n",
       "      <th>r19c14</th>\n",
       "      <th>r19c15</th>\n",
       "      <th>r19c16</th>\n",
       "      <th>r19c17</th>\n",
       "      <th>r19c18</th>\n",
       "      <th>r19c19</th>\n",
       "    </tr>\n",
       "  </thead>\n",
       "  <tbody>\n",
       "    <tr>\n",
       "      <th>4</th>\n",
       "      <td>78</td>\n",
       "      <td>255</td>\n",
       "      <td>255</td>\n",
       "      <td>255</td>\n",
       "      <td>255</td>\n",
       "      <td>255</td>\n",
       "      <td>255</td>\n",
       "      <td>171</td>\n",
       "      <td>1</td>\n",
       "      <td>1</td>\n",
       "      <td>...</td>\n",
       "      <td>1</td>\n",
       "      <td>1</td>\n",
       "      <td>1</td>\n",
       "      <td>1</td>\n",
       "      <td>1</td>\n",
       "      <td>255</td>\n",
       "      <td>255</td>\n",
       "      <td>255</td>\n",
       "      <td>86</td>\n",
       "      <td>1</td>\n",
       "    </tr>\n",
       "    <tr>\n",
       "      <th>8</th>\n",
       "      <td>68</td>\n",
       "      <td>1</td>\n",
       "      <td>1</td>\n",
       "      <td>1</td>\n",
       "      <td>1</td>\n",
       "      <td>255</td>\n",
       "      <td>255</td>\n",
       "      <td>255</td>\n",
       "      <td>255</td>\n",
       "      <td>255</td>\n",
       "      <td>...</td>\n",
       "      <td>255</td>\n",
       "      <td>255</td>\n",
       "      <td>255</td>\n",
       "      <td>86</td>\n",
       "      <td>1</td>\n",
       "      <td>1</td>\n",
       "      <td>1</td>\n",
       "      <td>1</td>\n",
       "      <td>1</td>\n",
       "      <td>1</td>\n",
       "    </tr>\n",
       "    <tr>\n",
       "      <th>10</th>\n",
       "      <td>50</td>\n",
       "      <td>10</td>\n",
       "      <td>11</td>\n",
       "      <td>16</td>\n",
       "      <td>25</td>\n",
       "      <td>43</td>\n",
       "      <td>65</td>\n",
       "      <td>98</td>\n",
       "      <td>143</td>\n",
       "      <td>189</td>\n",
       "      <td>...</td>\n",
       "      <td>140</td>\n",
       "      <td>134</td>\n",
       "      <td>134</td>\n",
       "      <td>140</td>\n",
       "      <td>143</td>\n",
       "      <td>143</td>\n",
       "      <td>134</td>\n",
       "      <td>140</td>\n",
       "      <td>129</td>\n",
       "      <td>101</td>\n",
       "    </tr>\n",
       "    <tr>\n",
       "      <th>11</th>\n",
       "      <td>103</td>\n",
       "      <td>1</td>\n",
       "      <td>1</td>\n",
       "      <td>1</td>\n",
       "      <td>1</td>\n",
       "      <td>99</td>\n",
       "      <td>255</td>\n",
       "      <td>255</td>\n",
       "      <td>255</td>\n",
       "      <td>255</td>\n",
       "      <td>...</td>\n",
       "      <td>255</td>\n",
       "      <td>255</td>\n",
       "      <td>255</td>\n",
       "      <td>216</td>\n",
       "      <td>1</td>\n",
       "      <td>1</td>\n",
       "      <td>1</td>\n",
       "      <td>1</td>\n",
       "      <td>1</td>\n",
       "      <td>1</td>\n",
       "    </tr>\n",
       "    <tr>\n",
       "      <th>14</th>\n",
       "      <td>113</td>\n",
       "      <td>1</td>\n",
       "      <td>1</td>\n",
       "      <td>1</td>\n",
       "      <td>1</td>\n",
       "      <td>1</td>\n",
       "      <td>255</td>\n",
       "      <td>255</td>\n",
       "      <td>255</td>\n",
       "      <td>255</td>\n",
       "      <td>...</td>\n",
       "      <td>255</td>\n",
       "      <td>255</td>\n",
       "      <td>255</td>\n",
       "      <td>255</td>\n",
       "      <td>255</td>\n",
       "      <td>255</td>\n",
       "      <td>255</td>\n",
       "      <td>255</td>\n",
       "      <td>255</td>\n",
       "      <td>255</td>\n",
       "    </tr>\n",
       "    <tr>\n",
       "      <th>...</th>\n",
       "      <td>...</td>\n",
       "      <td>...</td>\n",
       "      <td>...</td>\n",
       "      <td>...</td>\n",
       "      <td>...</td>\n",
       "      <td>...</td>\n",
       "      <td>...</td>\n",
       "      <td>...</td>\n",
       "      <td>...</td>\n",
       "      <td>...</td>\n",
       "      <td>...</td>\n",
       "      <td>...</td>\n",
       "      <td>...</td>\n",
       "      <td>...</td>\n",
       "      <td>...</td>\n",
       "      <td>...</td>\n",
       "      <td>...</td>\n",
       "      <td>...</td>\n",
       "      <td>...</td>\n",
       "      <td>...</td>\n",
       "      <td>...</td>\n",
       "    </tr>\n",
       "    <tr>\n",
       "      <th>1098</th>\n",
       "      <td>85</td>\n",
       "      <td>255</td>\n",
       "      <td>255</td>\n",
       "      <td>255</td>\n",
       "      <td>255</td>\n",
       "      <td>255</td>\n",
       "      <td>255</td>\n",
       "      <td>171</td>\n",
       "      <td>1</td>\n",
       "      <td>1</td>\n",
       "      <td>...</td>\n",
       "      <td>255</td>\n",
       "      <td>255</td>\n",
       "      <td>255</td>\n",
       "      <td>86</td>\n",
       "      <td>1</td>\n",
       "      <td>1</td>\n",
       "      <td>1</td>\n",
       "      <td>1</td>\n",
       "      <td>1</td>\n",
       "      <td>1</td>\n",
       "    </tr>\n",
       "    <tr>\n",
       "      <th>1104</th>\n",
       "      <td>104</td>\n",
       "      <td>1</td>\n",
       "      <td>1</td>\n",
       "      <td>1</td>\n",
       "      <td>1</td>\n",
       "      <td>1</td>\n",
       "      <td>140</td>\n",
       "      <td>255</td>\n",
       "      <td>255</td>\n",
       "      <td>255</td>\n",
       "      <td>...</td>\n",
       "      <td>1</td>\n",
       "      <td>1</td>\n",
       "      <td>70</td>\n",
       "      <td>255</td>\n",
       "      <td>255</td>\n",
       "      <td>255</td>\n",
       "      <td>255</td>\n",
       "      <td>255</td>\n",
       "      <td>255</td>\n",
       "      <td>255</td>\n",
       "    </tr>\n",
       "    <tr>\n",
       "      <th>1110</th>\n",
       "      <td>118</td>\n",
       "      <td>1</td>\n",
       "      <td>1</td>\n",
       "      <td>1</td>\n",
       "      <td>1</td>\n",
       "      <td>1</td>\n",
       "      <td>1</td>\n",
       "      <td>1</td>\n",
       "      <td>1</td>\n",
       "      <td>1</td>\n",
       "      <td>...</td>\n",
       "      <td>1</td>\n",
       "      <td>1</td>\n",
       "      <td>1</td>\n",
       "      <td>1</td>\n",
       "      <td>1</td>\n",
       "      <td>1</td>\n",
       "      <td>1</td>\n",
       "      <td>1</td>\n",
       "      <td>1</td>\n",
       "      <td>1</td>\n",
       "    </tr>\n",
       "    <tr>\n",
       "      <th>1112</th>\n",
       "      <td>111</td>\n",
       "      <td>1</td>\n",
       "      <td>1</td>\n",
       "      <td>1</td>\n",
       "      <td>1</td>\n",
       "      <td>1</td>\n",
       "      <td>1</td>\n",
       "      <td>1</td>\n",
       "      <td>1</td>\n",
       "      <td>1</td>\n",
       "      <td>...</td>\n",
       "      <td>255</td>\n",
       "      <td>255</td>\n",
       "      <td>186</td>\n",
       "      <td>1</td>\n",
       "      <td>1</td>\n",
       "      <td>1</td>\n",
       "      <td>1</td>\n",
       "      <td>1</td>\n",
       "      <td>1</td>\n",
       "      <td>1</td>\n",
       "    </tr>\n",
       "    <tr>\n",
       "      <th>1114</th>\n",
       "      <td>80</td>\n",
       "      <td>255</td>\n",
       "      <td>255</td>\n",
       "      <td>255</td>\n",
       "      <td>255</td>\n",
       "      <td>255</td>\n",
       "      <td>255</td>\n",
       "      <td>255</td>\n",
       "      <td>255</td>\n",
       "      <td>255</td>\n",
       "      <td>...</td>\n",
       "      <td>255</td>\n",
       "      <td>255</td>\n",
       "      <td>186</td>\n",
       "      <td>1</td>\n",
       "      <td>1</td>\n",
       "      <td>1</td>\n",
       "      <td>1</td>\n",
       "      <td>1</td>\n",
       "      <td>1</td>\n",
       "      <td>1</td>\n",
       "    </tr>\n",
       "  </tbody>\n",
       "</table>\n",
       "<p>310 rows × 401 columns</p>\n",
       "</div>"
      ],
      "text/plain": [
       "      m_label  r0c0  r0c1  r0c2  r0c3  r0c4  r0c5  r0c6  r0c7  r0c8  ...  \\\n",
       "4          78   255   255   255   255   255   255   171     1     1  ...   \n",
       "8          68     1     1     1     1   255   255   255   255   255  ...   \n",
       "10         50    10    11    16    25    43    65    98   143   189  ...   \n",
       "11        103     1     1     1     1    99   255   255   255   255  ...   \n",
       "14        113     1     1     1     1     1   255   255   255   255  ...   \n",
       "...       ...   ...   ...   ...   ...   ...   ...   ...   ...   ...  ...   \n",
       "1098       85   255   255   255   255   255   255   171     1     1  ...   \n",
       "1104      104     1     1     1     1     1   140   255   255   255  ...   \n",
       "1110      118     1     1     1     1     1     1     1     1     1  ...   \n",
       "1112      111     1     1     1     1     1     1     1     1     1  ...   \n",
       "1114       80   255   255   255   255   255   255   255   255   255  ...   \n",
       "\n",
       "      r19c10  r19c11  r19c12  r19c13  r19c14  r19c15  r19c16  r19c17  r19c18  \\\n",
       "4          1       1       1       1       1     255     255     255      86   \n",
       "8        255     255     255      86       1       1       1       1       1   \n",
       "10       140     134     134     140     143     143     134     140     129   \n",
       "11       255     255     255     216       1       1       1       1       1   \n",
       "14       255     255     255     255     255     255     255     255     255   \n",
       "...      ...     ...     ...     ...     ...     ...     ...     ...     ...   \n",
       "1098     255     255     255      86       1       1       1       1       1   \n",
       "1104       1       1      70     255     255     255     255     255     255   \n",
       "1110       1       1       1       1       1       1       1       1       1   \n",
       "1112     255     255     186       1       1       1       1       1       1   \n",
       "1114     255     255     186       1       1       1       1       1       1   \n",
       "\n",
       "      r19c19  \n",
       "4          1  \n",
       "8          1  \n",
       "10       101  \n",
       "11         1  \n",
       "14       255  \n",
       "...      ...  \n",
       "1098       1  \n",
       "1104     255  \n",
       "1110       1  \n",
       "1112       1  \n",
       "1114       1  \n",
       "\n",
       "[310 rows x 401 columns]"
      ]
     },
     "execution_count": 97,
     "metadata": {},
     "output_type": "execute_result"
    }
   ],
   "source": [
    "pca_candidate"
   ]
  },
  {
   "cell_type": "markdown",
   "id": "greater-terrace",
   "metadata": {},
   "source": [
    "### Plot A Few Characters"
   ]
  },
  {
   "cell_type": "code",
   "execution_count": 112,
   "id": "regular-slave",
   "metadata": {},
   "outputs": [
    {
     "data": {
      "image/png": "[encoded data removed]",
      "text/plain": [
       "<Figure size 432x288 with 1 Axes>"
      ]
     },
     "metadata": {
      "needs_background": "light"
     },
     "output_type": "display_data"
    }
   ],
   "source": [
    "char_ar = np.array(pca_candidate.iloc[10], dtype=np.uint8)\n",
    "plt.imshow(char_ar[1:].reshape(20,20), interpolation='nearest')\n",
    "plt.show()"
   ]
  },
  {
   "cell_type": "code",
   "execution_count": 113,
   "id": "concrete-check",
   "metadata": {},
   "outputs": [
    {
     "data": {
      "text/plain": [
       "m_label    98\n",
       "r0c0        1\n",
       "r0c1        1\n",
       "r0c2        1\n",
       "r0c3        1\n",
       "           ..\n",
       "r19c15      1\n",
       "r19c16      1\n",
       "r19c17      1\n",
       "r19c18      1\n",
       "r19c19      1\n",
       "Name: 29, Length: 401, dtype: int64"
      ]
     },
     "execution_count": 113,
     "metadata": {},
     "output_type": "execute_result"
    }
   ],
   "source": [
    "pca_candidate.iloc[10]"
   ]
  },
  {
   "cell_type": "code",
   "execution_count": null,
   "id": "dated-empty",
   "metadata": {},
   "outputs": [],
   "source": []
  }
 ],
 "metadata": {
  "kernelspec": {
   "display_name": "Python 3",
   "language": "python",
   "name": "python3"
  },
  "language_info": {
   "codemirror_mode": {
    "name": "ipython",
    "version": 3
   },
   "file_extension": ".py",
   "mimetype": "text/x-python",
   "name": "python",
   "nbconvert_exporter": "python",
   "pygments_lexer": "ipython3",
   "version": "3.7.9"
  }
 },
 "nbformat": 4,
 "nbformat_minor": 5
}
