{
 "cells": [
  {
   "cell_type": "markdown",
   "id": "stainless-president",
   "metadata": {},
   "source": [
    "# Compare Dimensional Reduction\n",
    "\n",
    "\n",
    "## Run following dimensional reduction algorithms for given fonts\n",
    "1. Principal Component Analysis (PCA)\n",
    "1. IsoMap\n",
    "1. t-SNE\n",
    "\n",
    "## Compare results of each using calculation of correlation coefficient\n",
    "1. || X_hat - X || / || X ||"
   ]
  },
  {
   "cell_type": "markdown",
   "id": "otherwise-playing",
   "metadata": {},
   "source": [
    "## Imports and Globals"
   ]
  },
  {
   "cell_type": "code",
   "execution_count": 2,
   "id": "former-norman",
   "metadata": {},
   "outputs": [],
   "source": [
    "import pandas as pd\n",
    "import numpy as np\n",
    "import matplotlib.pyplot as plt\n",
    "import seaborn as sns\n",
    "\n",
    "from sklearn.decomposition import PCA\n",
    "from sklearn.manifold import Isomap\n",
    "from sklearn.manifold import TSNE\n",
    "\n",
    "import font_utils.load_font as LF\n",
    "import font_utils.upper_lower_numerals as ULN\n",
    "import sci_kit_learn_utils.utils as SKU"
   ]
  },
  {
   "cell_type": "code",
   "execution_count": 3,
   "id": "computational-merit",
   "metadata": {},
   "outputs": [
    {
     "data": {
      "text/plain": [
       "<module 'sci_kit_learn_utils.utils' from '/home/digital-tenebrist/ms-data-science/math-637/udel-math-637/utils/sci_kit_learn_utils/utils.py'>"
      ]
     },
     "execution_count": 3,
     "metadata": {},
     "output_type": "execute_result"
    }
   ],
   "source": [
    "import importlib\n",
    "importlib.reload(SKU)"
   ]
  },
  {
   "cell_type": "markdown",
   "id": "superior-bankruptcy",
   "metadata": {},
   "source": [
    "## Read Font\n",
    "1. Returns dictionary for each variant with following fields\n",
    "    1. df - pandas data frame with following trimming\n",
    "        1. Retains m_label, and r0c0,...,r19c19 columns only\n",
    "        1. No italic\n",
    "        1. Only a-zA-Z0-9 returned\n",
    "        1. Only min instances of each character based on min for a-zA-Z0-9\n",
    "    1. min_char_count - number of instances of each character"
   ]
  },
  {
   "cell_type": "code",
   "execution_count": 4,
   "id": "emerging-encoding",
   "metadata": {},
   "outputs": [
    {
     "name": "stdout",
     "output_type": "stream",
     "text": [
      "Normal PCA   Distance Score 0.7940\n",
      "Normal Iso   Distance Score 0.5091\n",
      "Normal t-SNE Distance Score 0.8677\n",
      "Bold   PCA   Distance Score 0.6884\n",
      "Bold   Iso   Distance Score 0.5629\n",
      "Bold   t-SNE Distance Score 0.5767\n"
     ]
    }
   ],
   "source": [
    "uln = ULN.UpperLowerNumerals.get_ascii_codes()\n",
    "\n",
    "lf = LF.LoadFont('garamond')\n",
    "font_dict = lf.get_trimmed_font()\n",
    "font_df = font_dict['GARAMOND']['df']\n",
    "\n",
    "LABEL_AR = None\n",
    "\n",
    "face_names = ['Normal', 'Bold']\n",
    "\n",
    "raw_dfs = list()\n",
    "\n",
    "for i in range(font_dict['GARAMOND']['min_char_count']):\n",
    "        t_df = pd.DataFrame(data=[font_df.loc[font_df.m_label == x].iloc[i] for x in uln])\n",
    "        \n",
    "        if i==0:\n",
    "            LABEL_AR = [chr(x) for x in t_df.m_label]\n",
    "            \n",
    "        t_df = t_df.drop(columns=['m_label'])\n",
    "        t_df = t_df-t_df.mean(axis=0)\n",
    "\n",
    "        # Perform PCA and calculate distance score\n",
    "        pca = PCA(n_components=2)\n",
    "        pca_y = pca.fit_transform(t_df)\n",
    "        print(f'{face_names[i]:6s} PCA   Distance Score {SKU.calc_dist_cor_score(t_df,pca_y):0.4f}')\n",
    "        \n",
    "        # Perform IsoMap and calculate distance score\n",
    "        isomap = Isomap(n_neighbors=8, n_components=2)\n",
    "        iso_y = isomap.fit_transform(t_df)\n",
    "        print(f'{face_names[i]:6s} Iso   Distance Score {SKU.calc_dist_cor_score(t_df,iso_y):0.4f}')\n",
    "        \n",
    "        # Perform t-SNE and calculate distance score\n",
    "        tsne = TSNE(n_components=2, init='pca',random_state=0)\n",
    "        tsne_y = tsne.fit_transform(t_df)\n",
    "        print(f'{face_names[i]:6s} t-SNE Distance Score {SKU.calc_dist_cor_score(t_df,tsne_y):0.4f}')\n"
   ]
  },
  {
   "cell_type": "markdown",
   "id": "optimum-workstation",
   "metadata": {},
   "source": [
    "### t-SNE Wins\n",
    "\n",
    "1. What are the best parameters for t-SNE\n",
    "1. Start with neighbors=2 and increase to 10"
   ]
  },
  {
   "cell_type": "code",
   "execution_count": 8,
   "id": "occasional-might",
   "metadata": {},
   "outputs": [
    {
     "name": "stdout",
     "output_type": "stream",
     "text": [
      "Normal t-SNE Distance Score 0.7329\n",
      "Normal t-SNE Distance Score 0.6279\n",
      "Normal t-SNE Distance Score 0.5317\n",
      "Normal t-SNE Distance Score 0.4602\n",
      "Normal t-SNE Distance Score 0.4027\n",
      "Normal t-SNE Distance Score 0.3522\n",
      "Normal t-SNE Distance Score 0.3108\n",
      "Normal t-SNE Distance Score 0.2769\n",
      "Normal t-SNE Distance Score 0.2486\n",
      "Normal t-SNE Distance Score 0.2232\n",
      "Normal t-SNE Distance Score 0.2020\n",
      "Normal t-SNE Distance Score 0.1818\n",
      "Normal t-SNE Distance Score 0.1660\n",
      "Normal t-SNE Distance Score 0.1524\n",
      "Normal t-SNE Distance Score 0.1405\n",
      "Normal t-SNE Distance Score 0.1295\n",
      "Normal t-SNE Distance Score 0.1204\n",
      "Normal t-SNE Distance Score 0.1121\n",
      "Normal t-SNE Distance Score 0.1048\n",
      "Normal t-SNE Distance Score 0.0967\n",
      "Normal t-SNE Distance Score 0.0897\n",
      "Normal t-SNE Distance Score 0.0841\n",
      "Normal t-SNE Distance Score 0.0781\n",
      "Normal t-SNE Distance Score 0.0728\n",
      "Normal t-SNE Distance Score 0.0680\n",
      "Normal t-SNE Distance Score 0.0634\n",
      "Normal t-SNE Distance Score 0.0592\n",
      "Normal t-SNE Distance Score 0.0551\n",
      "Normal t-SNE Distance Score 0.0513\n",
      "Normal t-SNE Distance Score 0.0482\n",
      "Normal t-SNE Distance Score 0.0446\n",
      "Normal t-SNE Distance Score 0.0414\n",
      "Normal t-SNE Distance Score 0.0385\n",
      "Normal t-SNE Distance Score 0.0356\n",
      "Normal t-SNE Distance Score 0.0331\n",
      "Normal t-SNE Distance Score 0.0304\n",
      "Normal t-SNE Distance Score 0.0281\n",
      "Normal t-SNE Distance Score 0.0261\n",
      "Normal t-SNE Distance Score 0.0241\n",
      "Normal t-SNE Distance Score 0.0224\n",
      "Normal t-SNE Distance Score 0.0204\n",
      "Normal t-SNE Distance Score 0.0188\n",
      "Normal t-SNE Distance Score 0.0174\n",
      "Normal t-SNE Distance Score 0.0159\n",
      "Normal t-SNE Distance Score 0.0143\n",
      "Normal t-SNE Distance Score 0.0129\n",
      "Normal t-SNE Distance Score 0.0116\n",
      "Normal t-SNE Distance Score 0.0104\n",
      "Bold   t-SNE Distance Score 0.7972\n",
      "Bold   t-SNE Distance Score 0.5507\n",
      "Bold   t-SNE Distance Score 0.4597\n",
      "Bold   t-SNE Distance Score 0.3911\n",
      "Bold   t-SNE Distance Score 0.3353\n",
      "Bold   t-SNE Distance Score 0.2850\n",
      "Bold   t-SNE Distance Score 0.2529\n",
      "Bold   t-SNE Distance Score 0.2256\n",
      "Bold   t-SNE Distance Score 0.2035\n",
      "Bold   t-SNE Distance Score 0.1836\n",
      "Bold   t-SNE Distance Score 0.1672\n",
      "Bold   t-SNE Distance Score 0.1513\n",
      "Bold   t-SNE Distance Score 0.1364\n",
      "Bold   t-SNE Distance Score 0.1239\n",
      "Bold   t-SNE Distance Score 0.1130\n",
      "Bold   t-SNE Distance Score 0.1043\n",
      "Bold   t-SNE Distance Score 0.0963\n",
      "Bold   t-SNE Distance Score 0.0889\n",
      "Bold   t-SNE Distance Score 0.0824\n",
      "Bold   t-SNE Distance Score 0.0766\n",
      "Bold   t-SNE Distance Score 0.0714\n",
      "Bold   t-SNE Distance Score 0.0667\n",
      "Bold   t-SNE Distance Score 0.0627\n",
      "Bold   t-SNE Distance Score 0.0585\n",
      "Bold   t-SNE Distance Score 0.0544\n",
      "Bold   t-SNE Distance Score 0.0505\n",
      "Bold   t-SNE Distance Score 0.0471\n",
      "Bold   t-SNE Distance Score 0.0438\n",
      "Bold   t-SNE Distance Score 0.0406\n",
      "Bold   t-SNE Distance Score 0.0375\n",
      "Bold   t-SNE Distance Score 0.0348\n",
      "Bold   t-SNE Distance Score 0.0323\n",
      "Bold   t-SNE Distance Score 0.0301\n",
      "Bold   t-SNE Distance Score 0.0279\n",
      "Bold   t-SNE Distance Score 0.0257\n",
      "Bold   t-SNE Distance Score 0.0237\n",
      "Bold   t-SNE Distance Score 0.0218\n",
      "Bold   t-SNE Distance Score 0.0200\n",
      "Bold   t-SNE Distance Score 0.0183\n",
      "Bold   t-SNE Distance Score 0.0169\n",
      "Bold   t-SNE Distance Score 0.0156\n",
      "Bold   t-SNE Distance Score 0.0143\n",
      "Bold   t-SNE Distance Score 0.0132\n",
      "Bold   t-SNE Distance Score 0.0122\n",
      "Bold   t-SNE Distance Score 0.0112\n",
      "Bold   t-SNE Distance Score 0.0102\n",
      "Bold   t-SNE Distance Score 0.0093\n",
      "Bold   t-SNE Distance Score 0.0084\n"
     ]
    }
   ],
   "source": [
    "for i in range(font_dict['GARAMOND']['min_char_count']):\n",
    "        t_df = pd.DataFrame(data=[font_df.loc[font_df.m_label == x].iloc[i] for x in uln])\n",
    "        \n",
    "        if i==0:\n",
    "            LABEL_AR = [chr(x) for x in t_df.m_label]\n",
    "            \n",
    "        t_df = t_df.drop(columns=['m_label'])\n",
    "        t_df = t_df-t_df.mean(axis=0)\n",
    "\n",
    "        for n_n in range(2,50):\n",
    "            # Perform t-SNE and calculate distance score\n",
    "            tsne = TSNE(n_components=n_n, init='pca',random_state=0, method='exact')\n",
    "            tsne_y = tsne.fit_transform(t_df)\n",
    "            print(f'{face_names[i]:6s} t-SNE Distance Score {SKU.calc_dist_cor_score(t_df,tsne_y):0.4f}')"
   ]
  },
  {
   "cell_type": "code",
   "execution_count": null,
   "id": "seasonal-function",
   "metadata": {},
   "outputs": [],
   "source": []
  }
 ],
 "metadata": {
  "kernelspec": {
   "display_name": "Python 3",
   "language": "python",
   "name": "python3"
  },
  "language_info": {
   "codemirror_mode": {
    "name": "ipython",
    "version": 3
   },
   "file_extension": ".py",
   "mimetype": "text/x-python",
   "name": "python",
   "nbconvert_exporter": "python",
   "pygments_lexer": "ipython3",
   "version": "3.7.9"
  }
 },
 "nbformat": 4,
 "nbformat_minor": 5
}
