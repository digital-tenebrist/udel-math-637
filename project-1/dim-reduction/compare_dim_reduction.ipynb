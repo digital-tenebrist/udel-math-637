{
 "cells": [
  {
   "cell_type": "markdown",
   "id": "stainless-president",
   "metadata": {},
   "source": [
    "# Compare Dimensional Reduction\n",
    "\n",
    "\n",
    "## Run following dimensional reduction algorithms for given fonts\n",
    "1. Principal Component Analysis (PCA)\n",
    "1. IsoMap\n",
    "1. t-SNE\n",
    "\n",
    "## Compare results of each using calculation of correlation coefficient\n",
    "1. || X_hat - X || / || X ||"
   ]
  },
  {
   "cell_type": "markdown",
   "id": "otherwise-playing",
   "metadata": {},
   "source": [
    "## Imports and Globals"
   ]
  },
  {
   "cell_type": "code",
   "execution_count": 1,
   "id": "former-norman",
   "metadata": {},
   "outputs": [],
   "source": [
    "import pandas as pd\n",
    "import numpy as np\n",
    "import matplotlib.pyplot as plt\n",
    "import seaborn as sns\n",
    "\n",
    "from sklearn.decomposition import PCA\n",
    "from sklearn.manifold import Isomap\n",
    "from sklearn.manifold import TSNE\n",
    "\n",
    "import font_utils.load_font as LF\n",
    "import font_utils.upper_lower_numerals as ULN\n",
    "import sci_kit_learn_utils.utils as SKU"
   ]
  },
  {
   "cell_type": "code",
   "execution_count": 2,
   "id": "computational-merit",
   "metadata": {},
   "outputs": [
    {
     "data": {
      "text/plain": [
       "<module 'sci_kit_learn_utils.utils' from '/home/digital-tenebrist/ms-data-science/math-637/udel-math-637/utils/sci_kit_learn_utils/utils.py'>"
      ]
     },
     "execution_count": 2,
     "metadata": {},
     "output_type": "execute_result"
    }
   ],
   "source": [
    "import importlib\n",
    "importlib.reload(SKU)"
   ]
  },
  {
   "cell_type": "markdown",
   "id": "superior-bankruptcy",
   "metadata": {},
   "source": [
    "## Read Font\n",
    "1. Returns dictionary for each variant with following fields\n",
    "    1. df - pandas data frame with following trimming\n",
    "        1. Retains m_label, and r0c0,...,r19c19 columns only\n",
    "        1. No italic\n",
    "        1. Only a-zA-Z0-9 returned\n",
    "        1. Only min instances of each character based on min for a-zA-Z0-9\n",
    "    1. min_char_count - number of instances of each character"
   ]
  },
  {
   "cell_type": "code",
   "execution_count": 3,
   "id": "emerging-encoding",
   "metadata": {},
   "outputs": [
    {
     "name": "stdout",
     "output_type": "stream",
     "text": [
      "Norm(x) 163656.4869108463\n",
      "Norm(y) 83031.4081857176\n",
      "Norm(d) 92561.40293252072\n",
      "sqrt(x*y) 116570.27308424318\n",
      "Normal PCA   Distance Score 0.7940\n",
      "Norm(x) 163656.4869108463\n",
      "Norm(y) 228961.3981097338\n",
      "Norm(d) 98555.09267113713\n",
      "sqrt(x*y) 193574.3217806399\n",
      "Normal Iso   Distance Score 0.5091\n",
      "Norm(x) 163656.4869108463\n",
      "Norm(y) 76035.6796875\n",
      "Norm(d) 96791.6216174235\n",
      "sqrt(x*y) 111551.4778814456\n",
      "Normal t-SNE Distance Score 0.8677\n",
      "Norm(x) 187665.7684874895\n",
      "Norm(y) 104975.28992548547\n",
      "Norm(d) 96622.602868881\n",
      "sqrt(x*y) 140357.64480805185\n",
      "Bold   PCA   Distance Score 0.6884\n",
      "Norm(x) 187665.7684874895\n",
      "Norm(y) 287200.5925119228\n",
      "Norm(d) 130678.52031437086\n",
      "sqrt(x*y) 232158.82473817858\n",
      "Bold   Iso   Distance Score 0.5629\n",
      "Norm(x) 187665.7684874895\n",
      "Norm(y) 122053.7578125\n",
      "Norm(d) 87278.2173622298\n",
      "sqrt(x*y) 151345.01067649617\n",
      "Bold   t-SNE Distance Score 0.5767\n"
     ]
    }
   ],
   "source": [
    "uln = ULN.UpperLowerNumerals.get_ascii_codes()\n",
    "\n",
    "lf = LF.LoadFont('garamond')\n",
    "font_dict = lf.get_trimmed_font()\n",
    "font_df = font_dict['GARAMOND']['df']\n",
    "\n",
    "LABEL_AR = None\n",
    "\n",
    "face_names = ['Normal', 'Bold']\n",
    "\n",
    "raw_dfs = list()\n",
    "\n",
    "for i in range(font_dict['GARAMOND']['min_char_count']):\n",
    "        t_df = pd.DataFrame(data=[font_df.loc[font_df.m_label == x].iloc[i] for x in uln])\n",
    "        \n",
    "        if i==0:\n",
    "            LABEL_AR = [chr(x) for x in t_df.m_label]\n",
    "            \n",
    "        t_df = t_df.drop(columns=['m_label'])\n",
    "        t_df = t_df-t_df.mean(axis=0)\n",
    "\n",
    "        # Perform PCA and calculate distance score\n",
    "        pca = PCA(n_components=2)\n",
    "        pca_y = pca.fit_transform(t_df)\n",
    "        print(f'{face_names[i]:6s} PCA   Distance Score {SKU.calc_dist_cor_score(t_df,pca_y):0.4f}')\n",
    "        \n",
    "        # Perform IsoMap and calculate distance score\n",
    "        isomap = Isomap(n_neighbors=8, n_components=2)\n",
    "        iso_y = isomap.fit_transform(t_df)\n",
    "        print(f'{face_names[i]:6s} Iso   Distance Score {SKU.calc_dist_cor_score(t_df,iso_y):0.4f}')\n",
    "        \n",
    "        # Perform t-SNE and calculate distance score\n",
    "        tsne = TSNE(n_components=2, init='pca',random_state=0)\n",
    "        tsne_y = tsne.fit_transform(t_df)\n",
    "        print(f'{face_names[i]:6s} t-SNE Distance Score {SKU.calc_dist_cor_score(t_df,tsne_y):0.4f}')\n"
   ]
  },
  {
   "cell_type": "markdown",
   "id": "optimum-workstation",
   "metadata": {},
   "source": [
    "### IsoMap Wins\n",
    "\n",
    "1. What are the best parameters for IsoMap\n",
    "1. Start with neighbors=2 and increase to 10"
   ]
  },
  {
   "cell_type": "code",
   "execution_count": 4,
   "id": "occasional-might",
   "metadata": {},
   "outputs": [
    {
     "name": "stdout",
     "output_type": "stream",
     "text": [
      "Norm(x) 163656.4869108463\n",
      "Norm(y) 806986.3877827412\n",
      "Norm(d) 668120.4093581004\n",
      "sqrt(x*y) 363412.3789985659\n",
      "Normal Iso (n=2) Dist Score 1.8385\n",
      "Norm(x) 163656.4869108463\n",
      "Norm(y) 426711.59091639373\n",
      "Norm(d) 284278.228123004\n",
      "sqrt(x*y) 264261.4612339741\n",
      "Normal Iso (n=3) Dist Score 1.0757\n",
      "Norm(x) 163656.4869108463\n",
      "Norm(y) 326324.43072293064\n",
      "Norm(d) 187505.31528645538\n",
      "sqrt(x*y) 231095.45630603962\n",
      "Normal Iso (n=4) Dist Score 0.8114\n",
      "Norm(x) 163656.4869108463\n",
      "Norm(y) 300367.7587851636\n",
      "Norm(d) 160926.05893956803\n",
      "sqrt(x*y) 221714.07755048925\n",
      "Normal Iso (n=5) Dist Score 0.7258\n",
      "Norm(x) 163656.4869108463\n",
      "Norm(y) 274915.82502050523\n",
      "Norm(d) 138123.41481640626\n",
      "sqrt(x*y) 212112.60716669538\n",
      "Normal Iso (n=6) Dist Score 0.6512\n",
      "Norm(x) 163656.4869108463\n",
      "Norm(y) 252537.84796097362\n",
      "Norm(d) 120078.53071852439\n",
      "sqrt(x*y) 203296.4756441153\n",
      "Normal Iso (n=7) Dist Score 0.5907\n",
      "Norm(x) 163656.4869108463\n",
      "Norm(y) 228961.3981097338\n",
      "Norm(d) 98555.09267113713\n",
      "sqrt(x*y) 193574.3217806399\n",
      "Normal Iso (n=8) Dist Score 0.5091\n",
      "Norm(x) 163656.4869108463\n",
      "Norm(y) 215858.02816943626\n",
      "Norm(d) 88316.4836770158\n",
      "sqrt(x*y) 187953.6287537765\n",
      "Normal Iso (n=9) Dist Score 0.4699\n",
      "Norm(x) 163656.4869108463\n",
      "Norm(y) 206889.6768612788\n",
      "Norm(d) 81292.53933883713\n",
      "sqrt(x*y) 184007.7109613537\n",
      "Normal Iso (n=10) Dist Score 0.4418\n",
      "Norm(x) 187665.7684874895\n",
      "Norm(y) 759291.5843478532\n",
      "Norm(d) 598669.8648494778\n",
      "sqrt(x*y) 377482.5011609456\n",
      "Bold   Iso (n=2) Dist Score 1.5860\n",
      "Norm(x) 187665.7684874895\n",
      "Norm(y) 472070.10947289236\n",
      "Norm(d) 305887.1240358744\n",
      "sqrt(x*y) 297643.0746283267\n",
      "Bold   Iso (n=3) Dist Score 1.0277\n",
      "Norm(x) 187665.7684874895\n",
      "Norm(y) 381263.0614186654\n",
      "Norm(d) 218164.30793543204\n",
      "sqrt(x*y) 267488.36501243705\n",
      "Bold   Iso (n=4) Dist Score 0.8156\n",
      "Norm(x) 187665.7684874895\n",
      "Norm(y) 342434.1031096444\n",
      "Norm(d) 180175.00190042227\n",
      "sqrt(x*y) 253501.79312264366\n",
      "Bold   Iso (n=5) Dist Score 0.7107\n",
      "Norm(x) 187665.7684874895\n",
      "Norm(y) 331894.49636714335\n",
      "Norm(d) 170378.4635338703\n",
      "sqrt(x*y) 249570.10181010916\n",
      "Bold   Iso (n=6) Dist Score 0.6827\n",
      "Norm(x) 187665.7684874895\n",
      "Norm(y) 308903.3372344272\n",
      "Norm(d) 149788.01470799287\n",
      "sqrt(x*y) 240770.80838517137\n",
      "Bold   Iso (n=7) Dist Score 0.6221\n",
      "Norm(x) 187665.7684874895\n",
      "Norm(y) 287200.5925119228\n",
      "Norm(d) 130678.52031437086\n",
      "sqrt(x*y) 232158.82473817858\n",
      "Bold   Iso (n=8) Dist Score 0.5629\n",
      "Norm(x) 187665.7684874895\n",
      "Norm(y) 268120.3942545107\n",
      "Norm(d) 115066.73659412493\n",
      "sqrt(x*y) 224314.55555746134\n",
      "Bold   Iso (n=9) Dist Score 0.5130\n",
      "Norm(x) 187665.7684874895\n",
      "Norm(y) 262210.22972688475\n",
      "Norm(d) 109886.79022145535\n",
      "sqrt(x*y) 221828.50192654907\n",
      "Bold   Iso (n=10) Dist Score 0.4954\n"
     ]
    }
   ],
   "source": [
    "for i in range(font_dict['GARAMOND']['min_char_count']):\n",
    "        t_df = pd.DataFrame(data=[font_df.loc[font_df.m_label == x].iloc[i] for x in uln])\n",
    "        \n",
    "        if i==0:\n",
    "            LABEL_AR = [chr(x) for x in t_df.m_label]\n",
    "            \n",
    "        t_df = t_df.drop(columns=['m_label'])\n",
    "        t_df = t_df-t_df.mean(axis=0)\n",
    "\n",
    "        for n_n in range(2,11):\n",
    "            # Perform IsoMap and calculate distance score\n",
    "            isomap = Isomap(n_neighbors=n_n, n_components=2)\n",
    "            iso_y = isomap.fit_transform(t_df)\n",
    "            print(f'{face_names[i]:6s} Iso (n={n_n}) Dist Score {SKU.calc_dist_cor_score(t_df,iso_y):0.4f}')\n",
    "        "
   ]
  },
  {
   "cell_type": "code",
   "execution_count": null,
   "id": "seasonal-function",
   "metadata": {},
   "outputs": [],
   "source": []
  }
 ],
 "metadata": {
  "kernelspec": {
   "display_name": "Python 3",
   "language": "python",
   "name": "python3"
  },
  "language_info": {
   "codemirror_mode": {
    "name": "ipython",
    "version": 3
   },
   "file_extension": ".py",
   "mimetype": "text/x-python",
   "name": "python",
   "nbconvert_exporter": "python",
   "pygments_lexer": "ipython3",
   "version": "3.7.9"
  }
 },
 "nbformat": 4,
 "nbformat_minor": 5
}
