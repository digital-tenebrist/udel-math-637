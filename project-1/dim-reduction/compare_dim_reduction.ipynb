{
 "cells": [
  {
   "cell_type": "markdown",
   "id": "stainless-president",
   "metadata": {},
   "source": [
    "# Compare Dimensional Reduction\n",
    "\n",
    "\n",
    "## Run following dimensional reduction algorithms for given fonts\n",
    "1. Principal Component Analysis (PCA)\n",
    "1. IsoMap\n",
    "1. t-SNE\n",
    "\n",
    "## Compare results of each using calculation of correlation coefficient\n",
    "1. || X_hat - X || / || X ||"
   ]
  },
  {
   "cell_type": "markdown",
   "id": "otherwise-playing",
   "metadata": {},
   "source": [
    "## Imports and Globals"
   ]
  },
  {
   "cell_type": "code",
   "execution_count": 5,
   "id": "former-norman",
   "metadata": {},
   "outputs": [],
   "source": [
    "import pandas as pd\n",
    "import numpy as np\n",
    "import matplotlib.pyplot as plt\n",
    "import seaborn as sns\n",
    "\n",
    "from sklearn.decomposition import PCA\n",
    "from sklearn.manifold import Isomap\n",
    "from sklearn.manifold import TSNE\n",
    "\n",
    "import font_utils.load_font as LF\n",
    "import font_utils.upper_lower_numerals as ULN\n",
    "import sci_kit_learn_utils.utils as SKU"
   ]
  },
  {
   "cell_type": "code",
   "execution_count": 10,
   "id": "computational-merit",
   "metadata": {},
   "outputs": [
    {
     "data": {
      "text/plain": [
       "<module 'sci_kit_learn_utils.utils' from '/home/digital-tenebrist/ms-data-science/math-637/udel-math-637/utils/sci_kit_learn_utils/utils.py'>"
      ]
     },
     "execution_count": 10,
     "metadata": {},
     "output_type": "execute_result"
    }
   ],
   "source": [
    "import importlib\n",
    "importlib.reload(SKU)"
   ]
  },
  {
   "cell_type": "markdown",
   "id": "superior-bankruptcy",
   "metadata": {},
   "source": [
    "## Read Font\n",
    "1. Returns dictionary for each variant with following fields\n",
    "    1. df - pandas data frame with following trimming\n",
    "        1. Retains m_label, and r0c0,...,r19c19 columns only\n",
    "        1. No italic\n",
    "        1. Only a-zA-Z0-9 returned\n",
    "        1. Only min instances of each character based on min for a-zA-Z0-9\n",
    "    1. min_char_count - number of instances of each character"
   ]
  },
  {
   "cell_type": "code",
   "execution_count": 22,
   "id": "emerging-encoding",
   "metadata": {},
   "outputs": [
    {
     "name": "stdout",
     "output_type": "stream",
     "text": [
      "Normal PCA   Distance Score 0.5656\n",
      "Normal Iso   Distance Score 0.6022\n",
      "Normal t-SNE Distance Score 0.5914\n",
      "Bold   PCA   Distance Score 0.5149\n",
      "Bold   Iso   Distance Score 0.6963\n",
      "Bold   t-SNE Distance Score 0.4651\n"
     ]
    }
   ],
   "source": [
    "uln = ULN.UpperLowerNumerals.get_ascii_codes()\n",
    "\n",
    "lf = LF.LoadFont('garamond')\n",
    "font_dict = lf.get_trimmed_font()\n",
    "font_df = font_dict['GARAMOND']['df']\n",
    "\n",
    "LABEL_AR = None\n",
    "\n",
    "face_names = ['Normal', 'Bold']\n",
    "\n",
    "raw_dfs = list()\n",
    "\n",
    "for i in range(font_dict['GARAMOND']['min_char_count']):\n",
    "        t_df = pd.DataFrame(data=[font_df.loc[font_df.m_label == x].iloc[i] for x in uln])\n",
    "        \n",
    "        if i==0:\n",
    "            LABEL_AR = [chr(x) for x in t_df.m_label]\n",
    "            \n",
    "        t_df = t_df.drop(columns=['m_label'])\n",
    "        t_df = t_df-t_df.mean(axis=0)\n",
    "\n",
    "        # Perform PCA and calculate distance score\n",
    "        pca = PCA(n_components=2)\n",
    "        pca_y = pca.fit_transform(t_df)\n",
    "        print(f'{face_names[i]:6s} PCA   Distance Score {SKU.calc_dist_cor_score(t_df,pca_y):0.4f}')\n",
    "        \n",
    "        # Perform IsoMap and calculate distance score\n",
    "        isomap = Isomap(n_neighbors=8, n_components=2)\n",
    "        iso_y = isomap.fit_transform(t_df)\n",
    "        print(f'{face_names[i]:6s} Iso   Distance Score {SKU.calc_dist_cor_score(t_df,iso_y):0.4f}')\n",
    "        \n",
    "        # Perform t-SNE and calculate distance score\n",
    "        tsne = TSNE(n_components=2, init='pca',random_state=0)\n",
    "        tsne_y = tsne.fit_transform(t_df)\n",
    "        print(f'{face_names[i]:6s} t-SNE Distance Score {SKU.calc_dist_cor_score(t_df,tsne_y):0.4f}')\n"
   ]
  },
  {
   "cell_type": "markdown",
   "id": "optimum-workstation",
   "metadata": {},
   "source": [
    "### IsoMap Wins\n",
    "\n",
    "1. What are the best parameters for IsoMap\n",
    "1. Start with neighbors=2 and increase to 10"
   ]
  },
  {
   "cell_type": "code",
   "execution_count": 23,
   "id": "occasional-might",
   "metadata": {},
   "outputs": [
    {
     "name": "stdout",
     "output_type": "stream",
     "text": [
      "Normal Iso (n=2) Dist Score 4.0825\n",
      "Normal Iso (n=3) Dist Score 1.7370\n",
      "Normal Iso (n=4) Dist Score 1.1457\n",
      "Normal Iso (n=5) Dist Score 0.9833\n",
      "Normal Iso (n=6) Dist Score 0.8440\n",
      "Normal Iso (n=7) Dist Score 0.7337\n",
      "Normal Iso (n=8) Dist Score 0.6022\n",
      "Normal Iso (n=9) Dist Score 0.5396\n",
      "Normal Iso (n=10) Dist Score 0.4967\n",
      "Bold   Iso (n=2) Dist Score 3.1901\n",
      "Bold   Iso (n=3) Dist Score 1.6300\n",
      "Bold   Iso (n=4) Dist Score 1.1625\n",
      "Bold   Iso (n=5) Dist Score 0.9601\n",
      "Bold   Iso (n=6) Dist Score 0.9079\n",
      "Bold   Iso (n=7) Dist Score 0.7982\n",
      "Bold   Iso (n=8) Dist Score 0.6963\n",
      "Bold   Iso (n=9) Dist Score 0.6131\n",
      "Bold   Iso (n=10) Dist Score 0.5855\n"
     ]
    }
   ],
   "source": [
    "for i in range(font_dict['GARAMOND']['min_char_count']):\n",
    "        t_df = pd.DataFrame(data=[font_df.loc[font_df.m_label == x].iloc[i] for x in uln])\n",
    "        \n",
    "        if i==0:\n",
    "            LABEL_AR = [chr(x) for x in t_df.m_label]\n",
    "            \n",
    "        t_df = t_df.drop(columns=['m_label'])\n",
    "        t_df = t_df-t_df.mean(axis=0)\n",
    "\n",
    "        for n_n in range(2,11):\n",
    "            # Perform IsoMap and calculate distance score\n",
    "            isomap = Isomap(n_neighbors=n_n, n_components=2)\n",
    "            iso_y = isomap.fit_transform(t_df)\n",
    "            print(f'{face_names[i]:6s} Iso (n={n_n}) Dist Score {SKU.calc_dist_cor_score(t_df,iso_y):0.4f}')\n",
    "        "
   ]
  },
  {
   "cell_type": "code",
   "execution_count": null,
   "id": "seasonal-function",
   "metadata": {},
   "outputs": [],
   "source": []
  }
 ],
 "metadata": {
  "kernelspec": {
   "display_name": "Python 3",
   "language": "python",
   "name": "python3"
  },
  "language_info": {
   "codemirror_mode": {
    "name": "ipython",
    "version": 3
   },
   "file_extension": ".py",
   "mimetype": "text/x-python",
   "name": "python",
   "nbconvert_exporter": "python",
   "pygments_lexer": "ipython3",
   "version": "3.7.9"
  }
 },
 "nbformat": 4,
 "nbformat_minor": 5
}
