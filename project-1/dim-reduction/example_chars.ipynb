{
 "cells": [
  {
   "cell_type": "markdown",
   "id": "chubby-interstate",
   "metadata": {},
   "source": [
    "# Create Example Characters"
   ]
  },
  {
   "cell_type": "markdown",
   "id": "unlikely-hazard",
   "metadata": {},
   "source": [
    "## Show same character for each font\n",
    "\n",
    "1. Old Style - Garamond\n",
    "1. Transitional - Baskerville\n",
    "1. Modern - Bodoni\n",
    "1. Sans Serif - Arial"
   ]
  },
  {
   "cell_type": "markdown",
   "id": "legislative-arkansas",
   "metadata": {},
   "source": [
    "## Imports and Globals"
   ]
  },
  {
   "cell_type": "code",
   "execution_count": 1,
   "id": "hungry-sharing",
   "metadata": {},
   "outputs": [],
   "source": [
    "import pandas as pd\n",
    "import numpy as np\n",
    "import matplotlib.pyplot as plt\n",
    "import seaborn as sns\n",
    "\n",
    "from sklearn.decomposition import PCA\n",
    "from sklearn.manifold import Isomap\n",
    "from sklearn.manifold import TSNE\n",
    "\n",
    "import font_utils.load_font as LF\n",
    "import font_utils.upper_lower_numerals as ULN\n",
    "import plot_utils.plot_font as PU\n",
    "import sci_kit_learn_utils as SKU"
   ]
  },
  {
   "cell_type": "markdown",
   "id": "christian-simulation",
   "metadata": {},
   "source": [
    "## Read Fonts"
   ]
  },
  {
   "cell_type": "code",
   "execution_count": 9,
   "id": "designing-anderson",
   "metadata": {},
   "outputs": [
    {
     "name": "stdout",
     "output_type": "stream",
     "text": [
      "garamond\n",
      "  GARAMOND                  : 2\n",
      "baskerville\n",
      "  BASKERVILLE OLD FACE      : 2\n",
      "bodoni\n",
      "  BODONI MT BLACK           : 2\n",
      "arial\n",
      "  scanned                   : 8\n",
      "  ARIAL                     : 2\n",
      "  ARIAL BLACK               : 2\n"
     ]
    }
   ],
   "source": [
    "FONT_DICT = {\n",
    "    'garamond': {\n",
    "        'variation': 'GARAMOND',\n",
    "        'df': None\n",
    "    },\n",
    "    'baskerville': {\n",
    "        'variation': 'BASKERVILLE OLD FACE',\n",
    "        'df': None\n",
    "    },\n",
    "    'bodoni': {\n",
    "        'variation': 'BODONI MT BLACK',\n",
    "        'df': None\n",
    "    },\n",
    "    'arial': {\n",
    "        'variation': 'ARIAL',\n",
    "        'df': None\n",
    "    }\n",
    "}\n",
    "\n",
    "for font, d in FONT_DICT.items():\n",
    "    print(f'{font}')\n",
    "    tf = LF.LoadFont(font).get_trimmed_font()\n",
    "    d['df'] = tf[d['variation']]['df']\n",
    "    for k,v in tf.items():\n",
    "        c=v['min_char_count']\n",
    "        print(f'  {k:25s} : {c}')"
   ]
  },
  {
   "cell_type": "markdown",
   "id": "tired-generation",
   "metadata": {},
   "source": [
    "## Show Example Character\n",
    "\n",
    "1. iloc=0 is the normal weight example\n",
    "1. iloc=1 is the bold weight example"
   ]
  },
  {
   "cell_type": "code",
   "execution_count": 22,
   "id": "twelve-reminder",
   "metadata": {},
   "outputs": [
    {
     "data": {
      "image/png": "[encoded data removed]",
      "text/plain": [
       "<Figure size 432x864 with 8 Axes>"
      ]
     },
     "metadata": {
      "needs_background": "light"
     },
     "output_type": "display_data"
    }
   ],
   "source": [
    "example_ltr = ord('e')\n",
    "caption_str = ['Normal', 'Bold']\n",
    "\n",
    "ex_rows=4\n",
    "ex_cols=2\n",
    "ex_fig_size = [6,12]\n",
    "\n",
    "# create figure (fig), and array of axes (ax)\n",
    "ex_fig, ex_ax = plt.subplots(nrows=ex_rows, ncols=ex_cols, figsize=ex_fig_size)\n",
    "plt.subplots_adjust(hspace=0.3)\n",
    "\n",
    "img_list = list()\n",
    "\n",
    "for font, d in FONT_DICT.items():\n",
    "    font_df = d['df']\n",
    "\n",
    "    norm_ltr = font_df.loc[font_df.m_label == example_ltr].iloc[0]\n",
    "    bold_ltr = font_df.loc[font_df.m_label == example_ltr].iloc[1]\n",
    "\n",
    "    letters = [norm_ltr, bold_ltr]\n",
    "    for ltr in letters:\n",
    "        img = np.array(ltr[1:], dtype=np.uint8).reshape(20,20)\n",
    "        img_list.append((f'{font}',img))\n",
    "        \n",
    "for i, axi in enumerate(ex_ax.flat):\n",
    "    # i runs from 0 to (nrows*ncols-1)\n",
    "    # axi is equivalent with ax[rowid][colid]\n",
    "    axi.imshow(img_list[i][1])\n",
    "    # get indices of row/column\n",
    "    # write row/col indices as axes' title for identification\n",
    "    axi.set_title(f'{img_list[i][0]} {caption_str[i%2]} : {example_ltr}')\n",
    "\n",
    "plt.show()\n",
    "\n",
    "ex_fig.savefig(\"example_chars.pdf\", bbox_inches='tight')"
   ]
  },
  {
   "cell_type": "code",
   "execution_count": null,
   "id": "pharmaceutical-timeline",
   "metadata": {},
   "outputs": [],
   "source": []
  }
 ],
 "metadata": {
  "kernelspec": {
   "display_name": "Python 3",
   "language": "python",
   "name": "python3"
  },
  "language_info": {
   "codemirror_mode": {
    "name": "ipython",
    "version": 3
   },
   "file_extension": ".py",
   "mimetype": "text/x-python",
   "name": "python",
   "nbconvert_exporter": "python",
   "pygments_lexer": "ipython3",
   "version": "3.7.9"
  }
 },
 "nbformat": 4,
 "nbformat_minor": 5
}
