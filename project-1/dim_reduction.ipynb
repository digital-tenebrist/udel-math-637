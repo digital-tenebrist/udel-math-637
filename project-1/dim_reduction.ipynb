{
 "cells": [
  {
   "cell_type": "markdown",
   "id": "breeding-soldier",
   "metadata": {},
   "source": [
    "# Dimensional Reduction\n",
    "\n",
    "## Run following dimensional reduction algorithms for given fonts\n",
    "1. Principal Component Analysis (PCA)\n",
    "1. IsoMap\n",
    "1. t-SNE"
   ]
  },
  {
   "cell_type": "markdown",
   "id": "dried-anger",
   "metadata": {},
   "source": [
    "## Imports And Globals"
   ]
  },
  {
   "cell_type": "code",
   "execution_count": 17,
   "id": "robust-times",
   "metadata": {},
   "outputs": [
    {
     "data": {
      "text/plain": [
       "<module 'font_utils.load_font' from '/home/digital-tenebrist/ms-data-science/math-637/udel-math-637/utils/font_utils/load_font.py'>"
      ]
     },
     "execution_count": 17,
     "metadata": {},
     "output_type": "execute_result"
    }
   ],
   "source": [
    "import pandas as pd\n",
    "import numpy as np\n",
    "import matplotlib.pyplot as plt\n",
    "\n",
    "from importlib import reload\n",
    "import font_utils.load_font as LF\n",
    "reload(LF)"
   ]
  },
  {
   "cell_type": "markdown",
   "id": "metropolitan-trinidad",
   "metadata": {},
   "source": [
    "## Read Courier Font\n",
    "1. Returns dictionary for each variant with following fields\n",
    "    1. df - pandas data frame with following trimming\n",
    "        1. Retains m_label, and r0c0,...,r19c19 columns only\n",
    "        1. No italic\n",
    "        1. Only a-zA-Z0-9 returned\n",
    "        1. Only min instances of each character based on min for a-zA-Z0-9\n",
    "    1. min_char_count - number of instances of each character"
   ]
  },
  {
   "cell_type": "code",
   "execution_count": 45,
   "id": "engaging-final",
   "metadata": {},
   "outputs": [
    {
     "name": "stdout",
     "output_type": "stream",
     "text": [
      "GARAMOND                  : 2\n"
     ]
    }
   ],
   "source": [
    "lf = LF.LoadFont('garamond')\n",
    "font_dict = lf.get_trimmed_font()\n",
    "for k,v in font_dict.items():\n",
    "    c=v['min_char_count']\n",
    "    print(f'{k:25s} : {c}')"
   ]
  },
  {
   "cell_type": "code",
   "execution_count": 46,
   "id": "subtle-constitution",
   "metadata": {},
   "outputs": [],
   "source": [
    "df = font_dict['GARAMOND']['df']"
   ]
  },
  {
   "cell_type": "code",
   "execution_count": 47,
   "id": "contrary-acrobat",
   "metadata": {},
   "outputs": [
    {
     "data": {
      "image/png": "[encoded data removed]",
      "text/plain": [
       "<Figure size 432x288 with 1 Axes>"
      ]
     },
     "metadata": {
      "needs_background": "light"
     },
     "output_type": "display_data"
    }
   ],
   "source": [
    "ltr_A_ar = df.loc[df.m_label == ord('A')].iloc[0]\n",
    "plt.imshow(np.array(ltr_A_ar[1:], dtype=np.uint8).reshape(20,20))\n",
    "plt.show()"
   ]
  },
  {
   "cell_type": "code",
   "execution_count": null,
   "id": "charged-industry",
   "metadata": {},
   "outputs": [],
   "source": []
  }
 ],
 "metadata": {
  "kernelspec": {
   "display_name": "Python 3",
   "language": "python",
   "name": "python3"
  },
  "language_info": {
   "codemirror_mode": {
    "name": "ipython",
    "version": 3
   },
   "file_extension": ".py",
   "mimetype": "text/x-python",
   "name": "python",
   "nbconvert_exporter": "python",
   "pygments_lexer": "ipython3",
   "version": "3.7.9"
  }
 },
 "nbformat": 4,
 "nbformat_minor": 5
}
