{
 "cells": [
  {
   "cell_type": "markdown",
   "id": "breeding-soldier",
   "metadata": {},
   "source": [
    "# Dimensional Reduction\n",
    "\n",
    "## Run following dimensional reduction algorithms for given fonts\n",
    "1. Principal Component Analysis (PCA)\n",
    "1. IsoMap\n",
    "1. t-SNE"
   ]
  },
  {
   "cell_type": "markdown",
   "id": "dried-anger",
   "metadata": {},
   "source": [
    "## Imports And Globals"
   ]
  },
  {
   "cell_type": "code",
   "execution_count": 85,
   "id": "robust-times",
   "metadata": {},
   "outputs": [
    {
     "data": {
      "text/plain": [
       "<module 'font_utils.char_classes' from '/home/digital-tenebrist/ms-data-science/math-637/udel-math-637/utils/font_utils/char_classes.py'>"
      ]
     },
     "execution_count": 85,
     "metadata": {},
     "output_type": "execute_result"
    }
   ],
   "source": [
    "import pandas as pd\n",
    "import numpy as np\n",
    "import matplotlib.pyplot as plt\n",
    "\n",
    "from sklearn.decomposition import PCA\n",
    "from sklearn.manifold import Isomap\n",
    "from sklearn.manifold import TSNE\n",
    "\n",
    "from importlib import reload\n",
    "import font_utils.load_font as LF\n",
    "import font_utils.upper_lower_numerals as ULN\n",
    "import font_utils.char_classes as CHAR_CLASS\n",
    "\n",
    "reload(LF)\n",
    "reload(CHAR_CLASS)"
   ]
  },
  {
   "cell_type": "markdown",
   "id": "metropolitan-trinidad",
   "metadata": {},
   "source": [
    "## Read Font\n",
    "1. Returns dictionary for each variant with following fields\n",
    "    1. df - pandas data frame with following trimming\n",
    "        1. Retains m_label, and r0c0,...,r19c19 columns only\n",
    "        1. No italic\n",
    "        1. Only a-zA-Z0-9 returned\n",
    "        1. Only min instances of each character based on min for a-zA-Z0-9\n",
    "    1. min_char_count - number of instances of each character"
   ]
  },
  {
   "cell_type": "code",
   "execution_count": 30,
   "id": "engaging-final",
   "metadata": {},
   "outputs": [
    {
     "name": "stdout",
     "output_type": "stream",
     "text": [
      "GARAMOND                  : 2\n"
     ]
    }
   ],
   "source": [
    "lf = LF.LoadFont('garamond')\n",
    "font_dict = lf.get_trimmed_font()\n",
    "for k,v in font_dict.items():\n",
    "    c=v['min_char_count']\n",
    "    print(f'{k:25s} : {c}')"
   ]
  },
  {
   "cell_type": "code",
   "execution_count": 34,
   "id": "contrary-acrobat",
   "metadata": {},
   "outputs": [
    {
     "data": {
      "image/png": "[encoded data removed]",
      "text/plain": [
       "<Figure size 432x288 with 1 Axes>"
      ]
     },
     "metadata": {
      "needs_background": "light"
     },
     "output_type": "display_data"
    }
   ],
   "source": [
    "font_df = font_dict['GARAMOND']['df']\n",
    "\n",
    "ltr_A_ar = font_df.loc[font_df.m_label == ord('z')].iloc[0]\n",
    "plt.imshow(np.array(ltr_A_ar[1:], dtype=np.uint8).reshape(20,20))\n",
    "plt.show()"
   ]
  },
  {
   "cell_type": "code",
   "execution_count": 61,
   "id": "successful-fashion",
   "metadata": {},
   "outputs": [
    {
     "data": {
      "image/png": "[encoded data removed]",
      "text/plain": [
       "<Figure size 432x288 with 1 Axes>"
      ]
     },
     "metadata": {
      "needs_background": "light"
     },
     "output_type": "display_data"
    },
    {
     "name": "stdout",
     "output_type": "stream",
     "text": [
      " Label d\n"
     ]
    }
   ],
   "source": [
    "uln = ULN.UpperLowerNumerals.get_ascii_codes()\n",
    "font_0_lol = [font_df.loc[font_df.m_label == x].iloc[0] for x in uln]\n",
    "font_1_lol = [font_df.loc[font_df.m_label == x].iloc[1] for x in uln]\n",
    "\n",
    "plt.imshow(np.array(font_1_lol[3][1:], dtype=np.uint8).reshape(20,20))\n",
    "plt.show()\n",
    "\n",
    "print(f' Label {chr(font_0_lol[3][0])}')"
   ]
  },
  {
   "cell_type": "code",
   "execution_count": 63,
   "id": "occasional-vancouver",
   "metadata": {},
   "outputs": [],
   "source": [
    "font_0_df = pd.DataFrame(data=font_0_lol)\n",
    "font_1_df = pd.DataFrame(data=font_1_lol)"
   ]
  },
  {
   "cell_type": "code",
   "execution_count": null,
   "id": "elementary-earthquake",
   "metadata": {},
   "outputs": [],
   "source": []
  },
  {
   "cell_type": "markdown",
   "id": "viral-delay",
   "metadata": {},
   "source": [
    "## Perform PCA\n",
    "1. Create PCA object based on given font\n",
    "1. Create dataframe with x,y,char_label for each character\n",
    "1. Create color map which labels similar characters together using knoweldge of fonts\n",
    "1. Create scatter plot with given font and labels"
   ]
  },
  {
   "cell_type": "code",
   "execution_count": 105,
   "id": "located-upgrade",
   "metadata": {},
   "outputs": [
    {
     "name": "stdout",
     "output_type": "stream",
     "text": [
      "Len of eigenvector 400\n",
      "Explained Variance Ratio  : 0.1524\n",
      "Sum of explained variance : 0.8304975162873068\n",
      "Len label_ar 62\n",
      "Len x 62\n",
      "Len y 62\n"
     ]
    },
    {
     "data": {
      "text/plain": [
       "<matplotlib.collections.PathCollection at 0x7f3111ba4190>"
      ]
     },
     "execution_count": 105,
     "metadata": {},
     "output_type": "execute_result"
    },
    {
     "data": {
      "image/png": "[encoded data removed]",
      "text/plain": [
       "<Figure size 432x288 with 1 Axes>"
      ]
     },
     "metadata": {
      "needs_background": "light"
     },
     "output_type": "display_data"
    }
   ],
   "source": [
    "np.set_printoptions(precision=4,floatmode='fixed')\n",
    "\n",
    "label_ar = [chr(x) for x in font_0_df.m_label]\n",
    "\n",
    "df=font_0_df.drop(columns=['m_label'])\n",
    "df=df-df.mean(axis=0)\n",
    "\n",
    "pca = PCA(n_components=20)\n",
    "pca.fit(df)\n",
    "\n",
    "print(f'Len of eigenvector {len(pca.components_[0])}')\n",
    "#print(f'First eigenvector')\n",
    "#print(f'{pca.components_[0]}')\n",
    "\n",
    "#print(f'First eigenvalue          : {pca.singular_values_[0]:0.4f}')\n",
    "print(f'Explained Variance Ratio  : {pca.explained_variance_ratio_[0]:0.4f}')\n",
    "print(f'Sum of explained variance : {sum(pca.explained_variance_ratio_)}')\n",
    "\n",
    "np.set_printoptions()\n",
    "\n",
    "x=df.dot(pca.components_[0])\n",
    "y=df.dot(pca.components_[1])\n",
    "\n",
    "print(f'Len label_ar {len(label_ar)}')\n",
    "print(f'Len x {len(x)}')\n",
    "print(f'Len y {len(y)}')\n",
    "\n",
    "plot_df = pd.DataFrame([np.array(label_ar).transpose(), x.transpose(), y.transpose()]).transpose()\n",
    "plot_df.columns=['m_label', 'x', 'y']\n",
    "\n",
    "char_class = CHAR_CLASS.CharClass()\n",
    "color_dict = char_class.get_color_map()\n",
    "plot_df['color'] = plot_df['m_label'].apply(lambda x: color_dict[x])\n",
    "\n",
    "plt.title(\"Garamond PCA\")\n",
    "plt.xlabel(\"Eigen 0\")\n",
    "plt.ylabel(\"Eigen 1\")\n",
    "plt.grid()\n",
    "\n",
    "plt.scatter(plot_df.x,plot_df.y, c=plot_df.color)"
   ]
  },
  {
   "cell_type": "code",
   "execution_count": 106,
   "id": "proper-swing",
   "metadata": {},
   "outputs": [
    {
     "name": "stdout",
     "output_type": "stream",
     "text": [
      "a : green : (250.9,-619.9)\n",
      "b : blue : (-587.2,806.7)\n",
      "c : red : (-789.1,-106.7)\n",
      "d : blue : (-498.7,-445.2)\n",
      "e : green : (-819.6,-363.4)\n",
      "f : green : (290.7,894.9)\n",
      "g : green : (-330.0,-3.0)\n",
      "h : blue : (-445.8,836.9)\n",
      "i : blue : (1293.0,-569.2)\n",
      "j : green : (-47.4,-1100.9)\n",
      "k : blue : (67.3,935.9)\n",
      "l : blue : (1837.9,-689.1)\n",
      "m : orange : (-79.3,-780.3)\n",
      "n : orange : (-706.3,524.8)\n",
      "o : red : (-1350.2,-896.1)\n",
      "p : blue : (-510.8,706.5)\n",
      "q : blue : (-365.8,-389.0)\n",
      "r : blue : (834.6,312.8)\n",
      "s : green : (-662.8,-545.2)\n",
      "t : blue : (591.0,724.6)\n",
      "u : orange : (-662.8,657.0)\n",
      "v : orange : (720.9,310.7)\n",
      "w : orange : (597.4,125.0)\n",
      "x : orange : (747.2,317.7)\n",
      "y : orange : (674.3,360.2)\n",
      "z : orange : (323.5,113.6)\n",
      "A : orange : (519.7,-195.6)\n",
      "B : blue : (-506.0,720.2)\n",
      "C : red : (-488.3,-280.1)\n",
      "D : blue : (-942.7,324.8)\n",
      "E : blue : (-158.6,1035.2)\n",
      "F : blue : (-181.6,1199.9)\n",
      "G : red : (-872.6,-621.6)\n",
      "H : blue : (-661.5,582.6)\n",
      "I : blue : (1777.4,-635.2)\n",
      "J : green : (475.1,-501.9)\n",
      "K : blue : (101.6,557.9)\n",
      "L : blue : (117.8,1164.5)\n",
      "M : orange : (20.1,190.3)\n",
      "N : orange : (99.1,131.0)\n",
      "O : red : (-1073.6,-862.4)\n",
      "P : blue : (-31.6,785.5)\n",
      "Q : red : (-441.8,-623.4)\n",
      "R : blue : (337.1,695.5)\n",
      "S : green : (-324.0,-350.3)\n",
      "T : blue : (1048.3,-491.1)\n",
      "U : orange : (-558.9,523.6)\n",
      "V : orange : (647.8,335.0)\n",
      "W : orange : (558.6,12.8)\n",
      "X : orange : (750.0,336.9)\n",
      "Y : orange : (845.7,145.0)\n",
      "Z : orange : (465.2,48.1)\n",
      "0 : red : (-1403.6,-843.4)\n",
      "1 : blue : (1523.8,-948.4)\n",
      "2 : green : (-68.7,-323.4)\n",
      "3 : green : (-207.3,-656.0)\n",
      "4 : orange : (527.8,-618.9)\n",
      "5 : green : (-423.0,-279.4)\n",
      "6 : red : (-909.2,-244.6)\n",
      "7 : orange : (661.5,-314.2)\n",
      "8 : red : (-866.9,-518.5)\n",
      "9 : red : (-729.3,-599.5)\n"
     ]
    }
   ],
   "source": [
    "for i in range(len(x)):\n",
    "    char = plot_df.iloc[i]\n",
    "    print(f'{char[0]} : {char[3]} : ({char[1]:0.1f},{char[2]:0.1f})')"
   ]
  },
  {
   "cell_type": "markdown",
   "id": "national-philadelphia",
   "metadata": {},
   "source": [
    "## Perform IsoMap\n",
    "1. Create Isomap object on given font\n",
    "1. Create dataframe with x,y,char_label for each character\n",
    "1. Create color map which labels similar characters together using knoweldge of fonts\n",
    "1. Create scatter plot with given font and labels"
   ]
  },
  {
   "cell_type": "code",
   "execution_count": null,
   "id": "consecutive-press",
   "metadata": {},
   "outputs": [],
   "source": []
  },
  {
   "cell_type": "markdown",
   "id": "covered-transfer",
   "metadata": {},
   "source": [
    "## Perform t-SNE\n",
    "1. Create TSNE object on given font\n",
    "1. Create dataframe with x,y,char_label for each character\n",
    "1. Create color map which labels similar characters together using knoweldge of fonts\n",
    "1. Create scatter plot with given font and labels"
   ]
  },
  {
   "cell_type": "code",
   "execution_count": null,
   "id": "visible-honduras",
   "metadata": {},
   "outputs": [],
   "source": []
  }
 ],
 "metadata": {
  "kernelspec": {
   "display_name": "Python 3",
   "language": "python",
   "name": "python3"
  },
  "language_info": {
   "codemirror_mode": {
    "name": "ipython",
    "version": 3
   },
   "file_extension": ".py",
   "mimetype": "text/x-python",
   "name": "python",
   "nbconvert_exporter": "python",
   "pygments_lexer": "ipython3",
   "version": "3.7.9"
  }
 },
 "nbformat": 4,
 "nbformat_minor": 5
}
