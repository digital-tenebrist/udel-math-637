{
 "cells": [
  {
   "cell_type": "markdown",
   "id": "facial-calvin",
   "metadata": {},
   "source": [
    "# Problem 8\n",
    "\n",
    "1. The other file in the folder, nytimes.csv is a classical PCA dataset. \n",
    "1. The first row in this file is a list of words that appear in a collection of NY times articles\n",
    "    1. Except the very first entry, which is a label for the first column\n",
    "1. The first column is a set of labels, ”art” or ”music,” indicating the subject of the articles. \n",
    "1. Each row of the file contains the count of how many times the corresponding word appears in the corresponding article. \n",
    "1. Use PCA to draw a low-dimensional scatter plot of this data where points are colored by the type of article. \n",
    "\n",
    "1. Does this provide a good separation of the article types?\n",
    "    1. If you don’t think so, it may help to normalize your data in some way, as PCA is not scale invariant. \n",
    "    1. Can you find a reasonable normalization of the data that makes you happy with the separation of the different article types? \n",
    "    1. Here, the word normalization means scaling the various sensor values in a way that keeps some sensors from drowning others out.\n",
    "    1. And reasonable means that you can justify the choice of normalization in terms of the type of data, rather than because it gives you the right answer. \n",
    "    1. Ideally, have a good justification before you check that it works."
   ]
  },
  {
   "cell_type": "markdown",
   "id": "hundred-judgment",
   "metadata": {},
   "source": [
    "## Imports And Globals"
   ]
  },
  {
   "cell_type": "code",
   "execution_count": 19,
   "id": "accepting-sullivan",
   "metadata": {},
   "outputs": [],
   "source": [
    "import pandas as pd\n",
    "import numpy as np\n",
    "from sklearn.decomposition import PCA\n",
    "from matplotlib.pyplot import scatter\n",
    "\n",
    "DATA_DIR='/data/udel-ms-data-science/math-637'\n",
    "NYTIMES='nytimes.csv'"
   ]
  },
  {
   "cell_type": "code",
   "execution_count": 2,
   "id": "physical-milan",
   "metadata": {},
   "outputs": [],
   "source": [
    "nytimes_df = pd.read_csv(f'{DATA_DIR}/{NYTIMES}')"
   ]
  },
  {
   "cell_type": "code",
   "execution_count": 14,
   "id": "tribal-replacement",
   "metadata": {},
   "outputs": [],
   "source": [
    "col_names = nytimes_df.columns.tolist()"
   ]
  },
  {
   "cell_type": "code",
   "execution_count": 12,
   "id": "extended-cloud",
   "metadata": {},
   "outputs": [
    {
     "data": {
      "text/html": [
       "<div>\n",
       "<style scoped>\n",
       "    .dataframe tbody tr th:only-of-type {\n",
       "        vertical-align: middle;\n",
       "    }\n",
       "\n",
       "    .dataframe tbody tr th {\n",
       "        vertical-align: top;\n",
       "    }\n",
       "\n",
       "    .dataframe thead th {\n",
       "        text-align: right;\n",
       "    }\n",
       "</style>\n",
       "<table border=\"1\" class=\"dataframe\">\n",
       "  <thead>\n",
       "    <tr style=\"text-align: right;\">\n",
       "      <th></th>\n",
       "      <th>class.labels</th>\n",
       "      <th>X.</th>\n",
       "      <th>X.d</th>\n",
       "      <th>X.nd</th>\n",
       "      <th>X.s</th>\n",
       "      <th>X.th</th>\n",
       "      <th>X.this</th>\n",
       "      <th>a</th>\n",
       "      <th>abandoned</th>\n",
       "      <th>abc</th>\n",
       "      <th>...</th>\n",
       "      <th>yorkers</th>\n",
       "      <th>yorks</th>\n",
       "      <th>you</th>\n",
       "      <th>young</th>\n",
       "      <th>younger</th>\n",
       "      <th>your</th>\n",
       "      <th>youre</th>\n",
       "      <th>youth</th>\n",
       "      <th>youthful</th>\n",
       "      <th>yu</th>\n",
       "    </tr>\n",
       "  </thead>\n",
       "  <tbody>\n",
       "  </tbody>\n",
       "</table>\n",
       "<p>0 rows × 4432 columns</p>\n",
       "</div>"
      ],
      "text/plain": [
       "Empty DataFrame\n",
       "Columns: [class.labels, X., X.d, X.nd, X.s, X.th, X.this, a, abandoned, abc, ability, able, about, above, abroad, absorbed, absorbing, abstract, abstraction, abstractions, abundance, academic, academy, accents, accept, access, accessible, acclaimed, accommodate, accompanied, accompanying, according, accordingly, account, accounted, accused, achieved, achievement, acknowledge, acknowledged, acquired, acquisition, acquisitions, acre, across, acrylics, act, acted, acting, action, actions, active, activities, actor, actors, actress, acts, actually, adam, adams, adamss, adaptation, add, added, adding, addition, additional, address, addresses, adds, adhering, adjacent, administration, admired, admission, admits, adopted, ads, adults, advance, advanced, advantage, adventure, adventurous, advertisements, advertising, advice, advised, adviser, advising, advocates, aesthetic, affair, affairs, affect, affected, affection, afford, afraid, africa, ...]\n",
       "Index: []\n",
       "\n",
       "[0 rows x 4432 columns]"
      ]
     },
     "execution_count": 12,
     "metadata": {},
     "output_type": "execute_result"
    }
   ],
   "source": [
    "nytimes_df.iloc[nytimes_df[(nytimes_df.isnull().sum(axis=1) >= 1)].index]"
   ]
  },
  {
   "cell_type": "markdown",
   "id": "piano-nomination",
   "metadata": {},
   "source": [
    "### Create DataFrame With Indices\n",
    "\n",
    "1. Original dataframe has the label\n",
    "1. Extract out (x,y) using pca components using dot product of each row\n",
    "1. Mate the label back to each (x,y) and then use that to color each point in scatterplot"
   ]
  },
  {
   "cell_type": "code",
   "execution_count": 21,
   "id": "collaborative-jungle",
   "metadata": {},
   "outputs": [
    {
     "name": "stdout",
     "output_type": "stream",
     "text": [
      "Len of eigenvector 4431\n",
      "First eigenvector\n",
      "[8.7411e-02 2.0885e-05 1.0965e-03 ... 2.9859e-04 3.0140e-04 2.3125e-04]\n",
      "First eigenvalue          : 506.7180\n",
      "Explained Variance Ratio  : 0.6364\n",
      "Sum of explained variance : 0.6831776217393166\n",
      "Type of x <class 'pandas.core.series.Series'>\n"
     ]
    },
    {
     "data": {
      "text/plain": [
       "<matplotlib.collections.PathCollection at 0x7fc64d081650>"
      ]
     },
     "execution_count": 21,
     "metadata": {},
     "output_type": "execute_result"
    },
    {
     "data": {
      "image/png": "[encoded data removed]",
      "text/plain": [
       "<Figure size 432x288 with 1 Axes>"
      ]
     },
     "metadata": {
      "needs_background": "light"
     },
     "output_type": "display_data"
    }
   ],
   "source": [
    "np.set_printoptions(precision=4,floatmode='fixed')\n",
    "\n",
    "df=nytimes_df[col_names[1:]]\n",
    "df=df-df.mean(axis=0)\n",
    "\n",
    "pca = PCA(n_components=2)\n",
    "pca.fit(df)\n",
    "\n",
    "print(f'Len of eigenvector {len(pca.components_[0])}')\n",
    "print(f'First eigenvector')\n",
    "print(f'{pca.components_[0]}')\n",
    "\n",
    "print(f'First eigenvalue          : {pca.singular_values_[0]:0.4f}')\n",
    "print(f'Explained Variance Ratio  : {pca.explained_variance_ratio_[0]:0.4f}')\n",
    "print(f'Sum of explained variance : {sum(pca.explained_variance_ratio_)}')\n",
    "\n",
    "np.set_printoptions()\n",
    "\n",
    "x=df.dot(pca.components_[0])\n",
    "y=df.dot(pca.components_[1])\n",
    "\n",
    "print(f'Type of x {type(x)}')\n",
    "scatter(x,y)"
   ]
  },
  {
   "cell_type": "code",
   "execution_count": null,
   "id": "cardiac-break",
   "metadata": {},
   "outputs": [],
   "source": []
  }
 ],
 "metadata": {
  "kernelspec": {
   "display_name": "Python 3",
   "language": "python",
   "name": "python3"
  },
  "language_info": {
   "codemirror_mode": {
    "name": "ipython",
    "version": 3
   },
   "file_extension": ".py",
   "mimetype": "text/x-python",
   "name": "python",
   "nbconvert_exporter": "python",
   "pygments_lexer": "ipython3",
   "version": "3.7.9"
  }
 },
 "nbformat": 4,
 "nbformat_minor": 5
}
